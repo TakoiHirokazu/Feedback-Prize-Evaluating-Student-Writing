{
 "cells": [
  {
   "cell_type": "code",
   "execution_count": 1,
   "id": "3365ac45",
   "metadata": {},
   "outputs": [
    {
     "name": "stderr",
     "output_type": "stream",
     "text": [
      "2022-02-27 03:00:17.901464: I tensorflow/stream_executor/platform/default/dso_loader.cc:49] Successfully opened dynamic library libcudart.so.11.0\n"
     ]
    }
   ],
   "source": [
    "# ========================================\n",
    "# library\n",
    "# ========================================\n",
    "import pandas as pd\n",
    "import numpy as np\n",
    "import matplotlib.pyplot as plt\n",
    "from sklearn.model_selection import StratifiedKFold, KFold,GroupKFold\n",
    "from sklearn.metrics import mean_squared_error\n",
    "%matplotlib inline\n",
    "import torch\n",
    "import torch.nn as nn\n",
    "from torch.utils.data import Dataset, DataLoader, Subset\n",
    "import transformers\n",
    "from transformers import LongformerTokenizer, LongformerModel,AutoTokenizer,RobertaModel,BartModel,DebertaModel\n",
    "from transformers import AdamW, get_linear_schedule_with_warmup\n",
    "from torch.cuda.amp import autocast, GradScaler\n",
    "import logging\n",
    "from ast import literal_eval\n",
    "import sys\n",
    "from contextlib import contextmanager\n",
    "import time\n",
    "import random\n",
    "from tqdm import tqdm\n",
    "import os"
   ]
  },
  {
   "cell_type": "code",
   "execution_count": 2,
   "id": "3e51c338",
   "metadata": {},
   "outputs": [],
   "source": [
    "# ==================\n",
    "# Constant\n",
    "# ==================\n",
    "ex = \"067\"\n",
    "TRAIN_PATH = \"../data/train.csv\"\n",
    "DATA_DIR = \"../data/deberta-large/\"\n",
    "if not os.path.exists(f\"../output/exp/ex{ex}\"):\n",
    "    os.makedirs(f\"../output/exp/ex{ex}\")\n",
    "    os.makedirs(f\"../output/exp/ex{ex}/ex{ex}_model\")\n",
    "    \n",
    "OUTPUT_DIR = f\"../output/exp/ex{ex}\"\n",
    "MODEL_PATH_BASE = f\"../output/exp/ex{ex}/ex{ex}_model/ex{ex}\"\n",
    "LOGGER_PATH = f\"../output/exp/ex{ex}/ex{ex}.txt\"\n",
    "device = torch.device(\"cuda\" if torch.cuda.is_available() else \"cpu\")"
   ]
  },
  {
   "cell_type": "code",
   "execution_count": 3,
   "id": "2e4d1712",
   "metadata": {},
   "outputs": [],
   "source": [
    "# ===============\n",
    "# Configs\n",
    "# ===============\n",
    "SEED = 0\n",
    "N_SPLITS = 5\n",
    "SHUFFLE = True\n",
    "num_workers = 4\n",
    "BATCH_SIZE = 4\n",
    "\n",
    "n_epochs = 6\n",
    "max_len = 1024\n",
    "weight_decay = 0.1\n",
    "beta = (0.9, 0.98)\n",
    "lr = 2e-5\n",
    "num_warmup_steps_rate = 0.1\n",
    "\n",
    "MODEL_PATH = 'microsoft/deberta-large'\n",
    "tokenizer = AutoTokenizer.from_pretrained(MODEL_PATH)"
   ]
  },
  {
   "cell_type": "code",
   "execution_count": 4,
   "id": "701cce4f",
   "metadata": {},
   "outputs": [
    {
     "name": "stderr",
     "output_type": "stream",
     "text": [
      "2022-02-27 03:00:31,317 - INFO - logger set up\n"
     ]
    },
    {
     "data": {
      "text/plain": [
       "<RootLogger root (DEBUG)>"
      ]
     },
     "execution_count": 4,
     "metadata": {},
     "output_type": "execute_result"
    }
   ],
   "source": [
    "# ===============\n",
    "# Functions\n",
    "# ===============\n",
    "def set_seed(seed: int = 42):\n",
    "    random.seed(seed)\n",
    "    np.random.seed(seed)\n",
    "    os.environ[\"PYTHONHASHSEED\"] = str(seed)\n",
    "    torch.manual_seed(seed)\n",
    "    torch.cuda.manual_seed(seed)\n",
    "    torch.backends.cudnn.deterministic = True\n",
    "    torch.backends.cudnn.benchmark = False\n",
    "\n",
    "def setup_logger(out_file=None, stderr=True, stderr_level=logging.INFO, file_level=logging.DEBUG):\n",
    "    LOGGER.handlers = []\n",
    "    LOGGER.setLevel(min(stderr_level, file_level))\n",
    "\n",
    "    if stderr:\n",
    "        handler = logging.StreamHandler(sys.stderr)\n",
    "        handler.setFormatter(FORMATTER)\n",
    "        handler.setLevel(stderr_level)\n",
    "        LOGGER.addHandler(handler)\n",
    "\n",
    "    if out_file is not None:\n",
    "        handler = logging.FileHandler(out_file)\n",
    "        handler.setFormatter(FORMATTER)\n",
    "        handler.setLevel(file_level)\n",
    "        LOGGER.addHandler(handler)\n",
    "\n",
    "    LOGGER.info(\"logger set up\")\n",
    "    return LOGGER\n",
    "\n",
    "\n",
    "@contextmanager\n",
    "def timer(name):\n",
    "    t0 = time.time()\n",
    "    yield \n",
    "    LOGGER.info(f'[{name}] done in {time.time() - t0:.0f} s')\n",
    "    \n",
    "    \n",
    "LOGGER = logging.getLogger()\n",
    "FORMATTER = logging.Formatter(\"%(asctime)s - %(levelname)s - %(message)s\")\n",
    "setup_logger(out_file=LOGGER_PATH)"
   ]
  },
  {
   "cell_type": "code",
   "execution_count": 5,
   "id": "6be75921",
   "metadata": {},
   "outputs": [],
   "source": [
    "class TrainDataset(Dataset):\n",
    "    def __init__(self, token,attentiona_mask,label=None):\n",
    "        self.len = len(token)\n",
    "        self.token = token\n",
    "        self.attention_mask = attentiona_mask\n",
    "        self.label = label\n",
    "        #self.get_wids = get_wids # for validation\n",
    "\n",
    "    def __getitem__(self, index):\n",
    "        # GET TEXT AND WORD LABELS \n",
    "        if self.label is not None:\n",
    "            return {\n",
    "              'token': torch.tensor(self.token[index], dtype=torch.long),\n",
    "              'mask': torch.tensor(self.attention_mask[index], dtype=torch.long),\n",
    "              \"y\":torch.tensor(self.label[index], dtype=torch.float32)\n",
    "               }\n",
    "        else:\n",
    "            return {\n",
    "              'token': torch.tensor(self.token[index], dtype=torch.long),\n",
    "              'mask': torch.tensor(self.attention_mask[index], dtype=torch.long),\n",
    "               }\n",
    "\n",
    "    def __len__(self):\n",
    "        return self.len\n",
    "\n",
    "class custom_model(nn.Module):\n",
    "    def __init__(self):\n",
    "        super(custom_model, self).__init__()\n",
    "        self.backbone = DebertaModel.from_pretrained(\n",
    "            MODEL_PATH, \n",
    "        )\n",
    "        \n",
    "        #self.dropout = nn.Dropout(p=0.2)\n",
    "        self.ln = nn.LayerNorm(1024)\n",
    "        \n",
    "        self.conv1= nn.Conv1d(1024, 512, kernel_size=3, padding=1)\n",
    "        self.conv2= nn.Conv1d(1024, 512, kernel_size=9, padding=4)\n",
    "        self.conv3= nn.Conv1d(1024, 512, kernel_size=15, padding=7)\n",
    "        self.conv4= nn.Conv1d(1024, 512, kernel_size=31, padding=15)\n",
    "        self.ln1 = nn.Sequential(nn.LayerNorm(512),\n",
    "                                            nn.ReLU(),\n",
    "                                            nn.Dropout(0.2))\n",
    "        self.ln2 = nn.Sequential( nn.LayerNorm(512),\n",
    "                                            nn.ReLU(),\n",
    "                                            nn.Dropout(0.2))\n",
    "        self.ln3 = nn.Sequential( nn.LayerNorm(512),\n",
    "                                            nn.ReLU(),\n",
    "                                            nn.Dropout(0.2))\n",
    "        self.ln4 = nn.Sequential( nn.LayerNorm(512),\n",
    "                                            nn.ReLU(),\n",
    "                                            nn.Dropout(0.2))\n",
    "        \n",
    "        self.linear1 = nn.Sequential(\n",
    "            nn.Linear(2048,1024),\n",
    "            nn.LayerNorm(1024),\n",
    "            nn.ReLU(),\n",
    "            nn.Dropout(0.2),\n",
    "            nn.Linear(1024,2),\n",
    "        )\n",
    "        self.linear2 = nn.Sequential(\n",
    "            nn.Linear(2048,1024),\n",
    "            nn.LayerNorm(1024),\n",
    "            nn.ReLU(),\n",
    "            nn.Dropout(0.2),\n",
    "            nn.Linear(1024,2),\n",
    "        )\n",
    "        self.linear3 = nn.Sequential(\n",
    "            nn.Linear(2048,1024),\n",
    "            nn.LayerNorm(1024),\n",
    "            nn.ReLU(),\n",
    "            nn.Dropout(0.2),\n",
    "            nn.Linear(1024,2),\n",
    "        )\n",
    "        self.linear4 = nn.Sequential(\n",
    "            nn.Linear(2048,1024),\n",
    "            nn.LayerNorm(1024),\n",
    "            nn.ReLU(),\n",
    "            nn.Dropout(0.2),\n",
    "            nn.Linear(1024,2),\n",
    "        )\n",
    "        self.linear5 = nn.Sequential(\n",
    "            nn.Linear(2048,1024),\n",
    "            nn.LayerNorm(1024),\n",
    "            nn.ReLU(),\n",
    "            nn.Dropout(0.2),\n",
    "            nn.Linear(1024,2),\n",
    "        )\n",
    "        self.linear6 = nn.Sequential(\n",
    "            nn.Linear(2048,1024),\n",
    "            nn.LayerNorm(1024),\n",
    "            nn.ReLU(),\n",
    "            nn.Dropout(0.2),\n",
    "            nn.Linear(1024,2),\n",
    "        )\n",
    "        self.linear7 = nn.Sequential(\n",
    "            nn.Linear(2048,1024),\n",
    "            nn.LayerNorm(1024),\n",
    "            nn.ReLU(),\n",
    "            nn.Dropout(0.2),\n",
    "            nn.Linear(1024,2),\n",
    "        )\n",
    "        self.linear8 = nn.Sequential(\n",
    "            nn.Linear(2048,1024),\n",
    "            nn.LayerNorm(1024),\n",
    "            nn.ReLU(),\n",
    "            nn.Dropout(0.2),\n",
    "            nn.Linear(1024,1),\n",
    "        )\n",
    "    def forward(self, ids, mask):\n",
    "        # pooler\n",
    "        emb = self.backbone(ids, attention_mask=mask)[\"last_hidden_state\"]\n",
    "        output = self.ln(emb)\n",
    "        output = output.permute((0, 2, 1)).contiguous()\n",
    "        output1 = self.conv1(output)\n",
    "        output1 = self.ln1(output1.permute((0, 2, 1)).contiguous())\n",
    "        output2 = self.conv2(output)\n",
    "        output2 = self.ln2(output2.permute((0, 2, 1)).contiguous())\n",
    "        output3 = self.conv3(output)\n",
    "        output3 = self.ln3(output3.permute((0, 2, 1)).contiguous())\n",
    "        output4 = self.conv4(output)\n",
    "        output4 = self.ln4(output4.permute((0, 2, 1)).contiguous())\n",
    "        output_concat = torch.cat([output1,output2,output3,output4],axis=-1)\n",
    "        output2_1 = self.linear1(output_concat)\n",
    "        output2_2 = self.linear2(output_concat)\n",
    "        output2_3 = self.linear3(output_concat)\n",
    "        output2_4 = self.linear4(output_concat)\n",
    "        output2_5 = self.linear5(output_concat)\n",
    "        output2_6 = self.linear6(output_concat)\n",
    "        output2_7= self.linear7(output_concat)\n",
    "        output2_8 = self.linear8(output_concat)\n",
    "        out = torch.cat(\n",
    "            [output2_1,output2_2,output2_3,output2_4,\n",
    "             output2_5,output2_6,output2_7,output2_8], axis=2)\n",
    "        return out"
   ]
  },
  {
   "cell_type": "code",
   "execution_count": 6,
   "id": "478db8ed",
   "metadata": {},
   "outputs": [],
   "source": [
    "target_map_rev = {0:'Lead', 1:'Position', 2:'Evidence', 3:'Claim', 4:'Concluding Statement',\n",
    "             5:'Counterclaim', 6:'Rebuttal', 7:'blank'}\n",
    "\n",
    "def get_preds_collate(dataset, verbose,text_ids, preds, preds_len):\n",
    "    all_predictions = []\n",
    "\n",
    "    for id_num in tqdm(range(len(preds))):\n",
    "    \n",
    "        # GET ID\n",
    "        #if (id_num%100==0)&(verbose): \n",
    "        #    print(id_num,', ',end='')\n",
    "        n = text_ids[id_num]\n",
    "        max_len = int(preds_len[id_num])\n",
    "        # GET TOKEN POSITIONS IN CHARS\n",
    "        name = f'../data/{dataset}/{n}.txt'\n",
    "        txt = open(name, 'r').read()\n",
    "        tokens = tokenizer.encode_plus(txt, max_length=max_len, padding='max_length',\n",
    "                                   truncation=True, return_offsets_mapping=True)\n",
    "        off = tokens['offset_mapping']\n",
    "    \n",
    "        # GET WORD POSITIONS IN CHARS\n",
    "        w = []\n",
    "        blank = True\n",
    "        for i in range(len(txt)):\n",
    "            if (txt[i]!=' ')&(txt[i]!='\\n')&(txt[i]!='\\xa0')&(txt[i]!='\\x85')&(blank==True):\n",
    "                w.append(i)\n",
    "                blank=False\n",
    "            elif (txt[i]==' ')|(txt[i]=='\\n')|(txt[i]=='\\xa0')|(txt[i]=='\\x85'):\n",
    "                blank=True\n",
    "        w.append(1e6)\n",
    "            \n",
    "        # MAPPING FROM TOKENS TO WORDS\n",
    "        word_map = -1 * np.ones(max_len,dtype='int32')\n",
    "        w_i = 0\n",
    "        for i in range(len(off)):\n",
    "            if off[i][1]==0: continue\n",
    "            while off[i][0]>=w[w_i+1]: w_i += 1\n",
    "            word_map[i] = int(w_i)\n",
    "        \n",
    "        # CONVERT TOKEN PREDICTIONS INTO WORD LABELS\n",
    "        ### KEY: ###\n",
    "        # 0: LEAD_B, 1: LEAD_I\n",
    "        # 2: POSITION_B, 3: POSITION_I\n",
    "        # 4: EVIDENCE_B, 5: EVIDENCE_I\n",
    "        # 6: CLAIM_B, 7: CLAIM_I\n",
    "        # 8: CONCLUSION_B, 9: CONCLUSION_I\n",
    "        # 10: COUNTERCLAIM_B, 11: COUNTERCLAIM_I\n",
    "        # 12: REBUTTAL_B, 13: REBUTTAL_I\n",
    "        # 14: NOTHING i.e. O\n",
    "        ### NOTE THESE VALUES ARE DIVIDED BY 2 IN NEXT CODE LINE\n",
    "        pred = preds[id_num,]/2.0\n",
    "    \n",
    "        i = 0\n",
    "        while i<max_len:\n",
    "            prediction = []\n",
    "            start = pred[i]\n",
    "            if start in [0,1,2,3,4,5,6,7]:\n",
    "                prediction.append(word_map[i])\n",
    "                i += 1\n",
    "                if i>=max_len: break\n",
    "                while pred[i]==start+0.5:\n",
    "                    if not word_map[i] in prediction:\n",
    "                        prediction.append(word_map[i])\n",
    "                    i += 1\n",
    "                    if i>=max_len: break\n",
    "            else:\n",
    "                i += 1\n",
    "            prediction = [x for x in prediction if x!=-1]\n",
    "            if len(prediction)>4:\n",
    "                all_predictions.append( (n, target_map_rev[int(start)], \n",
    "                                ' '.join([str(x) for x in prediction]) ) )\n",
    "                \n",
    "    # MAKE DATAFRAME\n",
    "    df = pd.DataFrame(all_predictions)\n",
    "    df.columns = ['id','class','predictionstring']\n",
    "    \n",
    "    return df\n",
    "\n",
    "\n",
    "def calc_overlap(row):\n",
    "    \"\"\"\n",
    "    Calculates the overlap between prediction and\n",
    "    ground truth and overlap percentages used for determining\n",
    "    true positives.\n",
    "    \"\"\"\n",
    "    set_pred = set(row.predictionstring_pred.split(' '))\n",
    "    set_gt = set(row.predictionstring_gt.split(' '))\n",
    "    # Length of each and intersection\n",
    "    len_gt = len(set_gt)\n",
    "    len_pred = len(set_pred)\n",
    "    inter = len(set_gt.intersection(set_pred))\n",
    "    overlap_1 = inter / len_gt\n",
    "    overlap_2 = inter/ len_pred\n",
    "    return [overlap_1, overlap_2]\n",
    "\n",
    "\n",
    "def score_feedback_comp(pred_df, gt_df):\n",
    "    \"\"\"\n",
    "    A function that scores for the kaggle\n",
    "        Student Writing Competition\n",
    "        \n",
    "    Uses the steps in the evaluation page here:\n",
    "        https://www.kaggle.com/c/feedback-prize-2021/overview/evaluation\n",
    "    \"\"\"\n",
    "    gt_df = gt_df[['id','discourse_type','predictionstring']] \\\n",
    "        .reset_index(drop=True).copy()\n",
    "    pred_df = pred_df[['id','class','predictionstring']] \\\n",
    "        .reset_index(drop=True).copy()\n",
    "    pred_df['pred_id'] = pred_df.index\n",
    "    gt_df['gt_id'] = gt_df.index\n",
    "    # Step 1. all ground truths and predictions for a given class are compared.\n",
    "    joined = pred_df.merge(gt_df,\n",
    "                           left_on=['id','class'],\n",
    "                           right_on=['id','discourse_type'],\n",
    "                           how='outer',\n",
    "                           suffixes=('_pred','_gt')\n",
    "                          )\n",
    "    joined['predictionstring_gt'] = joined['predictionstring_gt'].fillna(' ')\n",
    "    joined['predictionstring_pred'] = joined['predictionstring_pred'].fillna(' ')\n",
    "\n",
    "    joined['overlaps'] = joined.apply(calc_overlap, axis=1)\n",
    "\n",
    "    # 2. If the overlap between the ground truth and prediction is >= 0.5, \n",
    "    # and the overlap between the prediction and the ground truth >= 0.5,\n",
    "    # the prediction is a match and considered a true positive.\n",
    "    # If multiple matches exist, the match with the highest pair of overlaps is taken.\n",
    "    joined['overlap1'] = joined['overlaps'].apply(lambda x: eval(str(x))[0])\n",
    "    joined['overlap2'] = joined['overlaps'].apply(lambda x: eval(str(x))[1])\n",
    "\n",
    "\n",
    "    joined['potential_TP'] = (joined['overlap1'] >= 0.5) & (joined['overlap2'] >= 0.5)\n",
    "    joined['max_overlap'] = joined[['overlap1','overlap2']].max(axis=1)\n",
    "    tp_pred_ids = joined.query('potential_TP') \\\n",
    "        .sort_values('max_overlap', ascending=False) \\\n",
    "        .groupby(['id','predictionstring_gt']).first()['pred_id'].values\n",
    "\n",
    "    # 3. Any unmatched ground truths are false negatives\n",
    "    # and any unmatched predictions are false positives.\n",
    "    fp_pred_ids = [p for p in joined['pred_id'].unique() if p not in tp_pred_ids]\n",
    "\n",
    "    matched_gt_ids = joined.query('potential_TP')['gt_id'].unique()\n",
    "    unmatched_gt_ids = [c for c in joined['gt_id'].unique() if c not in matched_gt_ids]\n",
    "\n",
    "    # Get numbers of each type\n",
    "    TP = len(tp_pred_ids)\n",
    "    FP = len(fp_pred_ids)\n",
    "    FN = len(unmatched_gt_ids)\n",
    "    #calc microf1\n",
    "    my_f1_score = TP / (TP + 0.5*(FP+FN))\n",
    "    return my_f1_score\n",
    "\n",
    "def collate(d,train=True):\n",
    "    mask_len = int(d[\"mask\"].sum(axis=1).max())\n",
    "    if train:\n",
    "        return {\"token\" : d['token'][:,:mask_len],\n",
    "                 \"mask\" : d['mask'][:,:mask_len],\n",
    "                 \"y\" : d['y'][:,:mask_len],\n",
    "                  \"max_len\" : mask_len}\n",
    "    else:\n",
    "        return {\"token\" : d['token'][:,:mask_len],\n",
    "                 \"mask\" : d['mask'][:,:mask_len],\n",
    "                  \"max_len\" : mask_len}"
   ]
  },
  {
   "cell_type": "code",
   "execution_count": 7,
   "id": "dc49ace3",
   "metadata": {},
   "outputs": [],
   "source": [
    "# ================================\n",
    "# Main\n",
    "# ================================\n",
    "train = pd.read_csv(TRAIN_PATH)\n",
    "IDS = train.id.unique()\n",
    "id_array = np.array(IDS)"
   ]
  },
  {
   "cell_type": "code",
   "execution_count": 11,
   "id": "d0bc44ae",
   "metadata": {},
   "outputs": [],
   "source": [
    "targets = np.load(DATA_DIR + f\"targets_{max_len}.npy\")\n",
    "train_tokens = np.load(DATA_DIR + f\"tokens_{max_len}.npy\")\n",
    "train_attention = np.load(DATA_DIR + f\"attention_{max_len}.npy\")"
   ]
  },
  {
   "cell_type": "code",
   "execution_count": null,
   "id": "2278929f",
   "metadata": {},
   "outputs": [
    {
     "name": "stdout",
     "output_type": "stream",
     "text": [
      "fold0:start\n"
     ]
    },
    {
     "name": "stderr",
     "output_type": "stream",
     "text": [
      "Some weights of the model checkpoint at microsoft/deberta-large were not used when initializing DebertaModel: ['lm_predictions.lm_head.bias', 'lm_predictions.lm_head.LayerNorm.weight', 'lm_predictions.lm_head.dense.bias', 'lm_predictions.lm_head.dense.weight', 'lm_predictions.lm_head.LayerNorm.bias']\n",
      "- This IS expected if you are initializing DebertaModel from the checkpoint of a model trained on another task or with another architecture (e.g. initializing a BertForSequenceClassification model from a BertForPreTraining model).\n",
      "- This IS NOT expected if you are initializing DebertaModel from the checkpoint of a model that you expect to be exactly identical (initializing a BertForSequenceClassification model from a BertForSequenceClassification model).\n"
     ]
    },
    {
     "name": "stdout",
     "output_type": "stream",
     "text": [
      "============start epoch:0==============\n"
     ]
    },
    {
     "name": "stderr",
     "output_type": "stream",
     "text": [
      "100%|██████████| 3119/3119 [30:21<00:00,  1.71it/s]\n",
      "100%|██████████| 780/780 [02:23<00:00,  5.45it/s]\n",
      "100%|██████████| 3119/3119 [00:19<00:00, 163.71it/s]\n",
      "2022-02-27 03:33:53,867 - INFO - Note: NumExpr detected 12 cores but \"NUMEXPR_MAX_THREADS\" not set, so enforcing safe limit of 8.\n",
      "2022-02-27 03:33:53,868 - INFO - NumExpr defaulting to 8 threads.\n"
     ]
    },
    {
     "name": "stdout",
     "output_type": "stream",
     "text": [
      "\n",
      "Lead 0.8104784816893879\n",
      "Claim 0.5606449686473575\n",
      "Evidence 0.670096463022508\n",
      "Position 0.6837307152875175\n"
     ]
    },
    {
     "name": "stderr",
     "output_type": "stream",
     "text": [
      "2022-02-27 03:33:56,958 - INFO - 0,0:3118,val_score:0.6032909794492518\n"
     ]
    },
    {
     "name": "stdout",
     "output_type": "stream",
     "text": [
      "Concluding Statement 0.7619047619047619\n",
      "Counterclaim 0.4103896103896104\n",
      "Rebuttal 0.3257918552036199\n",
      "save model weight\n",
      "============start epoch:1==============\n"
     ]
    },
    {
     "name": "stderr",
     "output_type": "stream",
     "text": [
      "100%|██████████| 3119/3119 [29:56<00:00,  1.74it/s]\n",
      "100%|██████████| 780/780 [02:23<00:00,  5.45it/s]\n",
      "100%|██████████| 3119/3119 [00:19<00:00, 162.85it/s]\n"
     ]
    },
    {
     "name": "stdout",
     "output_type": "stream",
     "text": [
      "\n",
      "Lead 0.8190069407367859\n",
      "Evidence 0.6874800485219945\n",
      "Claim 0.5856482907299045\n",
      "Position 0.6996317727511836\n"
     ]
    },
    {
     "name": "stderr",
     "output_type": "stream",
     "text": [
      "2022-02-27 04:06:42,956 - INFO - 0,1:3118,val_score:0.6380247509415365\n"
     ]
    },
    {
     "name": "stdout",
     "output_type": "stream",
     "text": [
      "Concluding Statement 0.8129829984544049\n",
      "Counterclaim 0.48014660965180206\n",
      "Rebuttal 0.38127659574468087\n",
      "save model weight\n",
      "============start epoch:2==============\n"
     ]
    },
    {
     "name": "stderr",
     "output_type": "stream",
     "text": [
      "100%|██████████| 3119/3119 [29:56<00:00,  1.74it/s]\n",
      "100%|██████████| 780/780 [02:23<00:00,  5.45it/s]\n",
      "100%|██████████| 3119/3119 [00:19<00:00, 163.92it/s]\n"
     ]
    },
    {
     "name": "stdout",
     "output_type": "stream",
     "text": [
      "\n",
      "Lead 0.8145571313888146\n",
      "Claim 0.6173821758108182\n",
      "Evidence 0.7248795393113174\n",
      "Position 0.7039394460691554\n"
     ]
    },
    {
     "name": "stderr",
     "output_type": "stream",
     "text": [
      "2022-02-27 04:39:34,312 - INFO - 0,2:3118,val_score:0.6653742868493806\n"
     ]
    },
    {
     "name": "stdout",
     "output_type": "stream",
     "text": [
      "Concluding Statement 0.7987711213517665\n",
      "Counterclaim 0.5396984924623116\n",
      "Rebuttal 0.45839210155148097\n",
      "save model weight\n",
      "============start epoch:3==============\n"
     ]
    },
    {
     "name": "stderr",
     "output_type": "stream",
     "text": [
      "100%|██████████| 3119/3119 [29:52<00:00,  1.74it/s]\n",
      "100%|██████████| 780/780 [02:22<00:00,  5.46it/s]\n",
      "100%|██████████| 3119/3119 [00:19<00:00, 161.02it/s]\n"
     ]
    },
    {
     "name": "stdout",
     "output_type": "stream",
     "text": [
      "\n",
      "Lead 0.8195488721804511\n",
      "Position 0.6991015426343448\n",
      "Evidence 0.7182059604603128\n",
      "Claim 0.6137061029662462\n"
     ]
    },
    {
     "name": "stderr",
     "output_type": "stream",
     "text": [
      "2022-02-27 05:12:21,992 - INFO - 0,3:3118,val_score:0.6672592786001316\n"
     ]
    },
    {
     "name": "stdout",
     "output_type": "stream",
     "text": [
      "Concluding Statement 0.806432861848479\n",
      "Counterclaim 0.5566037735849056\n",
      "Rebuttal 0.45721583652618136\n",
      "save model weight\n",
      "============start epoch:4==============\n"
     ]
    },
    {
     "name": "stderr",
     "output_type": "stream",
     "text": [
      "100%|██████████| 3119/3119 [29:52<00:00,  1.74it/s]\n",
      "100%|██████████| 780/780 [02:22<00:00,  5.46it/s]\n",
      "100%|██████████| 3119/3119 [00:19<00:00, 160.02it/s]\n"
     ]
    },
    {
     "name": "stdout",
     "output_type": "stream",
     "text": [
      "\n",
      "Lead 0.817549491706795\n",
      "Position 0.6937014667817084\n",
      "Claim 0.6138309549945116\n",
      "Evidence 0.7217036172695449\n"
     ]
    },
    {
     "name": "stderr",
     "output_type": "stream",
     "text": [
      "2022-02-27 05:45:10,060 - INFO - 0,4:3118,val_score:0.6636784860233095\n"
     ]
    },
    {
     "name": "stdout",
     "output_type": "stream",
     "text": [
      "Concluding Statement 0.7960257159555816\n",
      "Counterclaim 0.5513666352497644\n",
      "Rebuttal 0.45157152020525976\n",
      "============start epoch:5==============\n"
     ]
    },
    {
     "name": "stderr",
     "output_type": "stream",
     "text": [
      "100%|██████████| 3119/3119 [29:47<00:00,  1.74it/s]\n",
      "100%|██████████| 780/780 [02:23<00:00,  5.45it/s]\n",
      "100%|██████████| 3119/3119 [00:19<00:00, 159.27it/s]\n"
     ]
    },
    {
     "name": "stdout",
     "output_type": "stream",
     "text": [
      "\n",
      "Lead 0.816435432230523\n",
      "Counterclaim 0.5401929260450161\n",
      "Position 0.6940874035989717\n",
      "Claim 0.608786610878661\n",
      "Evidence 0.7260234755224735\n"
     ]
    },
    {
     "name": "stderr",
     "output_type": "stream",
     "text": [
      "2022-02-27 06:17:44,690 - INFO - 0,5:3118,val_score:0.6623892546907487\n"
     ]
    },
    {
     "name": "stdout",
     "output_type": "stream",
     "text": [
      "Concluding Statement 0.8038647342995169\n",
      "Rebuttal 0.44733420026007803\n",
      "fold1:start\n"
     ]
    },
    {
     "name": "stderr",
     "output_type": "stream",
     "text": [
      "Some weights of the model checkpoint at microsoft/deberta-large were not used when initializing DebertaModel: ['lm_predictions.lm_head.bias', 'lm_predictions.lm_head.LayerNorm.weight', 'lm_predictions.lm_head.dense.bias', 'lm_predictions.lm_head.dense.weight', 'lm_predictions.lm_head.LayerNorm.bias']\n",
      "- This IS expected if you are initializing DebertaModel from the checkpoint of a model trained on another task or with another architecture (e.g. initializing a BertForSequenceClassification model from a BertForPreTraining model).\n",
      "- This IS NOT expected if you are initializing DebertaModel from the checkpoint of a model that you expect to be exactly identical (initializing a BertForSequenceClassification model from a BertForSequenceClassification model).\n"
     ]
    },
    {
     "name": "stdout",
     "output_type": "stream",
     "text": [
      "============start epoch:0==============\n"
     ]
    },
    {
     "name": "stderr",
     "output_type": "stream",
     "text": [
      "100%|██████████| 3119/3119 [30:17<00:00,  1.72it/s]\n",
      "100%|██████████| 780/780 [01:58<00:00,  6.58it/s]\n",
      "100%|██████████| 3119/3119 [00:18<00:00, 167.92it/s]\n"
     ]
    },
    {
     "name": "stdout",
     "output_type": "stream",
     "text": [
      "\n",
      "Position 0.6892458100558659\n",
      "Evidence 0.6930804267798091\n",
      "Claim 0.5344178705839505\n",
      "Lead 0.8271261812117843\n",
      "Rebuttal 0.36421725239616615\n"
     ]
    },
    {
     "name": "stderr",
     "output_type": "stream",
     "text": [
      "2022-02-27 06:50:28,282 - INFO - 1,0:3118,val_score:0.6204184108336152\n"
     ]
    },
    {
     "name": "stdout",
     "output_type": "stream",
     "text": [
      "Concluding Statement 0.7499030632027918\n",
      "Counterclaim 0.4849382716049383\n",
      "save model weight\n",
      "============start epoch:1==============\n"
     ]
    },
    {
     "name": "stderr",
     "output_type": "stream",
     "text": [
      "100%|██████████| 3119/3119 [30:01<00:00,  1.73it/s]\n",
      "100%|██████████| 780/780 [02:02<00:00,  6.39it/s]\n",
      "100%|██████████| 3119/3119 [00:18<00:00, 166.55it/s]\n"
     ]
    },
    {
     "name": "stdout",
     "output_type": "stream",
     "text": [
      "\n",
      "Evidence 0.6946740413895967\n",
      "Claim 0.5871711498669819\n",
      "Lead 0.8133584702396983\n",
      "Counterclaim 0.5205078125\n",
      "Rebuttal 0.44650499286733236\n"
     ]
    },
    {
     "name": "stderr",
     "output_type": "stream",
     "text": [
      "2022-02-27 07:22:57,540 - INFO - 1,1:3118,val_score:0.6412561709711531\n"
     ]
    },
    {
     "name": "stdout",
     "output_type": "stream",
     "text": [
      "Concluding Statement 0.7532258064516129\n",
      "Position 0.6733509234828496\n",
      "save model weight\n",
      "============start epoch:2==============\n"
     ]
    },
    {
     "name": "stderr",
     "output_type": "stream",
     "text": [
      "100%|██████████| 3119/3119 [30:02<00:00,  1.73it/s]\n",
      "100%|██████████| 780/780 [01:58<00:00,  6.58it/s]\n",
      "100%|██████████| 3119/3119 [00:19<00:00, 163.53it/s]\n"
     ]
    },
    {
     "name": "stdout",
     "output_type": "stream",
     "text": [
      "\n",
      "Position 0.6992066229734392\n",
      "Evidence 0.7171921475312314\n",
      "Claim 0.627124218835654\n",
      "Lead 0.8262170247484363\n",
      "Counterclaim 0.5012406947890818\n",
      "Rebuttal 0.4782608695652174\n"
     ]
    },
    {
     "name": "stderr",
     "output_type": "stream",
     "text": [
      "2022-02-27 07:55:30,977 - INFO - 1,2:3118,val_score:0.6644534207989741\n"
     ]
    },
    {
     "name": "stdout",
     "output_type": "stream",
     "text": [
      "Concluding Statement 0.8019323671497585\n",
      "save model weight\n",
      "============start epoch:3==============\n"
     ]
    },
    {
     "name": "stderr",
     "output_type": "stream",
     "text": [
      "100%|██████████| 3119/3119 [29:59<00:00,  1.73it/s]\n",
      "100%|██████████| 780/780 [02:01<00:00,  6.41it/s]\n",
      "100%|██████████| 3119/3119 [00:18<00:00, 165.12it/s]\n"
     ]
    },
    {
     "name": "stdout",
     "output_type": "stream",
     "text": [
      "\n",
      "Evidence 0.7172965971976922\n",
      "Claim 0.6151595295706488\n",
      "Lead 0.8300850947021685\n",
      "Counterclaim 0.5364055299539171\n",
      "Rebuttal 0.4676354029062087\n",
      "Position 0.6881040238973818\n"
     ]
    },
    {
     "name": "stderr",
     "output_type": "stream",
     "text": [
      "2022-02-27 08:28:03,797 - INFO - 1,3:3118,val_score:0.6652452335829727\n"
     ]
    },
    {
     "name": "stdout",
     "output_type": "stream",
     "text": [
      "Concluding Statement 0.8020304568527918\n",
      "save model weight\n",
      "============start epoch:4==============\n"
     ]
    },
    {
     "name": "stderr",
     "output_type": "stream",
     "text": [
      "100%|██████████| 3119/3119 [29:58<00:00,  1.73it/s]\n",
      "100%|██████████| 780/780 [01:58<00:00,  6.60it/s]\n",
      "100%|██████████| 3119/3119 [00:19<00:00, 162.96it/s]\n"
     ]
    },
    {
     "name": "stdout",
     "output_type": "stream",
     "text": [
      "\n",
      "Position 0.7001375515818432\n",
      "Evidence 0.7112094748175619\n",
      "Claim 0.6155841226883175\n",
      "Concluding Statement 0.8043268302105466\n",
      "Lead 0.8272851296043656\n"
     ]
    },
    {
     "name": "stderr",
     "output_type": "stream",
     "text": [
      "2022-02-27 09:00:33,049 - INFO - 1,4:3118,val_score:0.6644749083561747\n"
     ]
    },
    {
     "name": "stdout",
     "output_type": "stream",
     "text": [
      "Counterclaim 0.5214007782101168\n",
      "Rebuttal 0.4713804713804714\n",
      "============start epoch:5==============\n"
     ]
    },
    {
     "name": "stderr",
     "output_type": "stream",
     "text": [
      "100%|██████████| 3119/3119 [30:03<00:00,  1.73it/s]\n",
      "100%|██████████| 780/780 [01:58<00:00,  6.61it/s]\n",
      "100%|██████████| 3119/3119 [00:18<00:00, 165.40it/s]\n"
     ]
    },
    {
     "name": "stdout",
     "output_type": "stream",
     "text": [
      "\n",
      "Position 0.7004781420765027\n",
      "Claim 0.6213151927437641\n",
      "Evidence 0.7171314741035857\n",
      "Concluding Statement 0.8089330024813896\n",
      "Lead 0.8272279934390377\n"
     ]
    },
    {
     "name": "stderr",
     "output_type": "stream",
     "text": [
      "2022-02-27 09:32:56,934 - INFO - 1,5:3118,val_score:0.6687344332949616\n"
     ]
    },
    {
     "name": "stdout",
     "output_type": "stream",
     "text": [
      "Counterclaim 0.532538955087076\n",
      "Rebuttal 0.47351627313337585\n",
      "save model weight\n",
      "fold2:start\n"
     ]
    },
    {
     "name": "stderr",
     "output_type": "stream",
     "text": [
      "Some weights of the model checkpoint at microsoft/deberta-large were not used when initializing DebertaModel: ['lm_predictions.lm_head.bias', 'lm_predictions.lm_head.LayerNorm.weight', 'lm_predictions.lm_head.dense.bias', 'lm_predictions.lm_head.dense.weight', 'lm_predictions.lm_head.LayerNorm.bias']\n",
      "- This IS expected if you are initializing DebertaModel from the checkpoint of a model trained on another task or with another architecture (e.g. initializing a BertForSequenceClassification model from a BertForPreTraining model).\n",
      "- This IS NOT expected if you are initializing DebertaModel from the checkpoint of a model that you expect to be exactly identical (initializing a BertForSequenceClassification model from a BertForSequenceClassification model).\n"
     ]
    },
    {
     "name": "stdout",
     "output_type": "stream",
     "text": [
      "============start epoch:0==============\n"
     ]
    },
    {
     "name": "stderr",
     "output_type": "stream",
     "text": [
      "100%|██████████| 3119/3119 [29:57<00:00,  1.74it/s]\n",
      "100%|██████████| 780/780 [01:58<00:00,  6.57it/s]\n",
      "100%|██████████| 3119/3119 [00:19<00:00, 163.69it/s]\n"
     ]
    },
    {
     "name": "stdout",
     "output_type": "stream",
     "text": [
      "\n",
      "Lead 0.8178896625602571\n",
      "Position 0.6673476336397685\n",
      "Claim 0.5937571461239424\n",
      "Evidence 0.665373674683217\n",
      "Concluding Statement 0.6663811563169165\n"
     ]
    },
    {
     "name": "stderr",
     "output_type": "stream",
     "text": [
      "2022-02-27 10:05:30,049 - INFO - 2,0:3118,val_score:0.6097862836861748\n"
     ]
    },
    {
     "name": "stdout",
     "output_type": "stream",
     "text": [
      "Counterclaim 0.4713910761154856\n",
      "Rebuttal 0.38636363636363635\n",
      "save model weight\n",
      "============start epoch:1==============\n"
     ]
    },
    {
     "name": "stderr",
     "output_type": "stream",
     "text": [
      "100%|██████████| 3119/3119 [29:45<00:00,  1.75it/s]\n",
      "100%|██████████| 780/780 [01:58<00:00,  6.57it/s]\n",
      "100%|██████████| 3119/3119 [00:19<00:00, 158.09it/s]\n"
     ]
    },
    {
     "name": "stdout",
     "output_type": "stream",
     "text": [
      "\n",
      "Lead 0.8327939590075513\n",
      "Position 0.6793307772743116\n",
      "Claim 0.5872117275490137\n",
      "Evidence 0.7012807634354595\n"
     ]
    },
    {
     "name": "stderr",
     "output_type": "stream",
     "text": [
      "2022-02-27 10:37:40,406 - INFO - 2,1:3118,val_score:0.6561778969739321\n"
     ]
    },
    {
     "name": "stdout",
     "output_type": "stream",
     "text": [
      "Concluding Statement 0.7891698188333666\n",
      "Counterclaim 0.5434098065677013\n",
      "Rebuttal 0.4600484261501211\n",
      "save model weight\n",
      "============start epoch:2==============\n"
     ]
    },
    {
     "name": "stderr",
     "output_type": "stream",
     "text": [
      "100%|██████████| 3119/3119 [29:53<00:00,  1.74it/s]\n",
      "100%|██████████| 780/780 [01:58<00:00,  6.60it/s]\n",
      "100%|██████████| 3119/3119 [00:19<00:00, 161.86it/s]\n"
     ]
    },
    {
     "name": "stdout",
     "output_type": "stream",
     "text": [
      "\n",
      "Lead 0.8290598290598291\n",
      "Claim 0.6066518341034857\n",
      "Position 0.688068669527897\n",
      "Evidence 0.7057501404757445\n"
     ]
    },
    {
     "name": "stderr",
     "output_type": "stream",
     "text": [
      "2022-02-27 11:10:04,163 - INFO - 2,2:3118,val_score:0.6497758986269296\n"
     ]
    },
    {
     "name": "stdout",
     "output_type": "stream",
     "text": [
      "Concluding Statement 0.789422516041221\n",
      "Counterclaim 0.5129265770423992\n",
      "Rebuttal 0.416551724137931\n",
      "============start epoch:3==============\n"
     ]
    },
    {
     "name": "stderr",
     "output_type": "stream",
     "text": [
      " 71%|███████   | 2201/3119 [21:01<07:00,  2.18it/s]"
     ]
    }
   ],
   "source": [
    "# ================================\n",
    "# train\n",
    "# ================================\n",
    "with timer(\"deberta_large\"):\n",
    "    set_seed(SEED)\n",
    "    oof = pd.DataFrame()\n",
    "    oof_pred = np.ndarray((0,max_len,15))\n",
    "    kf = KFold(n_splits=N_SPLITS, shuffle=SHUFFLE, random_state=SEED)\n",
    "    for fold, (train_idx, valid_idx) in enumerate(kf.split(id_array)):\n",
    "        print(f\"fold{fold}:start\")\n",
    "        x_train_token, x_train_attention, y_train  = train_tokens[train_idx], train_attention[train_idx], targets[train_idx]\n",
    "        x_val_token, x_val_attention, y_val  = train_tokens[valid_idx], train_attention[valid_idx], targets[valid_idx]\n",
    "        train_val = train[train.id.isin(id_array[valid_idx])].reset_index(drop=True)\n",
    "        \n",
    "        # dataset\n",
    "        train_ = TrainDataset( x_train_token, x_train_attention, y_train)\n",
    "        val_ = TrainDataset( x_val_token, x_val_attention, y_val)\n",
    "        \n",
    "        # loader\n",
    "        train_loader = DataLoader(dataset=train_, batch_size=BATCH_SIZE, shuffle = True ,pin_memory=True)\n",
    "        val_loader = DataLoader(dataset=val_, batch_size=BATCH_SIZE, shuffle = False , pin_memory=True)\n",
    "        \n",
    "        # model\n",
    "        model = custom_model()\n",
    "        model = model.to(device)\n",
    "        \n",
    "        # optimizer, scheduler\n",
    "        param_optimizer = list(model.named_parameters())\n",
    "        no_decay = ['bias', 'LayerNorm.bias', 'LayerNorm.weight']\n",
    "        optimizer_grouped_parameters = [\n",
    "            {'params': [p for n, p in param_optimizer if not any(nd in n for nd in no_decay)], 'weight_decay': weight_decay},\n",
    "            {'params': [p for n, p in param_optimizer if any(nd in n for nd in no_decay)], 'weight_decay': 0.0}\n",
    "        ]\n",
    "        optimizer = AdamW(optimizer_grouped_parameters,\n",
    "                          lr=lr,\n",
    "                          betas=beta,\n",
    "                          weight_decay=weight_decay,\n",
    "                          )\n",
    "        num_train_optimization_steps = int(len(train_loader) * n_epochs)\n",
    "        num_warmup_steps = int(num_train_optimization_steps * num_warmup_steps_rate)\n",
    "        scheduler = get_linear_schedule_with_warmup(optimizer,\n",
    "                                                    num_warmup_steps=num_warmup_steps,\n",
    "                                                    num_training_steps=num_train_optimization_steps)\n",
    "        \n",
    "        criterion = nn.BCEWithLogitsLoss()\n",
    "        best_val = 0\n",
    "        \n",
    "        for epoch in range(n_epochs):\n",
    "            print(f\"============start epoch:{epoch}==============\")\n",
    "            model.train() \n",
    "            val_losses_batch = []\n",
    "            scaler = GradScaler()\n",
    "            for i, d in tqdm(enumerate(train_loader),total=len(train_loader)):\n",
    "                d = collate(d)\n",
    "                ids = d['token'].to(device)\n",
    "                mask = d['mask'].to(device)\n",
    "                labels = d['y'].to(device)\n",
    "                #labels = labels.unsqueeze(-1)\n",
    "                optimizer.zero_grad()\n",
    "                with autocast():\n",
    "                    output = model(ids,mask)\n",
    "                    loss = criterion(output[mask == 1], labels[mask == 1])\n",
    "                scaler.scale(loss).backward()\n",
    "                #torch.nn.utils.clip_grad_norm_(model.parameters(), clip_grad_norm)\n",
    "                scaler.step(optimizer)\n",
    "                scaler.update()\n",
    "                scheduler.step()\n",
    "            \n",
    "            y_pred2 = []\n",
    "            val_preds = np.ndarray((0,max_len,15))\n",
    "            val_len = np.ndarray(0)\n",
    "            model.eval()  # switch model to the evaluation mode\n",
    "            with torch.no_grad():  \n",
    "                # Predicting on validation set\n",
    "                \n",
    "                for d in tqdm(val_loader,total=len(val_loader)):\n",
    "                    # =========================\n",
    "                    # data loader\n",
    "                    # =========================\n",
    "                    d = collate(d)\n",
    "                    ids = d['token'].to(device)\n",
    "                    mask = d['mask'].to(device)\n",
    "                    with autocast():\n",
    "                        outputs = model(ids, mask)\n",
    "                    outputs = np.concatenate([outputs.sigmoid().detach().cpu().numpy(),np.zeros([len(outputs),max_len - d[\"max_len\"],15])],axis=1)\n",
    "                    val_preds = np.concatenate([val_preds, outputs], axis=0)\n",
    "                    val_len = np.concatenate([val_len,np.array([d[\"max_len\"] for i in range(len(ids))])],axis=0)\n",
    "            val_preds_max = np.argmax(val_preds,axis=-1)\n",
    "            oof_ = get_preds_collate( dataset='train', verbose=True, text_ids=id_array[valid_idx],\n",
    "                                      preds = val_preds_max,preds_len=val_len)      \n",
    "            # COMPUTE F1 SCORE\n",
    "            f1s = []\n",
    "            CLASSES = oof_['class'].unique()\n",
    "            print()\n",
    "            for c in CLASSES:\n",
    "                pred_df = oof_.loc[oof_['class']==c].copy()\n",
    "                gt_df = train_val.loc[train_val['discourse_type']==c].copy()\n",
    "                f1 = score_feedback_comp(pred_df, gt_df)\n",
    "                print(c,f1)\n",
    "                f1s.append(f1)\n",
    "            score = np.mean(f1s)\n",
    "            LOGGER.info(f'{fold},{epoch}:{i},val_score:{score}')\n",
    "            if best_val < score:\n",
    "                print(\"save model weight\")\n",
    "                best_val = score\n",
    "                best_val_preds = val_preds\n",
    "                oof_best = oof_.copy()\n",
    "                torch.save(model.state_dict(), MODEL_PATH_BASE + f\"_{fold}.pth\") # Saving current best model\n",
    "        oof_best[\"fold\"] = fold\n",
    "        oof_best.to_csv(OUTPUT_DIR + f\"/ex{ex}_oof_{fold}.csv\",index=False)\n",
    "        np.save(OUTPUT_DIR + f\"/ex{ex}_oof_npy_{fold}.npy\",best_val_preds)"
   ]
  },
  {
   "cell_type": "code",
   "execution_count": null,
   "id": "38238ed2",
   "metadata": {},
   "outputs": [],
   "source": [
    "oof = pd.DataFrame()\n",
    "for i in range(5):\n",
    "    oof__ = pd.read_csv(OUTPUT_DIR + f\"/ex{ex}_oof_{i}.csv\")\n",
    "    oof = pd.concat([oof,oof__]).reset_index(drop=True)\n",
    "# COMPUTE F1 SCORE\n",
    "f1s = []\n",
    "CLASSES = oof['class'].unique()\n",
    "for c in CLASSES:\n",
    "    pred_df = oof.loc[oof['class']==c].copy()\n",
    "    gt_df = train.loc[train['discourse_type']==c].copy()\n",
    "    f1 = score_feedback_comp(pred_df, gt_df)\n",
    "    print(c,f1)\n",
    "    f1s.append(f1)\n",
    "score = np.mean(f1s)\n",
    "LOGGER.info(f'CV:{score}')"
   ]
  }
 ],
 "metadata": {
  "kernelspec": {
   "display_name": "Python 3 (ipykernel)",
   "language": "python",
   "name": "python3"
  },
  "language_info": {
   "codemirror_mode": {
    "name": "ipython",
    "version": 3
   },
   "file_extension": ".py",
   "mimetype": "text/x-python",
   "name": "python",
   "nbconvert_exporter": "python",
   "pygments_lexer": "ipython3",
   "version": "3.7.10"
  }
 },
 "nbformat": 4,
 "nbformat_minor": 5
}
