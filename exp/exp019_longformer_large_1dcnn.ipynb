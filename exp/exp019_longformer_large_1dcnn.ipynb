{
 "cells": [
  {
   "cell_type": "code",
   "execution_count": 1,
   "id": "a12c340f",
   "metadata": {},
   "outputs": [
    {
     "name": "stderr",
     "output_type": "stream",
     "text": [
      "2022-01-19 02:52:18.990788: I tensorflow/stream_executor/platform/default/dso_loader.cc:49] Successfully opened dynamic library libcudart.so.11.0\n"
     ]
    }
   ],
   "source": [
    "# ========================================\n",
    "# library\n",
    "# ========================================\n",
    "import pandas as pd\n",
    "import numpy as np\n",
    "import matplotlib.pyplot as plt\n",
    "from sklearn.model_selection import StratifiedKFold, KFold,GroupKFold\n",
    "from sklearn.metrics import mean_squared_error\n",
    "%matplotlib inline\n",
    "import torch\n",
    "import torch.nn as nn\n",
    "from torch.utils.data import Dataset, DataLoader, Subset\n",
    "import transformers\n",
    "from transformers import LongformerTokenizer, LongformerModel,AutoTokenizer\n",
    "from transformers import AdamW, get_linear_schedule_with_warmup\n",
    "from torch.cuda.amp import autocast, GradScaler\n",
    "import logging\n",
    "from ast import literal_eval\n",
    "import sys\n",
    "from contextlib import contextmanager\n",
    "import time\n",
    "import random\n",
    "from tqdm import tqdm\n",
    "import os"
   ]
  },
  {
   "cell_type": "code",
   "execution_count": 2,
   "id": "95ce9a15",
   "metadata": {},
   "outputs": [],
   "source": [
    "# ==================\n",
    "# Constant\n",
    "# ==================\n",
    "ex = \"019\"\n",
    "TRAIN_PATH = \"../data/train.csv\"\n",
    "DATA_DIR = \"../data/longformer-large-4096/\"\n",
    "if not os.path.exists(f\"../output/exp/ex{ex}\"):\n",
    "    os.makedirs(f\"../output/exp/ex{ex}\")\n",
    "    os.makedirs(f\"../output/exp/ex{ex}/ex{ex}_model\")\n",
    "    \n",
    "OUTPUT_DIR = f\"../output/exp/ex{ex}\"\n",
    "MODEL_PATH_BASE = f\"../output/exp/ex{ex}/ex{ex}_model/ex{ex}\"\n",
    "LOGGER_PATH = f\"../output/exp/ex{ex}/ex{ex}.txt\"\n",
    "device = torch.device(\"cuda\" if torch.cuda.is_available() else \"cpu\")"
   ]
  },
  {
   "cell_type": "code",
   "execution_count": 3,
   "id": "2f523c6a",
   "metadata": {},
   "outputs": [],
   "source": [
    "# ===============\n",
    "# Configs\n",
    "# ===============\n",
    "SEED = 0\n",
    "N_SPLITS = 5\n",
    "SHUFFLE = True\n",
    "num_workers = 4\n",
    "BATCH_SIZE = 4\n",
    "\n",
    "n_epochs = 6\n",
    "max_len = 2048\n",
    "weight_decay = 0.1\n",
    "beta = (0.9, 0.98)\n",
    "lr = 2e-5\n",
    "num_warmup_steps_rate = 0.1\n",
    "\n",
    "MODEL_PATH = 'allenai/longformer-large-4096'\n",
    "tokenizer = AutoTokenizer.from_pretrained(MODEL_PATH)"
   ]
  },
  {
   "cell_type": "code",
   "execution_count": 4,
   "id": "39410127",
   "metadata": {},
   "outputs": [
    {
     "name": "stderr",
     "output_type": "stream",
     "text": [
      "2022-01-19 02:52:24,195 - INFO - logger set up\n"
     ]
    },
    {
     "data": {
      "text/plain": [
       "<RootLogger root (DEBUG)>"
      ]
     },
     "execution_count": 4,
     "metadata": {},
     "output_type": "execute_result"
    }
   ],
   "source": [
    "# ===============\n",
    "# Functions\n",
    "# ===============\n",
    "def set_seed(seed: int = 42):\n",
    "    random.seed(seed)\n",
    "    np.random.seed(seed)\n",
    "    os.environ[\"PYTHONHASHSEED\"] = str(seed)\n",
    "    torch.manual_seed(seed)\n",
    "    torch.cuda.manual_seed(seed)\n",
    "    torch.backends.cudnn.deterministic = True\n",
    "    torch.backends.cudnn.benchmark = False\n",
    "\n",
    "def setup_logger(out_file=None, stderr=True, stderr_level=logging.INFO, file_level=logging.DEBUG):\n",
    "    LOGGER.handlers = []\n",
    "    LOGGER.setLevel(min(stderr_level, file_level))\n",
    "\n",
    "    if stderr:\n",
    "        handler = logging.StreamHandler(sys.stderr)\n",
    "        handler.setFormatter(FORMATTER)\n",
    "        handler.setLevel(stderr_level)\n",
    "        LOGGER.addHandler(handler)\n",
    "\n",
    "    if out_file is not None:\n",
    "        handler = logging.FileHandler(out_file)\n",
    "        handler.setFormatter(FORMATTER)\n",
    "        handler.setLevel(file_level)\n",
    "        LOGGER.addHandler(handler)\n",
    "\n",
    "    LOGGER.info(\"logger set up\")\n",
    "    return LOGGER\n",
    "\n",
    "\n",
    "@contextmanager\n",
    "def timer(name):\n",
    "    t0 = time.time()\n",
    "    yield \n",
    "    LOGGER.info(f'[{name}] done in {time.time() - t0:.0f} s')\n",
    "    \n",
    "    \n",
    "LOGGER = logging.getLogger()\n",
    "FORMATTER = logging.Formatter(\"%(asctime)s - %(levelname)s - %(message)s\")\n",
    "setup_logger(out_file=LOGGER_PATH)"
   ]
  },
  {
   "cell_type": "code",
   "execution_count": 5,
   "id": "cb119e12",
   "metadata": {},
   "outputs": [],
   "source": [
    "class TrainDataset(Dataset):\n",
    "    def __init__(self, token,attentiona_mask,label=None):\n",
    "        self.len = len(token)\n",
    "        self.token = token\n",
    "        self.attention_mask = attentiona_mask\n",
    "        self.label = label\n",
    "        #self.get_wids = get_wids # for validation\n",
    "\n",
    "    def __getitem__(self, index):\n",
    "        # GET TEXT AND WORD LABELS \n",
    "        if self.label is not None:\n",
    "            return {\n",
    "              'token': torch.tensor(self.token[index], dtype=torch.long),\n",
    "              'mask': torch.tensor(self.attention_mask[index], dtype=torch.long),\n",
    "              \"y\":torch.tensor(self.label[index], dtype=torch.float32)\n",
    "               }\n",
    "        else:\n",
    "            return {\n",
    "              'token': torch.tensor(self.token[index], dtype=torch.long),\n",
    "              'mask': torch.tensor(self.attention_mask[index], dtype=torch.long),\n",
    "               }\n",
    "\n",
    "    def __len__(self):\n",
    "        return self.len\n",
    "\n",
    "class custom_model(nn.Module):\n",
    "    def __init__(self):\n",
    "        super(custom_model, self).__init__()\n",
    "        self.backbone = LongformerModel.from_pretrained(\n",
    "            MODEL_PATH, \n",
    "        )\n",
    "        \n",
    "        #self.dropout = nn.Dropout(p=0.2)\n",
    "        self.ln = nn.LayerNorm(1024)\n",
    "        \n",
    "        self.conv1= nn.Conv1d(1024, 512, kernel_size=3, padding=1)\n",
    "        self.conv2= nn.Conv1d(1024, 512, kernel_size=9, padding=4)\n",
    "        self.conv3= nn.Conv1d(1024, 512, kernel_size=15, padding=7)\n",
    "        self.conv4= nn.Conv1d(1024, 512, kernel_size=31, padding=15)\n",
    "        self.ln1 = nn.Sequential(nn.LayerNorm(512),\n",
    "                                            nn.ReLU(),\n",
    "                                            nn.Dropout(0.2))\n",
    "        self.ln2 = nn.Sequential( nn.LayerNorm(512),\n",
    "                                            nn.ReLU(),\n",
    "                                            nn.Dropout(0.2))\n",
    "        self.ln3 = nn.Sequential( nn.LayerNorm(512),\n",
    "                                            nn.ReLU(),\n",
    "                                            nn.Dropout(0.2))\n",
    "        self.ln4 = nn.Sequential( nn.LayerNorm(512),\n",
    "                                            nn.ReLU(),\n",
    "                                            nn.Dropout(0.2))\n",
    "        \n",
    "        self.linear1 = nn.Sequential(\n",
    "            nn.Linear(2048,1024),\n",
    "            nn.LayerNorm(1024),\n",
    "            nn.ReLU(),\n",
    "            nn.Dropout(0.2),\n",
    "            nn.Linear(1024,2),\n",
    "        )\n",
    "        self.linear2 = nn.Sequential(\n",
    "            nn.Linear(2048,1024),\n",
    "            nn.LayerNorm(1024),\n",
    "            nn.ReLU(),\n",
    "            nn.Dropout(0.2),\n",
    "            nn.Linear(1024,2),\n",
    "        )\n",
    "        self.linear3 = nn.Sequential(\n",
    "            nn.Linear(2048,1024),\n",
    "            nn.LayerNorm(1024),\n",
    "            nn.ReLU(),\n",
    "            nn.Dropout(0.2),\n",
    "            nn.Linear(1024,2),\n",
    "        )\n",
    "        self.linear4 = nn.Sequential(\n",
    "            nn.Linear(2048,1024),\n",
    "            nn.LayerNorm(1024),\n",
    "            nn.ReLU(),\n",
    "            nn.Dropout(0.2),\n",
    "            nn.Linear(1024,2),\n",
    "        )\n",
    "        self.linear5 = nn.Sequential(\n",
    "            nn.Linear(2048,1024),\n",
    "            nn.LayerNorm(1024),\n",
    "            nn.ReLU(),\n",
    "            nn.Dropout(0.2),\n",
    "            nn.Linear(1024,2),\n",
    "        )\n",
    "        self.linear6 = nn.Sequential(\n",
    "            nn.Linear(2048,1024),\n",
    "            nn.LayerNorm(1024),\n",
    "            nn.ReLU(),\n",
    "            nn.Dropout(0.2),\n",
    "            nn.Linear(1024,2),\n",
    "        )\n",
    "        self.linear7 = nn.Sequential(\n",
    "            nn.Linear(2048,1024),\n",
    "            nn.LayerNorm(1024),\n",
    "            nn.ReLU(),\n",
    "            nn.Dropout(0.2),\n",
    "            nn.Linear(1024,2),\n",
    "        )\n",
    "        self.linear8 = nn.Sequential(\n",
    "            nn.Linear(2048,1024),\n",
    "            nn.LayerNorm(1024),\n",
    "            nn.ReLU(),\n",
    "            nn.Dropout(0.2),\n",
    "            nn.Linear(1024,1),\n",
    "        )\n",
    "    def forward(self, ids, mask):\n",
    "        # pooler\n",
    "        emb = self.backbone(ids, attention_mask=mask)[\"last_hidden_state\"]\n",
    "        output = self.ln(emb)\n",
    "        output = output.permute((0, 2, 1)).contiguous()\n",
    "        output1 = self.conv1(output)\n",
    "        output1 = self.ln1(output1.permute((0, 2, 1)).contiguous())\n",
    "        output2 = self.conv2(output)\n",
    "        output2 = self.ln2(output2.permute((0, 2, 1)).contiguous())\n",
    "        output3 = self.conv3(output)\n",
    "        output3 = self.ln3(output3.permute((0, 2, 1)).contiguous())\n",
    "        output4 = self.conv4(output)\n",
    "        output4 = self.ln4(output4.permute((0, 2, 1)).contiguous())\n",
    "        output_concat = torch.cat([output1,output2,output3,output4],axis=-1)\n",
    "        output2_1 = self.linear1(output_concat)\n",
    "        output2_2 = self.linear2(output_concat)\n",
    "        output2_3 = self.linear3(output_concat)\n",
    "        output2_4 = self.linear4(output_concat)\n",
    "        output2_5 = self.linear5(output_concat)\n",
    "        output2_6 = self.linear6(output_concat)\n",
    "        output2_7= self.linear7(output_concat)\n",
    "        output2_8 = self.linear8(output_concat)\n",
    "        out = torch.cat(\n",
    "            [output2_1,output2_2,output2_3,output2_4,\n",
    "             output2_5,output2_6,output2_7,output2_8], axis=2)\n",
    "        return out"
   ]
  },
  {
   "cell_type": "code",
   "execution_count": 6,
   "id": "ad11cd3d",
   "metadata": {},
   "outputs": [],
   "source": [
    "target_map_rev = {0:'Lead', 1:'Position', 2:'Evidence', 3:'Claim', 4:'Concluding Statement',\n",
    "             5:'Counterclaim', 6:'Rebuttal', 7:'blank'}\n",
    "\n",
    "def get_preds_collate(dataset, verbose,text_ids, preds, preds_len):\n",
    "    all_predictions = []\n",
    "\n",
    "    for id_num in tqdm(range(len(preds))):\n",
    "    \n",
    "        # GET ID\n",
    "        #if (id_num%100==0)&(verbose): \n",
    "        #    print(id_num,', ',end='')\n",
    "        n = text_ids[id_num]\n",
    "        max_len = int(preds_len[id_num])\n",
    "        # GET TOKEN POSITIONS IN CHARS\n",
    "        name = f'../data/{dataset}/{n}.txt'\n",
    "        txt = open(name, 'r').read()\n",
    "        tokens = tokenizer.encode_plus(txt, max_length=max_len, padding='max_length',\n",
    "                                   truncation=True, return_offsets_mapping=True)\n",
    "        off = tokens['offset_mapping']\n",
    "    \n",
    "        # GET WORD POSITIONS IN CHARS\n",
    "        w = []\n",
    "        blank = True\n",
    "        for i in range(len(txt)):\n",
    "            if (txt[i]!=' ')&(txt[i]!='\\n')&(txt[i]!='\\xa0')&(txt[i]!='\\x85')&(blank==True):\n",
    "                w.append(i)\n",
    "                blank=False\n",
    "            elif (txt[i]==' ')|(txt[i]=='\\n')|(txt[i]=='\\xa0')|(txt[i]=='\\x85'):\n",
    "                blank=True\n",
    "        w.append(1e6)\n",
    "            \n",
    "        # MAPPING FROM TOKENS TO WORDS\n",
    "        word_map = -1 * np.ones(max_len,dtype='int32')\n",
    "        w_i = 0\n",
    "        for i in range(len(off)):\n",
    "            if off[i][1]==0: continue\n",
    "            while off[i][0]>=w[w_i+1]: w_i += 1\n",
    "            word_map[i] = int(w_i)\n",
    "        \n",
    "        # CONVERT TOKEN PREDICTIONS INTO WORD LABELS\n",
    "        ### KEY: ###\n",
    "        # 0: LEAD_B, 1: LEAD_I\n",
    "        # 2: POSITION_B, 3: POSITION_I\n",
    "        # 4: EVIDENCE_B, 5: EVIDENCE_I\n",
    "        # 6: CLAIM_B, 7: CLAIM_I\n",
    "        # 8: CONCLUSION_B, 9: CONCLUSION_I\n",
    "        # 10: COUNTERCLAIM_B, 11: COUNTERCLAIM_I\n",
    "        # 12: REBUTTAL_B, 13: REBUTTAL_I\n",
    "        # 14: NOTHING i.e. O\n",
    "        ### NOTE THESE VALUES ARE DIVIDED BY 2 IN NEXT CODE LINE\n",
    "        pred = preds[id_num,]/2.0\n",
    "    \n",
    "        i = 0\n",
    "        while i<max_len:\n",
    "            prediction = []\n",
    "            start = pred[i]\n",
    "            if start in [0,1,2,3,4,5,6,7]:\n",
    "                prediction.append(word_map[i])\n",
    "                i += 1\n",
    "                if i>=max_len: break\n",
    "                while pred[i]==start+0.5:\n",
    "                    if not word_map[i] in prediction:\n",
    "                        prediction.append(word_map[i])\n",
    "                    i += 1\n",
    "                    if i>=max_len: break\n",
    "            else:\n",
    "                i += 1\n",
    "            prediction = [x for x in prediction if x!=-1]\n",
    "            if len(prediction)>4:\n",
    "                all_predictions.append( (n, target_map_rev[int(start)], \n",
    "                                ' '.join([str(x) for x in prediction]) ) )\n",
    "                \n",
    "    # MAKE DATAFRAME\n",
    "    df = pd.DataFrame(all_predictions)\n",
    "    df.columns = ['id','class','predictionstring']\n",
    "    \n",
    "    return df\n",
    "\n",
    "\n",
    "def calc_overlap(row):\n",
    "    \"\"\"\n",
    "    Calculates the overlap between prediction and\n",
    "    ground truth and overlap percentages used for determining\n",
    "    true positives.\n",
    "    \"\"\"\n",
    "    set_pred = set(row.predictionstring_pred.split(' '))\n",
    "    set_gt = set(row.predictionstring_gt.split(' '))\n",
    "    # Length of each and intersection\n",
    "    len_gt = len(set_gt)\n",
    "    len_pred = len(set_pred)\n",
    "    inter = len(set_gt.intersection(set_pred))\n",
    "    overlap_1 = inter / len_gt\n",
    "    overlap_2 = inter/ len_pred\n",
    "    return [overlap_1, overlap_2]\n",
    "\n",
    "\n",
    "def score_feedback_comp(pred_df, gt_df):\n",
    "    \"\"\"\n",
    "    A function that scores for the kaggle\n",
    "        Student Writing Competition\n",
    "        \n",
    "    Uses the steps in the evaluation page here:\n",
    "        https://www.kaggle.com/c/feedback-prize-2021/overview/evaluation\n",
    "    \"\"\"\n",
    "    gt_df = gt_df[['id','discourse_type','predictionstring']] \\\n",
    "        .reset_index(drop=True).copy()\n",
    "    pred_df = pred_df[['id','class','predictionstring']] \\\n",
    "        .reset_index(drop=True).copy()\n",
    "    pred_df['pred_id'] = pred_df.index\n",
    "    gt_df['gt_id'] = gt_df.index\n",
    "    # Step 1. all ground truths and predictions for a given class are compared.\n",
    "    joined = pred_df.merge(gt_df,\n",
    "                           left_on=['id','class'],\n",
    "                           right_on=['id','discourse_type'],\n",
    "                           how='outer',\n",
    "                           suffixes=('_pred','_gt')\n",
    "                          )\n",
    "    joined['predictionstring_gt'] = joined['predictionstring_gt'].fillna(' ')\n",
    "    joined['predictionstring_pred'] = joined['predictionstring_pred'].fillna(' ')\n",
    "\n",
    "    joined['overlaps'] = joined.apply(calc_overlap, axis=1)\n",
    "\n",
    "    # 2. If the overlap between the ground truth and prediction is >= 0.5, \n",
    "    # and the overlap between the prediction and the ground truth >= 0.5,\n",
    "    # the prediction is a match and considered a true positive.\n",
    "    # If multiple matches exist, the match with the highest pair of overlaps is taken.\n",
    "    joined['overlap1'] = joined['overlaps'].apply(lambda x: eval(str(x))[0])\n",
    "    joined['overlap2'] = joined['overlaps'].apply(lambda x: eval(str(x))[1])\n",
    "\n",
    "\n",
    "    joined['potential_TP'] = (joined['overlap1'] >= 0.5) & (joined['overlap2'] >= 0.5)\n",
    "    joined['max_overlap'] = joined[['overlap1','overlap2']].max(axis=1)\n",
    "    tp_pred_ids = joined.query('potential_TP') \\\n",
    "        .sort_values('max_overlap', ascending=False) \\\n",
    "        .groupby(['id','predictionstring_gt']).first()['pred_id'].values\n",
    "\n",
    "    # 3. Any unmatched ground truths are false negatives\n",
    "    # and any unmatched predictions are false positives.\n",
    "    fp_pred_ids = [p for p in joined['pred_id'].unique() if p not in tp_pred_ids]\n",
    "\n",
    "    matched_gt_ids = joined.query('potential_TP')['gt_id'].unique()\n",
    "    unmatched_gt_ids = [c for c in joined['gt_id'].unique() if c not in matched_gt_ids]\n",
    "\n",
    "    # Get numbers of each type\n",
    "    TP = len(tp_pred_ids)\n",
    "    FP = len(fp_pred_ids)\n",
    "    FN = len(unmatched_gt_ids)\n",
    "    #calc microf1\n",
    "    my_f1_score = TP / (TP + 0.5*(FP+FN))\n",
    "    return my_f1_score\n",
    "\n",
    "def collate(d,train=True):\n",
    "    mask_len = int(d[\"mask\"].sum(axis=1).max())\n",
    "    if train:\n",
    "        return {\"token\" : d['token'][:,:mask_len],\n",
    "                 \"mask\" : d['mask'][:,:mask_len],\n",
    "                 \"y\" : d['y'][:,:mask_len],\n",
    "                  \"max_len\" : mask_len}\n",
    "    else:\n",
    "        return {\"token\" : d['token'][:,:mask_len],\n",
    "                 \"mask\" : d['mask'][:,:mask_len],\n",
    "                  \"max_len\" : mask_len}"
   ]
  },
  {
   "cell_type": "code",
   "execution_count": 7,
   "id": "89c01f53",
   "metadata": {},
   "outputs": [],
   "source": [
    "# ================================\n",
    "# Main\n",
    "# ================================\n",
    "train = pd.read_csv(TRAIN_PATH)\n",
    "IDS = train.id.unique()\n",
    "id_array = np.array(IDS)"
   ]
  },
  {
   "cell_type": "code",
   "execution_count": 11,
   "id": "d125f9c8",
   "metadata": {},
   "outputs": [],
   "source": [
    "# ================================\n",
    "# data load\n",
    "# ================================\n",
    "targets = np.load(DATA_DIR + f\"targets_{max_len}.npy\")\n",
    "train_tokens = np.load(DATA_DIR + f\"tokens_{max_len}.npy\")\n",
    "train_attention = np.load(DATA_DIR + f\"attention_{max_len}.npy\")"
   ]
  },
  {
   "cell_type": "code",
   "execution_count": 12,
   "id": "09839cea",
   "metadata": {},
   "outputs": [
    {
     "name": "stdout",
     "output_type": "stream",
     "text": [
      "fold0:start\n"
     ]
    },
    {
     "name": "stderr",
     "output_type": "stream",
     "text": [
      "Some weights of the model checkpoint at allenai/longformer-large-4096 were not used when initializing LongformerModel: ['lm_head.layer_norm.weight', 'lm_head.dense.bias', 'lm_head.decoder.weight', 'lm_head.layer_norm.bias', 'lm_head.dense.weight', 'lm_head.bias']\n",
      "- This IS expected if you are initializing LongformerModel from the checkpoint of a model trained on another task or with another architecture (e.g. initializing a BertForSequenceClassification model from a BertForPreTraining model).\n",
      "- This IS NOT expected if you are initializing LongformerModel from the checkpoint of a model that you expect to be exactly identical (initializing a BertForSequenceClassification model from a BertForSequenceClassification model).\n"
     ]
    },
    {
     "name": "stdout",
     "output_type": "stream",
     "text": [
      "============start epoch:0==============\n"
     ]
    },
    {
     "name": "stderr",
     "output_type": "stream",
     "text": [
      "100%|██████████| 3119/3119 [31:33<00:00,  1.65it/s]\n",
      "100%|██████████| 780/780 [03:16<00:00,  3.98it/s]\n",
      "100%|██████████| 3119/3119 [00:22<00:00, 139.68it/s]\n",
      "2022-01-19 03:27:48,979 - INFO - Note: NumExpr detected 12 cores but \"NUMEXPR_MAX_THREADS\" not set, so enforcing safe limit of 8.\n",
      "2022-01-19 03:27:48,980 - INFO - NumExpr defaulting to 8 threads.\n"
     ]
    },
    {
     "name": "stdout",
     "output_type": "stream",
     "text": [
      "\n",
      "Lead 0.8244919503826867\n",
      "Claim 0.598008030453147\n",
      "Evidence 0.6693015573383672\n",
      "Position 0.6931382793451759\n",
      "Concluding Statement 0.8076486179477471\n",
      "Counterclaim 0.49957947855340623\n"
     ]
    },
    {
     "name": "stderr",
     "output_type": "stream",
     "text": [
      "2022-01-19 03:27:52,708 - INFO - 0,0:3118,val_score:0.638386100365825\n"
     ]
    },
    {
     "name": "stdout",
     "output_type": "stream",
     "text": [
      "Rebuttal 0.3765347885402456\n",
      "save model weight\n",
      "============start epoch:1==============\n"
     ]
    },
    {
     "name": "stderr",
     "output_type": "stream",
     "text": [
      "100%|██████████| 3119/3119 [31:36<00:00,  1.64it/s]\n",
      "100%|██████████| 780/780 [03:17<00:00,  3.95it/s]\n",
      "100%|██████████| 3119/3119 [00:20<00:00, 149.21it/s]\n"
     ]
    },
    {
     "name": "stdout",
     "output_type": "stream",
     "text": [
      "\n",
      "Lead 0.8230042016806722\n",
      "Claim 0.5840109953040888\n",
      "Position 0.6792452830188679\n",
      "Counterclaim 0.5201708590412909\n",
      "Evidence 0.7052485017252861\n"
     ]
    },
    {
     "name": "stderr",
     "output_type": "stream",
     "text": [
      "2022-01-19 04:03:15,143 - INFO - 0,1:3118,val_score:0.6462100393454898\n"
     ]
    },
    {
     "name": "stdout",
     "output_type": "stream",
     "text": [
      "Concluding Statement 0.7942868478476492\n",
      "Rebuttal 0.41750358680057387\n",
      "save model weight\n",
      "============start epoch:2==============\n"
     ]
    },
    {
     "name": "stderr",
     "output_type": "stream",
     "text": [
      "100%|██████████| 3119/3119 [31:38<00:00,  1.64it/s]\n",
      "100%|██████████| 780/780 [03:20<00:00,  3.89it/s]\n",
      "100%|██████████| 3119/3119 [00:21<00:00, 143.00it/s]\n"
     ]
    },
    {
     "name": "stdout",
     "output_type": "stream",
     "text": [
      "\n",
      "Lead 0.827892400104466\n",
      "Claim 0.6065274449389478\n",
      "Counterclaim 0.5382786495482644\n",
      "Rebuttal 0.44505494505494503\n",
      "Evidence 0.7259547383309759\n",
      "Position 0.6964631356677811\n"
     ]
    },
    {
     "name": "stderr",
     "output_type": "stream",
     "text": [
      "2022-01-19 04:38:50,135 - INFO - 0,2:3118,val_score:0.6679394585810322\n"
     ]
    },
    {
     "name": "stdout",
     "output_type": "stream",
     "text": [
      "Concluding Statement 0.8354048964218456\n",
      "save model weight\n",
      "============start epoch:3==============\n"
     ]
    },
    {
     "name": "stderr",
     "output_type": "stream",
     "text": [
      "100%|██████████| 3119/3119 [31:44<00:00,  1.64it/s]\n",
      "100%|██████████| 780/780 [03:18<00:00,  3.94it/s]\n",
      "100%|██████████| 3119/3119 [00:21<00:00, 142.99it/s]\n"
     ]
    },
    {
     "name": "stdout",
     "output_type": "stream",
     "text": [
      "\n",
      "Lead 0.8242105263157895\n",
      "Claim 0.6153592978606692\n",
      "Evidence 0.7298758049678012\n",
      "Position 0.7045148247978437\n"
     ]
    },
    {
     "name": "stderr",
     "output_type": "stream",
     "text": [
      "2022-01-19 05:14:29,509 - INFO - 0,3:3118,val_score:0.6715735791189662\n"
     ]
    },
    {
     "name": "stdout",
     "output_type": "stream",
     "text": [
      "Concluding Statement 0.8253850436073483\n",
      "Counterclaim 0.5418994413407822\n",
      "Rebuttal 0.45977011494252873\n",
      "save model weight\n",
      "============start epoch:4==============\n"
     ]
    },
    {
     "name": "stderr",
     "output_type": "stream",
     "text": [
      "100%|██████████| 3119/3119 [31:48<00:00,  1.63it/s]\n",
      "100%|██████████| 780/780 [03:20<00:00,  3.88it/s]\n",
      "100%|██████████| 3119/3119 [00:21<00:00, 143.03it/s]\n"
     ]
    },
    {
     "name": "stdout",
     "output_type": "stream",
     "text": [
      "\n",
      "Lead 0.8167511336356361\n",
      "Claim 0.6144834378725831\n",
      "Position 0.6993147250543206\n",
      "Evidence 0.7233589326755984\n"
     ]
    },
    {
     "name": "stderr",
     "output_type": "stream",
     "text": [
      "2022-01-19 05:50:14,970 - INFO - 0,4:3118,val_score:0.6683251206746395\n"
     ]
    },
    {
     "name": "stdout",
     "output_type": "stream",
     "text": [
      "Concluding Statement 0.8248312078019505\n",
      "Rebuttal 0.4643765903307888\n",
      "Counterclaim 0.5351598173515981\n",
      "============start epoch:5==============\n"
     ]
    },
    {
     "name": "stderr",
     "output_type": "stream",
     "text": [
      "100%|██████████| 3119/3119 [31:42<00:00,  1.64it/s]\n",
      "100%|██████████| 780/780 [03:18<00:00,  3.92it/s]\n",
      "100%|██████████| 3119/3119 [00:21<00:00, 142.23it/s]\n"
     ]
    },
    {
     "name": "stdout",
     "output_type": "stream",
     "text": [
      "\n",
      "Lead 0.8168264110756124\n",
      "Position 0.7009093971034018\n",
      "Claim 0.6119661711404107\n",
      "Evidence 0.7234927234927235\n"
     ]
    },
    {
     "name": "stderr",
     "output_type": "stream",
     "text": [
      "2022-01-19 06:25:42,517 - INFO - 0,5:3118,val_score:0.6689662782538116\n"
     ]
    },
    {
     "name": "stdout",
     "output_type": "stream",
     "text": [
      "Concluding Statement 0.8304549675023213\n",
      "Rebuttal 0.45431789737171463\n",
      "Counterclaim 0.5447963800904977\n",
      "fold1:start\n"
     ]
    },
    {
     "name": "stderr",
     "output_type": "stream",
     "text": [
      "Some weights of the model checkpoint at allenai/longformer-large-4096 were not used when initializing LongformerModel: ['lm_head.layer_norm.weight', 'lm_head.dense.bias', 'lm_head.decoder.weight', 'lm_head.layer_norm.bias', 'lm_head.dense.weight', 'lm_head.bias']\n",
      "- This IS expected if you are initializing LongformerModel from the checkpoint of a model trained on another task or with another architecture (e.g. initializing a BertForSequenceClassification model from a BertForPreTraining model).\n",
      "- This IS NOT expected if you are initializing LongformerModel from the checkpoint of a model that you expect to be exactly identical (initializing a BertForSequenceClassification model from a BertForSequenceClassification model).\n"
     ]
    },
    {
     "name": "stdout",
     "output_type": "stream",
     "text": [
      "============start epoch:0==============\n"
     ]
    },
    {
     "name": "stderr",
     "output_type": "stream",
     "text": [
      "100%|██████████| 3119/3119 [31:38<00:00,  1.64it/s]\n",
      "100%|██████████| 780/780 [03:34<00:00,  3.64it/s]\n",
      "100%|██████████| 3119/3119 [00:22<00:00, 135.94it/s]\n"
     ]
    },
    {
     "name": "stdout",
     "output_type": "stream",
     "text": [
      "\n",
      "Lead 0.8111658456486043\n",
      "Position 0.6654797934840663\n",
      "Claim 0.570453888407054\n",
      "Evidence 0.6861877764625257\n",
      "Counterclaim 0.5055041831792162\n"
     ]
    },
    {
     "name": "stderr",
     "output_type": "stream",
     "text": [
      "2022-01-19 07:01:29,564 - INFO - 1,0:3118,val_score:0.6282022533604491\n"
     ]
    },
    {
     "name": "stdout",
     "output_type": "stream",
     "text": [
      "Rebuttal 0.357487922705314\n",
      "Concluding Statement 0.8011363636363636\n",
      "save model weight\n",
      "============start epoch:1==============\n"
     ]
    },
    {
     "name": "stderr",
     "output_type": "stream",
     "text": [
      "100%|██████████| 3119/3119 [31:48<00:00,  1.63it/s]\n",
      "100%|██████████| 780/780 [03:36<00:00,  3.60it/s]\n",
      "100%|██████████| 3119/3119 [00:21<00:00, 145.50it/s]\n"
     ]
    },
    {
     "name": "stdout",
     "output_type": "stream",
     "text": [
      "\n",
      "Lead 0.8197251414713015\n",
      "Position 0.6949647705791373\n",
      "Claim 0.5995160654999718\n",
      "Evidence 0.7066674905765309\n",
      "Counterclaim 0.4814432989690722\n",
      "Rebuttal 0.4158125915080527\n"
     ]
    },
    {
     "name": "stderr",
     "output_type": "stream",
     "text": [
      "2022-01-19 07:37:24,031 - INFO - 1,1:3118,val_score:0.6482837782479026\n"
     ]
    },
    {
     "name": "stdout",
     "output_type": "stream",
     "text": [
      "Concluding Statement 0.8198570891312523\n",
      "save model weight\n",
      "============start epoch:2==============\n"
     ]
    },
    {
     "name": "stderr",
     "output_type": "stream",
     "text": [
      "100%|██████████| 3119/3119 [31:50<00:00,  1.63it/s]\n",
      "100%|██████████| 780/780 [03:21<00:00,  3.88it/s]\n",
      "100%|██████████| 3119/3119 [00:21<00:00, 145.01it/s]\n"
     ]
    },
    {
     "name": "stdout",
     "output_type": "stream",
     "text": [
      "\n",
      "Lead 0.8238172920065253\n",
      "Position 0.7002724795640327\n",
      "Claim 0.6185258964143426\n",
      "Evidence 0.7182409485983998\n",
      "Counterclaim 0.5326135852451642\n"
     ]
    },
    {
     "name": "stderr",
     "output_type": "stream",
     "text": [
      "2022-01-19 08:13:11,187 - INFO - 1,2:3118,val_score:0.6697372200939685\n"
     ]
    },
    {
     "name": "stdout",
     "output_type": "stream",
     "text": [
      "Rebuttal 0.45962732919254656\n",
      "Concluding Statement 0.8350630096367679\n",
      "save model weight\n",
      "============start epoch:3==============\n"
     ]
    },
    {
     "name": "stderr",
     "output_type": "stream",
     "text": [
      "100%|██████████| 3119/3119 [31:53<00:00,  1.63it/s]\n",
      "100%|██████████| 780/780 [03:21<00:00,  3.87it/s]\n",
      "100%|██████████| 3119/3119 [00:21<00:00, 144.61it/s]\n"
     ]
    },
    {
     "name": "stdout",
     "output_type": "stream",
     "text": [
      "\n",
      "Position 0.7050754458161865\n",
      "Claim 0.6360865910046238\n",
      "Evidence 0.714318547460354\n",
      "Lead 0.8288288288288288\n",
      "Counterclaim 0.528441879637263\n",
      "Rebuttal 0.45662100456621\n"
     ]
    },
    {
     "name": "stderr",
     "output_type": "stream",
     "text": [
      "2022-01-19 08:49:01,691 - INFO - 1,3:3118,val_score:0.671180765067831\n"
     ]
    },
    {
     "name": "stdout",
     "output_type": "stream",
     "text": [
      "Concluding Statement 0.8288930581613508\n",
      "save model weight\n",
      "============start epoch:4==============\n"
     ]
    },
    {
     "name": "stderr",
     "output_type": "stream",
     "text": [
      "100%|██████████| 3119/3119 [31:52<00:00,  1.63it/s]\n",
      "100%|██████████| 780/780 [03:20<00:00,  3.90it/s]\n",
      "100%|██████████| 3119/3119 [00:21<00:00, 144.75it/s]\n"
     ]
    },
    {
     "name": "stdout",
     "output_type": "stream",
     "text": [
      "\n",
      "Position 0.7024668568551771\n",
      "Claim 0.623512909761546\n",
      "Evidence 0.7211099204782584\n",
      "Lead 0.8212613605067475\n",
      "Counterclaim 0.5353356890459364\n",
      "Rebuttal 0.47348951911220716\n"
     ]
    },
    {
     "name": "stderr",
     "output_type": "stream",
     "text": [
      "2022-01-19 09:24:49,877 - INFO - 1,4:3118,val_score:0.6723984787139953\n"
     ]
    },
    {
     "name": "stdout",
     "output_type": "stream",
     "text": [
      "Concluding Statement 0.8296130952380952\n",
      "save model weight\n",
      "============start epoch:5==============\n"
     ]
    },
    {
     "name": "stderr",
     "output_type": "stream",
     "text": [
      "100%|██████████| 3119/3119 [31:51<00:00,  1.63it/s]\n",
      "100%|██████████| 780/780 [03:20<00:00,  3.90it/s]\n",
      "100%|██████████| 3119/3119 [00:21<00:00, 143.95it/s]\n"
     ]
    },
    {
     "name": "stdout",
     "output_type": "stream",
     "text": [
      "\n",
      "Position 0.6983967935871743\n",
      "Evidence 0.720900140646976\n",
      "Claim 0.6224131607900666\n",
      "Lead 0.8242424242424242\n",
      "Counterclaim 0.5300133392618942\n",
      "Rebuttal 0.45780206435944143\n"
     ]
    },
    {
     "name": "stderr",
     "output_type": "stream",
     "text": [
      "2022-01-19 10:00:37,322 - INFO - 1,5:3118,val_score:0.6692939151930534\n"
     ]
    },
    {
     "name": "stdout",
     "output_type": "stream",
     "text": [
      "Concluding Statement 0.8312894834633965\n",
      "fold2:start\n"
     ]
    },
    {
     "name": "stderr",
     "output_type": "stream",
     "text": [
      "Some weights of the model checkpoint at allenai/longformer-large-4096 were not used when initializing LongformerModel: ['lm_head.layer_norm.weight', 'lm_head.dense.bias', 'lm_head.decoder.weight', 'lm_head.layer_norm.bias', 'lm_head.dense.weight', 'lm_head.bias']\n",
      "- This IS expected if you are initializing LongformerModel from the checkpoint of a model trained on another task or with another architecture (e.g. initializing a BertForSequenceClassification model from a BertForPreTraining model).\n",
      "- This IS NOT expected if you are initializing LongformerModel from the checkpoint of a model that you expect to be exactly identical (initializing a BertForSequenceClassification model from a BertForSequenceClassification model).\n"
     ]
    },
    {
     "name": "stdout",
     "output_type": "stream",
     "text": [
      "============start epoch:0==============\n"
     ]
    },
    {
     "name": "stderr",
     "output_type": "stream",
     "text": [
      "100%|██████████| 3119/3119 [31:51<00:00,  1.63it/s]\n",
      "100%|██████████| 780/780 [03:06<00:00,  4.18it/s]\n",
      "100%|██████████| 3119/3119 [00:24<00:00, 129.23it/s]\n"
     ]
    },
    {
     "name": "stdout",
     "output_type": "stream",
     "text": [
      "\n",
      "Lead 0.7972177635098984\n",
      "Position 0.6423022598870056\n",
      "Claim 0.600750547274054\n",
      "Evidence 0.6975435305153309\n",
      "Concluding Statement 0.8044545111362779\n",
      "Rebuttal 0.37212360289283364\n"
     ]
    },
    {
     "name": "stderr",
     "output_type": "stream",
     "text": [
      "2022-01-19 10:36:09,844 - INFO - 2,0:3118,val_score:0.6295012563269288\n"
     ]
    },
    {
     "name": "stdout",
     "output_type": "stream",
     "text": [
      "Counterclaim 0.4921165790731008\n",
      "save model weight\n",
      "============start epoch:1==============\n"
     ]
    },
    {
     "name": "stderr",
     "output_type": "stream",
     "text": [
      "100%|██████████| 3119/3119 [31:52<00:00,  1.63it/s]\n",
      "100%|██████████| 780/780 [03:22<00:00,  3.86it/s]\n",
      "100%|██████████| 3119/3119 [00:22<00:00, 140.30it/s]\n"
     ]
    },
    {
     "name": "stdout",
     "output_type": "stream",
     "text": [
      "\n",
      "Lead 0.8155136268343816\n",
      "Position 0.6857635893011217\n",
      "Claim 0.601051500932783\n",
      "Evidence 0.719372793105512\n"
     ]
    },
    {
     "name": "stderr",
     "output_type": "stream",
     "text": [
      "2022-01-19 11:11:53,625 - INFO - 2,1:3118,val_score:0.6501740403996585\n"
     ]
    },
    {
     "name": "stdout",
     "output_type": "stream",
     "text": [
      "Concluding Statement 0.8411352746037597\n",
      "Counterclaim 0.4939759036144578\n",
      "Rebuttal 0.3944055944055944\n",
      "save model weight\n",
      "============start epoch:2==============\n"
     ]
    },
    {
     "name": "stderr",
     "output_type": "stream",
     "text": [
      "100%|██████████| 3119/3119 [31:44<00:00,  1.64it/s]\n",
      "100%|██████████| 780/780 [03:04<00:00,  4.24it/s]\n",
      "100%|██████████| 3119/3119 [00:22<00:00, 139.61it/s]\n"
     ]
    },
    {
     "name": "stdout",
     "output_type": "stream",
     "text": [
      "\n",
      "Lead 0.8146341463414634\n",
      "Position 0.6932256932256933\n",
      "Claim 0.5996029892573563\n",
      "Evidence 0.7128919433024483\n",
      "Concluding Statement 0.8350206224221972\n",
      "Counterclaim 0.5512765036780615\n"
     ]
    },
    {
     "name": "stderr",
     "output_type": "stream",
     "text": [
      "2022-01-19 11:47:18,420 - INFO - 2,2:3118,val_score:0.6673108360198118\n"
     ]
    },
    {
     "name": "stdout",
     "output_type": "stream",
     "text": [
      "Rebuttal 0.4645239539114615\n",
      "save model weight\n",
      "============start epoch:3==============\n"
     ]
    },
    {
     "name": "stderr",
     "output_type": "stream",
     "text": [
      "100%|██████████| 3119/3119 [31:46<00:00,  1.64it/s]\n",
      "100%|██████████| 780/780 [03:22<00:00,  3.86it/s]\n",
      "100%|██████████| 3119/3119 [00:22<00:00, 139.67it/s]\n"
     ]
    },
    {
     "name": "stdout",
     "output_type": "stream",
     "text": [
      "\n",
      "Lead 0.8151581243184297\n",
      "Position 0.693654990085922\n",
      "Claim 0.623730625334046\n",
      "Evidence 0.7264848624913335\n",
      "Concluding Statement 0.8402167819099233\n",
      "Counterclaim 0.5427180168216025\n"
     ]
    },
    {
     "name": "stderr",
     "output_type": "stream",
     "text": [
      "2022-01-19 12:23:03,177 - INFO - 2,3:3118,val_score:0.6701089127976079\n"
     ]
    },
    {
     "name": "stdout",
     "output_type": "stream",
     "text": [
      "Rebuttal 0.44879898862199746\n",
      "save model weight\n",
      "============start epoch:4==============\n"
     ]
    },
    {
     "name": "stderr",
     "output_type": "stream",
     "text": [
      "100%|██████████| 3119/3119 [31:49<00:00,  1.63it/s]\n",
      "100%|██████████| 780/780 [03:04<00:00,  4.24it/s]\n",
      "100%|██████████| 3119/3119 [00:22<00:00, 139.69it/s]\n"
     ]
    },
    {
     "name": "stdout",
     "output_type": "stream",
     "text": [
      "\n",
      "Lead 0.812150279776179\n",
      "Position 0.6981547316742848\n",
      "Claim 0.6229385307346327\n",
      "Evidence 0.7319835277968428\n"
     ]
    },
    {
     "name": "stderr",
     "output_type": "stream",
     "text": [
      "2022-01-19 12:58:33,201 - INFO - 2,4:3118,val_score:0.6699654351044476\n"
     ]
    },
    {
     "name": "stdout",
     "output_type": "stream",
     "text": [
      "Concluding Statement 0.8287813147485402\n",
      "Counterclaim 0.5381850853548967\n",
      "Rebuttal 0.4575645756457565\n",
      "============start epoch:5==============\n"
     ]
    },
    {
     "name": "stderr",
     "output_type": "stream",
     "text": [
      "100%|██████████| 3119/3119 [31:52<00:00,  1.63it/s]\n",
      "100%|██████████| 780/780 [03:04<00:00,  4.23it/s]\n",
      "100%|██████████| 3119/3119 [00:22<00:00, 140.24it/s]\n"
     ]
    },
    {
     "name": "stdout",
     "output_type": "stream",
     "text": [
      "\n",
      "Lead 0.8118179398456216\n",
      "Position 0.697995620683847\n",
      "Claim 0.6224500581333897\n",
      "Evidence 0.7251179510222422\n",
      "Concluding Statement 0.8277520814061055\n",
      "Counterclaim 0.5400516795865633\n"
     ]
    },
    {
     "name": "stderr",
     "output_type": "stream",
     "text": [
      "2022-01-19 13:33:56,183 - INFO - 2,5:3118,val_score:0.6685879657428357\n"
     ]
    },
    {
     "name": "stdout",
     "output_type": "stream",
     "text": [
      "Rebuttal 0.45493042952208107\n",
      "fold3:start\n"
     ]
    },
    {
     "name": "stderr",
     "output_type": "stream",
     "text": [
      "Some weights of the model checkpoint at allenai/longformer-large-4096 were not used when initializing LongformerModel: ['lm_head.layer_norm.weight', 'lm_head.dense.bias', 'lm_head.decoder.weight', 'lm_head.layer_norm.bias', 'lm_head.dense.weight', 'lm_head.bias']\n",
      "- This IS expected if you are initializing LongformerModel from the checkpoint of a model trained on another task or with another architecture (e.g. initializing a BertForSequenceClassification model from a BertForPreTraining model).\n",
      "- This IS NOT expected if you are initializing LongformerModel from the checkpoint of a model that you expect to be exactly identical (initializing a BertForSequenceClassification model from a BertForSequenceClassification model).\n"
     ]
    },
    {
     "name": "stdout",
     "output_type": "stream",
     "text": [
      "============start epoch:0==============\n"
     ]
    },
    {
     "name": "stderr",
     "output_type": "stream",
     "text": [
      "100%|██████████| 3119/3119 [31:50<00:00,  1.63it/s]\n",
      "100%|██████████| 780/780 [02:57<00:00,  4.39it/s]\n",
      "100%|██████████| 3119/3119 [00:24<00:00, 129.64it/s]\n"
     ]
    },
    {
     "name": "stdout",
     "output_type": "stream",
     "text": [
      "\n",
      "Position 0.6543762305351709\n",
      "Claim 0.5592059438123984\n",
      "Evidence 0.6570430426471557\n",
      "Concluding Statement 0.8182861514919664\n",
      "Lead 0.7978910369068541\n"
     ]
    },
    {
     "name": "stderr",
     "output_type": "stream",
     "text": [
      "2022-01-19 14:09:18,885 - INFO - 3,0:3118,val_score:0.6182162866100187\n"
     ]
    },
    {
     "name": "stdout",
     "output_type": "stream",
     "text": [
      "Counterclaim 0.4904661016949153\n",
      "Rebuttal 0.3502454991816694\n",
      "save model weight\n",
      "============start epoch:1==============\n"
     ]
    },
    {
     "name": "stderr",
     "output_type": "stream",
     "text": [
      "100%|██████████| 3119/3119 [31:51<00:00,  1.63it/s]\n",
      "100%|██████████| 780/780 [02:58<00:00,  4.38it/s]\n",
      "100%|██████████| 3119/3119 [00:22<00:00, 141.62it/s]\n"
     ]
    },
    {
     "name": "stdout",
     "output_type": "stream",
     "text": [
      "\n",
      "Position 0.6911966987620357\n",
      "Claim 0.6062060497823418\n",
      "Evidence 0.7130476649013\n",
      "Concluding Statement 0.835353347007272\n",
      "Lead 0.8241361526560083\n"
     ]
    },
    {
     "name": "stderr",
     "output_type": "stream",
     "text": [
      "2022-01-19 14:44:37,299 - INFO - 3,1:3118,val_score:0.6443028821623636\n"
     ]
    },
    {
     "name": "stdout",
     "output_type": "stream",
     "text": [
      "Counterclaim 0.4802139037433155\n",
      "Rebuttal 0.3599663582842725\n",
      "save model weight\n",
      "============start epoch:2==============\n"
     ]
    },
    {
     "name": "stderr",
     "output_type": "stream",
     "text": [
      "100%|██████████| 3119/3119 [31:48<00:00,  1.63it/s]\n",
      "100%|██████████| 780/780 [02:57<00:00,  4.38it/s]\n",
      "100%|██████████| 3119/3119 [00:22<00:00, 140.72it/s]\n"
     ]
    },
    {
     "name": "stdout",
     "output_type": "stream",
     "text": [
      "\n",
      "Position 0.7037854354099474\n",
      "Claim 0.6246918872575287\n",
      "Evidence 0.7292978773034756\n",
      "Concluding Statement 0.8377061469265368\n",
      "Lead 0.8182057353328072\n"
     ]
    },
    {
     "name": "stderr",
     "output_type": "stream",
     "text": [
      "2022-01-19 15:20:00,286 - INFO - 3,2:3118,val_score:0.6652059154591935\n"
     ]
    },
    {
     "name": "stdout",
     "output_type": "stream",
     "text": [
      "Counterclaim 0.5173439048562933\n",
      "Rebuttal 0.4254104211277659\n",
      "save model weight\n",
      "============start epoch:3==============\n"
     ]
    },
    {
     "name": "stderr",
     "output_type": "stream",
     "text": [
      "100%|██████████| 3119/3119 [31:45<00:00,  1.64it/s]\n",
      "100%|██████████| 780/780 [02:53<00:00,  4.49it/s]\n",
      "100%|██████████| 3119/3119 [00:19<00:00, 160.80it/s]\n"
     ]
    },
    {
     "name": "stdout",
     "output_type": "stream",
     "text": [
      "\n",
      "Position 0.7052161976664378\n",
      "Claim 0.6123454146367578\n",
      "Evidence 0.709325513196481\n",
      "Concluding Statement 0.8462251901317009\n",
      "Lead 0.816953642384106\n"
     ]
    },
    {
     "name": "stderr",
     "output_type": "stream",
     "text": [
      "2022-01-19 15:55:12,719 - INFO - 3,3:3118,val_score:0.6629571429452588\n"
     ]
    },
    {
     "name": "stdout",
     "output_type": "stream",
     "text": [
      "Counterclaim 0.5075960679177838\n",
      "Rebuttal 0.4430379746835443\n",
      "============start epoch:4==============\n"
     ]
    },
    {
     "name": "stderr",
     "output_type": "stream",
     "text": [
      "100%|██████████| 3119/3119 [31:22<00:00,  1.66it/s]\n",
      "100%|██████████| 780/780 [02:53<00:00,  4.48it/s]\n",
      "100%|██████████| 3119/3119 [00:19<00:00, 159.96it/s]\n"
     ]
    },
    {
     "name": "stdout",
     "output_type": "stream",
     "text": [
      "\n",
      "Position 0.7047945205479452\n",
      "Claim 0.6224425226745413\n",
      "Evidence 0.7287230989956959\n",
      "Concluding Statement 0.845299777942265\n",
      "Lead 0.8262004175365344\n"
     ]
    },
    {
     "name": "stderr",
     "output_type": "stream",
     "text": [
      "2022-01-19 16:29:52,846 - INFO - 3,4:3118,val_score:0.6657081775376174\n"
     ]
    },
    {
     "name": "stdout",
     "output_type": "stream",
     "text": [
      "Counterclaim 0.5024342745861733\n",
      "Rebuttal 0.430062630480167\n",
      "save model weight\n",
      "============start epoch:5==============\n"
     ]
    },
    {
     "name": "stderr",
     "output_type": "stream",
     "text": [
      "100%|██████████| 3119/3119 [31:24<00:00,  1.65it/s]\n",
      "100%|██████████| 780/780 [02:53<00:00,  4.49it/s]\n",
      "100%|██████████| 3119/3119 [00:19<00:00, 160.80it/s]\n"
     ]
    },
    {
     "name": "stdout",
     "output_type": "stream",
     "text": [
      "\n",
      "Position 0.7004701141705842\n",
      "Claim 0.6132579327678291\n",
      "Evidence 0.7217200920675911\n",
      "Concluding Statement 0.8377679231337768\n",
      "Lead 0.8258811152025249\n"
     ]
    },
    {
     "name": "stderr",
     "output_type": "stream",
     "text": [
      "2022-01-19 17:04:44,327 - INFO - 3,5:3118,val_score:0.6661717581070915\n"
     ]
    },
    {
     "name": "stdout",
     "output_type": "stream",
     "text": [
      "Counterclaim 0.5205104831358249\n",
      "Rebuttal 0.4435946462715105\n",
      "save model weight\n",
      "fold4:start\n"
     ]
    },
    {
     "name": "stderr",
     "output_type": "stream",
     "text": [
      "Some weights of the model checkpoint at allenai/longformer-large-4096 were not used when initializing LongformerModel: ['lm_head.layer_norm.weight', 'lm_head.dense.bias', 'lm_head.decoder.weight', 'lm_head.layer_norm.bias', 'lm_head.dense.weight', 'lm_head.bias']\n",
      "- This IS expected if you are initializing LongformerModel from the checkpoint of a model trained on another task or with another architecture (e.g. initializing a BertForSequenceClassification model from a BertForPreTraining model).\n",
      "- This IS NOT expected if you are initializing LongformerModel from the checkpoint of a model that you expect to be exactly identical (initializing a BertForSequenceClassification model from a BertForSequenceClassification model).\n"
     ]
    },
    {
     "name": "stdout",
     "output_type": "stream",
     "text": [
      "============start epoch:0==============\n"
     ]
    },
    {
     "name": "stderr",
     "output_type": "stream",
     "text": [
      "100%|██████████| 3119/3119 [31:21<00:00,  1.66it/s]\n",
      "100%|██████████| 780/780 [02:46<00:00,  4.68it/s]\n",
      "100%|██████████| 3118/3118 [00:21<00:00, 143.99it/s]\n"
     ]
    },
    {
     "name": "stdout",
     "output_type": "stream",
     "text": [
      "\n",
      "Lead 0.8228600982673907\n",
      "Claim 0.586342355916698\n",
      "Evidence 0.6928797854181907\n",
      "Concluding Statement 0.8104256516032252\n",
      "Position 0.6619013581129378\n"
     ]
    },
    {
     "name": "stderr",
     "output_type": "stream",
     "text": [
      "2022-01-19 17:39:34,227 - INFO - 4,0:3118,val_score:0.6287593823178385\n"
     ]
    },
    {
     "name": "stdout",
     "output_type": "stream",
     "text": [
      "Counterclaim 0.4987012987012987\n",
      "Rebuttal 0.3282051282051282\n",
      "save model weight\n",
      "============start epoch:1==============\n"
     ]
    },
    {
     "name": "stderr",
     "output_type": "stream",
     "text": [
      "100%|██████████| 3119/3119 [31:54<00:00,  1.63it/s]\n",
      "100%|██████████| 780/780 [03:05<00:00,  4.21it/s]\n",
      "100%|██████████| 3118/3118 [00:22<00:00, 139.24it/s]\n"
     ]
    },
    {
     "name": "stdout",
     "output_type": "stream",
     "text": [
      "\n",
      "Lead 0.8248348745046236\n",
      "Evidence 0.7041631874030777\n",
      "Claim 0.5825725182017797\n",
      "Concluding Statement 0.8187066974595842\n",
      "Position 0.6839902336937566\n"
     ]
    },
    {
     "name": "stderr",
     "output_type": "stream",
     "text": [
      "2022-01-19 18:15:02,742 - INFO - 4,1:3118,val_score:0.6509250433529447\n"
     ]
    },
    {
     "name": "stdout",
     "output_type": "stream",
     "text": [
      "Counterclaim 0.5227272727272727\n",
      "Rebuttal 0.41948051948051945\n",
      "save model weight\n",
      "============start epoch:2==============\n"
     ]
    },
    {
     "name": "stderr",
     "output_type": "stream",
     "text": [
      "100%|██████████| 3119/3119 [31:26<00:00,  1.65it/s]\n",
      "100%|██████████| 780/780 [02:46<00:00,  4.69it/s]\n",
      "100%|██████████| 3118/3118 [00:19<00:00, 160.64it/s]\n"
     ]
    },
    {
     "name": "stdout",
     "output_type": "stream",
     "text": [
      "\n",
      "Lead 0.8192256341789053\n",
      "Claim 0.6117386042759178\n",
      "Evidence 0.6984051416329445\n",
      "Position 0.6984180410636149\n"
     ]
    },
    {
     "name": "stderr",
     "output_type": "stream",
     "text": [
      "2022-01-19 18:49:49,297 - INFO - 4,2:3118,val_score:0.6631572717981126\n"
     ]
    },
    {
     "name": "stdout",
     "output_type": "stream",
     "text": [
      "Concluding Statement 0.8262150220913107\n",
      "Counterclaim 0.5387387387387388\n",
      "Rebuttal 0.44935972060535506\n",
      "save model weight\n",
      "============start epoch:3==============\n"
     ]
    },
    {
     "name": "stderr",
     "output_type": "stream",
     "text": [
      "100%|██████████| 3119/3119 [31:35<00:00,  1.65it/s]\n",
      "100%|██████████| 780/780 [03:05<00:00,  4.20it/s]\n",
      "100%|██████████| 3118/3118 [00:21<00:00, 144.38it/s]\n"
     ]
    },
    {
     "name": "stdout",
     "output_type": "stream",
     "text": [
      "\n",
      "Lead 0.820812317494027\n",
      "Position 0.6982568962599425\n",
      "Claim 0.6096029068258499\n",
      "Evidence 0.714572864321608\n",
      "Counterclaim 0.5413595413595413\n"
     ]
    },
    {
     "name": "stderr",
     "output_type": "stream",
     "text": [
      "2022-01-19 19:25:05,663 - INFO - 4,3:3118,val_score:0.666751420558991\n"
     ]
    },
    {
     "name": "stdout",
     "output_type": "stream",
     "text": [
      "Concluding Statement 0.8304435115897062\n",
      "Rebuttal 0.4522119060622611\n",
      "save model weight\n",
      "============start epoch:4==============\n"
     ]
    },
    {
     "name": "stderr",
     "output_type": "stream",
     "text": [
      "100%|██████████| 3119/3119 [31:46<00:00,  1.64it/s]\n",
      "100%|██████████| 780/780 [02:50<00:00,  4.59it/s]\n",
      "100%|██████████| 3118/3118 [00:22<00:00, 139.10it/s]\n"
     ]
    },
    {
     "name": "stdout",
     "output_type": "stream",
     "text": [
      "\n",
      "Lead 0.8209074024940303\n",
      "Position 0.7029021976178493\n",
      "Evidence 0.7183316738577277\n",
      "Claim 0.6091820580474934\n",
      "Concluding Statement 0.8334849863512284\n",
      "Counterclaim 0.5359531772575251\n"
     ]
    },
    {
     "name": "stderr",
     "output_type": "stream",
     "text": [
      "2022-01-19 20:00:18,735 - INFO - 4,4:3118,val_score:0.6653745091264629\n"
     ]
    },
    {
     "name": "stdout",
     "output_type": "stream",
     "text": [
      "Rebuttal 0.43686006825938567\n",
      "============start epoch:5==============\n"
     ]
    },
    {
     "name": "stderr",
     "output_type": "stream",
     "text": [
      "100%|██████████| 3119/3119 [31:16<00:00,  1.66it/s]\n",
      "100%|██████████| 780/780 [02:46<00:00,  4.68it/s]\n",
      "100%|██████████| 3118/3118 [00:19<00:00, 159.19it/s]\n"
     ]
    },
    {
     "name": "stdout",
     "output_type": "stream",
     "text": [
      "\n",
      "Lead 0.8227176220806794\n",
      "Position 0.6990810359231412\n",
      "Evidence 0.7202504052316807\n",
      "Claim 0.6076226179318963\n"
     ]
    },
    {
     "name": "stderr",
     "output_type": "stream",
     "text": [
      "2022-01-19 20:34:46,054 - INFO - 4,5:3118,val_score:0.6652452075375989\n"
     ]
    },
    {
     "name": "stdout",
     "output_type": "stream",
     "text": [
      "Concluding Statement 0.8241938422299143\n",
      "Counterclaim 0.5394120153387303\n",
      "Rebuttal 0.4434389140271493\n"
     ]
    },
    {
     "name": "stderr",
     "output_type": "stream",
     "text": [
      "2022-01-19 20:34:46,612 - INFO - [longformer_large] done in 63741 s\n"
     ]
    }
   ],
   "source": [
    "# ================================\n",
    "# train\n",
    "# ================================\n",
    "with timer(\"longformer_large\"):\n",
    "    set_seed(SEED)\n",
    "    oof = pd.DataFrame()\n",
    "    oof_pred = np.ndarray((0,max_len,15))\n",
    "    kf = KFold(n_splits=N_SPLITS, shuffle=SHUFFLE, random_state=SEED)\n",
    "    for fold, (train_idx, valid_idx) in enumerate(kf.split(id_array)):\n",
    "        print(f\"fold{fold}:start\")\n",
    "        x_train_token, x_train_attention, y_train  = train_tokens[train_idx], train_attention[train_idx], targets[train_idx]\n",
    "        x_val_token, x_val_attention, y_val  = train_tokens[valid_idx], train_attention[valid_idx], targets[valid_idx]\n",
    "        train_val = train[train.id.isin(id_array[valid_idx])].reset_index(drop=True)\n",
    "        \n",
    "        # dataset\n",
    "        train_ = TrainDataset( x_train_token, x_train_attention, y_train)\n",
    "        val_ = TrainDataset( x_val_token, x_val_attention, y_val)\n",
    "        \n",
    "        # loader\n",
    "        train_loader = DataLoader(dataset=train_, batch_size=BATCH_SIZE, shuffle = True ,pin_memory=True)\n",
    "        val_loader = DataLoader(dataset=val_, batch_size=BATCH_SIZE, shuffle = False , pin_memory=True)\n",
    "        \n",
    "        # model\n",
    "        model = custom_model()\n",
    "        model = model.to(device)\n",
    "        \n",
    "        # optimizer, scheduler\n",
    "        param_optimizer = list(model.named_parameters())\n",
    "        no_decay = ['bias', 'LayerNorm.bias', 'LayerNorm.weight']\n",
    "        optimizer_grouped_parameters = [\n",
    "            {'params': [p for n, p in param_optimizer if not any(nd in n for nd in no_decay)], 'weight_decay': weight_decay},\n",
    "            {'params': [p for n, p in param_optimizer if any(nd in n for nd in no_decay)], 'weight_decay': 0.0}\n",
    "        ]\n",
    "        optimizer = AdamW(optimizer_grouped_parameters,\n",
    "                          lr=lr,\n",
    "                          betas=beta,\n",
    "                          weight_decay=weight_decay,\n",
    "                          )\n",
    "        num_train_optimization_steps = int(len(train_loader) * n_epochs)\n",
    "        num_warmup_steps = int(num_train_optimization_steps * num_warmup_steps_rate)\n",
    "        scheduler = get_linear_schedule_with_warmup(optimizer,\n",
    "                                                    num_warmup_steps=num_warmup_steps,\n",
    "                                                    num_training_steps=num_train_optimization_steps)\n",
    "        \n",
    "        criterion = nn.BCEWithLogitsLoss()\n",
    "        best_val = 0\n",
    "        \n",
    "        for epoch in range(n_epochs):\n",
    "            print(f\"============start epoch:{epoch}==============\")\n",
    "            model.train() \n",
    "            val_losses_batch = []\n",
    "            scaler = GradScaler()\n",
    "            for i, d in tqdm(enumerate(train_loader),total=len(train_loader)):\n",
    "                d = collate(d)\n",
    "                ids = d['token'].to(device)\n",
    "                mask = d['mask'].to(device)\n",
    "                labels = d['y'].to(device)\n",
    "                #labels = labels.unsqueeze(-1)\n",
    "                optimizer.zero_grad()\n",
    "                with autocast():\n",
    "                    output = model(ids,mask)\n",
    "                    loss = criterion(output[mask == 1], labels[mask == 1])\n",
    "                scaler.scale(loss).backward()\n",
    "                #torch.nn.utils.clip_grad_norm_(model.parameters(), clip_grad_norm)\n",
    "                scaler.step(optimizer)\n",
    "                scaler.update()\n",
    "                scheduler.step()\n",
    "            \n",
    "            y_pred2 = []\n",
    "            val_preds = np.ndarray((0,max_len,15))\n",
    "            val_len = np.ndarray(0)\n",
    "            model.eval()  # switch model to the evaluation mode\n",
    "            with torch.no_grad():  \n",
    "                # Predicting on validation set\n",
    "                \n",
    "                for d in tqdm(val_loader,total=len(val_loader)):\n",
    "                    # =========================\n",
    "                    # data loader\n",
    "                    # =========================\n",
    "                    d = collate(d)\n",
    "                    ids = d['token'].to(device)\n",
    "                    mask = d['mask'].to(device)\n",
    "                    with autocast():\n",
    "                        outputs = model(ids, mask)\n",
    "                    outputs = np.concatenate([outputs.sigmoid().detach().cpu().numpy(),\n",
    "                                              np.zeros([len(outputs),max_len - d[\"max_len\"],15])],axis=1)\n",
    "                    val_preds = np.concatenate([val_preds, outputs], axis=0)\n",
    "                    val_len = np.concatenate([val_len,np.array([d[\"max_len\"] for i in range(len(ids))])],axis=0)\n",
    "            val_preds_max = np.argmax(val_preds,axis=-1)\n",
    "            oof_ = get_preds_collate( dataset='train', verbose=True, text_ids=id_array[valid_idx],\n",
    "                                      preds = val_preds_max,preds_len=val_len)      \n",
    "            # COMPUTE F1 SCORE\n",
    "            f1s = []\n",
    "            CLASSES = oof_['class'].unique()\n",
    "            print()\n",
    "            for c in CLASSES:\n",
    "                pred_df = oof_.loc[oof_['class']==c].copy()\n",
    "                gt_df = train_val.loc[train_val['discourse_type']==c].copy()\n",
    "                f1 = score_feedback_comp(pred_df, gt_df)\n",
    "                print(c,f1)\n",
    "                f1s.append(f1)\n",
    "            score = np.mean(f1s)\n",
    "            LOGGER.info(f'{fold},{epoch}:{i},val_score:{score}')\n",
    "            if best_val < score:\n",
    "                print(\"save model weight\")\n",
    "                best_val = score\n",
    "                best_val_preds = val_preds\n",
    "                oof_best = oof_.copy()\n",
    "                torch.save(model.state_dict(), MODEL_PATH_BASE + f\"_{fold}.pth\") # Saving current best model\n",
    "        oof_best[\"fold\"] = fold\n",
    "        oof_best.to_csv(OUTPUT_DIR + f\"/ex{ex}_oof_{fold}.csv\",index=False)\n",
    "        np.save(OUTPUT_DIR + f\"/ex{ex}_oof_npy_{fold}.npy\",best_val_preds)"
   ]
  },
  {
   "cell_type": "code",
   "execution_count": 13,
   "id": "6dc77138",
   "metadata": {},
   "outputs": [
    {
     "name": "stdout",
     "output_type": "stream",
     "text": [
      "Lead 0.8218649517684887\n",
      "Claim 0.6171306481638179\n",
      "Evidence 0.7227554284936356\n",
      "Position 0.7000402630519393\n",
      "Concluding Statement 0.8329197377680655\n",
      "Counterclaim 0.5368616691742633\n"
     ]
    },
    {
     "name": "stderr",
     "output_type": "stream",
     "text": [
      "2022-01-19 20:40:14,043 - INFO - CV:0.6696554829787125\n"
     ]
    },
    {
     "name": "stdout",
     "output_type": "stream",
     "text": [
      "Rebuttal 0.4560156824307768\n"
     ]
    }
   ],
   "source": [
    "oof = pd.DataFrame()\n",
    "for i in range(5):\n",
    "    oof__ = pd.read_csv(OUTPUT_DIR + f\"/ex{ex}_oof_{i}.csv\")\n",
    "    oof = pd.concat([oof,oof__]).reset_index(drop=True)\n",
    "# COMPUTE F1 SCORE\n",
    "f1s = []\n",
    "CLASSES = oof['class'].unique()\n",
    "for c in CLASSES:\n",
    "    pred_df = oof.loc[oof['class']==c].copy()\n",
    "    gt_df = train.loc[train['discourse_type']==c].copy()\n",
    "    f1 = score_feedback_comp(pred_df, gt_df)\n",
    "    print(c,f1)\n",
    "    f1s.append(f1)\n",
    "score = np.mean(f1s)\n",
    "LOGGER.info(f'CV:{score}')"
   ]
  }
 ],
 "metadata": {
  "kernelspec": {
   "display_name": "Python 3 (ipykernel)",
   "language": "python",
   "name": "python3"
  },
  "language_info": {
   "codemirror_mode": {
    "name": "ipython",
    "version": 3
   },
   "file_extension": ".py",
   "mimetype": "text/x-python",
   "name": "python",
   "nbconvert_exporter": "python",
   "pygments_lexer": "ipython3",
   "version": "3.7.10"
  }
 },
 "nbformat": 4,
 "nbformat_minor": 5
}
