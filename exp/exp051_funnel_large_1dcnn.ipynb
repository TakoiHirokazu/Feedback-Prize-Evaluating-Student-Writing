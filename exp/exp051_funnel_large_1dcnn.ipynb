{
 "cells": [
  {
   "cell_type": "code",
   "execution_count": 1,
   "id": "155fb044",
   "metadata": {},
   "outputs": [
    {
     "name": "stderr",
     "output_type": "stream",
     "text": [
      "2022-02-17 12:21:36.061835: I tensorflow/stream_executor/platform/default/dso_loader.cc:49] Successfully opened dynamic library libcudart.so.11.0\n"
     ]
    }
   ],
   "source": [
    "# ========================================\n",
    "# library\n",
    "# ========================================\n",
    "import pandas as pd\n",
    "import numpy as np\n",
    "import matplotlib.pyplot as plt\n",
    "from sklearn.model_selection import StratifiedKFold, KFold,GroupKFold\n",
    "from sklearn.metrics import mean_squared_error\n",
    "%matplotlib inline\n",
    "import torch\n",
    "import torch.nn as nn\n",
    "from torch.utils.data import Dataset, DataLoader, Subset\n",
    "import transformers\n",
    "from transformers import LongformerTokenizer, LongformerModel,AutoTokenizer,RobertaModel,BartModel,DebertaModel,FunnelModel\n",
    "from transformers import AdamW, get_linear_schedule_with_warmup\n",
    "from torch.cuda.amp import autocast, GradScaler\n",
    "import logging\n",
    "from ast import literal_eval\n",
    "import sys\n",
    "from contextlib import contextmanager\n",
    "import time\n",
    "import random\n",
    "from tqdm import tqdm\n",
    "import os"
   ]
  },
  {
   "cell_type": "code",
   "execution_count": 2,
   "id": "f3d0fc97",
   "metadata": {},
   "outputs": [],
   "source": [
    "# ==================\n",
    "# Constant\n",
    "# ==================\n",
    "ex = \"051\"\n",
    "TRAIN_PATH = \"../data/train.csv\"\n",
    "DATA_DIR = \"../data/funnel-large/\"\n",
    "if not os.path.exists(f\"../output/exp/ex{ex}\"):\n",
    "    os.makedirs(f\"../output/exp/ex{ex}\")\n",
    "    os.makedirs(f\"../output/exp/ex{ex}/ex{ex}_model\")\n",
    "    \n",
    "OUTPUT_DIR = f\"../output/exp/ex{ex}\"\n",
    "MODEL_PATH_BASE = f\"../output/exp/ex{ex}/ex{ex}_model/ex{ex}\"\n",
    "LOGGER_PATH = f\"../output/exp/ex{ex}/ex{ex}.txt\"\n",
    "device = torch.device(\"cuda\" if torch.cuda.is_available() else \"cpu\")"
   ]
  },
  {
   "cell_type": "code",
   "execution_count": 3,
   "id": "b90a434e",
   "metadata": {},
   "outputs": [],
   "source": [
    "# ===============\n",
    "# Configs\n",
    "# ===============\n",
    "SEED = 0\n",
    "N_SPLITS = 5\n",
    "SHUFFLE = True\n",
    "num_workers = 4\n",
    "BATCH_SIZE = 8\n",
    "\n",
    "n_epochs = 6\n",
    "max_len = 512\n",
    "weight_decay = 0.1\n",
    "beta = (0.9, 0.98)\n",
    "lr = 2e-5\n",
    "num_warmup_steps_rate = 0.1\n",
    "\n",
    "MODEL_PATH = 'funnel-transformer/large'\n",
    "tokenizer = AutoTokenizer.from_pretrained(MODEL_PATH)"
   ]
  },
  {
   "cell_type": "code",
   "execution_count": 4,
   "id": "0f6f2475",
   "metadata": {},
   "outputs": [
    {
     "name": "stderr",
     "output_type": "stream",
     "text": [
      "2022-02-17 12:22:01,463 - INFO - logger set up\n"
     ]
    },
    {
     "data": {
      "text/plain": [
       "<RootLogger root (DEBUG)>"
      ]
     },
     "execution_count": 4,
     "metadata": {},
     "output_type": "execute_result"
    }
   ],
   "source": [
    "# ===============\n",
    "# Functions\n",
    "# ===============\n",
    "def set_seed(seed: int = 42):\n",
    "    random.seed(seed)\n",
    "    np.random.seed(seed)\n",
    "    os.environ[\"PYTHONHASHSEED\"] = str(seed)\n",
    "    torch.manual_seed(seed)\n",
    "    torch.cuda.manual_seed(seed)\n",
    "    torch.backends.cudnn.deterministic = True\n",
    "    torch.backends.cudnn.benchmark = False\n",
    "\n",
    "def setup_logger(out_file=None, stderr=True, stderr_level=logging.INFO, file_level=logging.DEBUG):\n",
    "    LOGGER.handlers = []\n",
    "    LOGGER.setLevel(min(stderr_level, file_level))\n",
    "\n",
    "    if stderr:\n",
    "        handler = logging.StreamHandler(sys.stderr)\n",
    "        handler.setFormatter(FORMATTER)\n",
    "        handler.setLevel(stderr_level)\n",
    "        LOGGER.addHandler(handler)\n",
    "\n",
    "    if out_file is not None:\n",
    "        handler = logging.FileHandler(out_file)\n",
    "        handler.setFormatter(FORMATTER)\n",
    "        handler.setLevel(file_level)\n",
    "        LOGGER.addHandler(handler)\n",
    "\n",
    "    LOGGER.info(\"logger set up\")\n",
    "    return LOGGER\n",
    "\n",
    "\n",
    "@contextmanager\n",
    "def timer(name):\n",
    "    t0 = time.time()\n",
    "    yield \n",
    "    LOGGER.info(f'[{name}] done in {time.time() - t0:.0f} s')\n",
    "    \n",
    "    \n",
    "LOGGER = logging.getLogger()\n",
    "FORMATTER = logging.Formatter(\"%(asctime)s - %(levelname)s - %(message)s\")\n",
    "setup_logger(out_file=LOGGER_PATH)"
   ]
  },
  {
   "cell_type": "code",
   "execution_count": 5,
   "id": "2aab64a7",
   "metadata": {},
   "outputs": [],
   "source": [
    "class TrainDataset(Dataset):\n",
    "    def __init__(self, token,attentiona_mask,label=None):\n",
    "        self.len = len(token)\n",
    "        self.token = token\n",
    "        self.attention_mask = attentiona_mask\n",
    "        self.label = label\n",
    "        #self.get_wids = get_wids # for validation\n",
    "\n",
    "    def __getitem__(self, index):\n",
    "        # GET TEXT AND WORD LABELS \n",
    "        if self.label is not None:\n",
    "            return {\n",
    "              'token': torch.tensor(self.token[index], dtype=torch.long),\n",
    "              'mask': torch.tensor(self.attention_mask[index], dtype=torch.long),\n",
    "              \"y\":torch.tensor(self.label[index], dtype=torch.float32)\n",
    "               }\n",
    "        else:\n",
    "            return {\n",
    "              'token': torch.tensor(self.token[index], dtype=torch.long),\n",
    "              'mask': torch.tensor(self.attention_mask[index], dtype=torch.long),\n",
    "               }\n",
    "\n",
    "    def __len__(self):\n",
    "        return self.len\n",
    "\n",
    "class custom_model(nn.Module):\n",
    "    def __init__(self):\n",
    "        super(custom_model, self).__init__()\n",
    "        self.backbone = FunnelModel.from_pretrained(\n",
    "            MODEL_PATH, \n",
    "        )\n",
    "        \n",
    "        #self.dropout = nn.Dropout(p=0.2)\n",
    "        self.ln = nn.LayerNorm(1024)\n",
    "        \n",
    "        self.conv1= nn.Conv1d(1024, 512, kernel_size=3, padding=1)\n",
    "        self.conv2= nn.Conv1d(1024, 512, kernel_size=9, padding=4)\n",
    "        self.conv3= nn.Conv1d(1024, 512, kernel_size=15, padding=7)\n",
    "        self.conv4= nn.Conv1d(1024, 512, kernel_size=31, padding=15)\n",
    "        self.ln1 = nn.Sequential(nn.LayerNorm(512),\n",
    "                                            nn.ReLU(),\n",
    "                                            nn.Dropout(0.2))\n",
    "        self.ln2 = nn.Sequential( nn.LayerNorm(512),\n",
    "                                            nn.ReLU(),\n",
    "                                            nn.Dropout(0.2))\n",
    "        self.ln3 = nn.Sequential( nn.LayerNorm(512),\n",
    "                                            nn.ReLU(),\n",
    "                                            nn.Dropout(0.2))\n",
    "        self.ln4 = nn.Sequential( nn.LayerNorm(512),\n",
    "                                            nn.ReLU(),\n",
    "                                            nn.Dropout(0.2))\n",
    "        \n",
    "        self.linear1 = nn.Sequential(\n",
    "            nn.Linear(2048,1024),\n",
    "            nn.LayerNorm(1024),\n",
    "            nn.ReLU(),\n",
    "            nn.Dropout(0.2),\n",
    "            nn.Linear(1024,2),\n",
    "        )\n",
    "        self.linear2 = nn.Sequential(\n",
    "            nn.Linear(2048,1024),\n",
    "            nn.LayerNorm(1024),\n",
    "            nn.ReLU(),\n",
    "            nn.Dropout(0.2),\n",
    "            nn.Linear(1024,2),\n",
    "        )\n",
    "        self.linear3 = nn.Sequential(\n",
    "            nn.Linear(2048,1024),\n",
    "            nn.LayerNorm(1024),\n",
    "            nn.ReLU(),\n",
    "            nn.Dropout(0.2),\n",
    "            nn.Linear(1024,2),\n",
    "        )\n",
    "        self.linear4 = nn.Sequential(\n",
    "            nn.Linear(2048,1024),\n",
    "            nn.LayerNorm(1024),\n",
    "            nn.ReLU(),\n",
    "            nn.Dropout(0.2),\n",
    "            nn.Linear(1024,2),\n",
    "        )\n",
    "        self.linear5 = nn.Sequential(\n",
    "            nn.Linear(2048,1024),\n",
    "            nn.LayerNorm(1024),\n",
    "            nn.ReLU(),\n",
    "            nn.Dropout(0.2),\n",
    "            nn.Linear(1024,2),\n",
    "        )\n",
    "        self.linear6 = nn.Sequential(\n",
    "            nn.Linear(2048,1024),\n",
    "            nn.LayerNorm(1024),\n",
    "            nn.ReLU(),\n",
    "            nn.Dropout(0.2),\n",
    "            nn.Linear(1024,2),\n",
    "        )\n",
    "        self.linear7 = nn.Sequential(\n",
    "            nn.Linear(2048,1024),\n",
    "            nn.LayerNorm(1024),\n",
    "            nn.ReLU(),\n",
    "            nn.Dropout(0.2),\n",
    "            nn.Linear(1024,2),\n",
    "        )\n",
    "        self.linear8 = nn.Sequential(\n",
    "            nn.Linear(2048,1024),\n",
    "            nn.LayerNorm(1024),\n",
    "            nn.ReLU(),\n",
    "            nn.Dropout(0.2),\n",
    "            nn.Linear(1024,1),\n",
    "        )\n",
    "    def forward(self, ids, mask):\n",
    "        # pooler\n",
    "        emb = self.backbone(ids, attention_mask=mask)[\"last_hidden_state\"]\n",
    "        output = self.ln(emb)\n",
    "        output = output.permute((0, 2, 1)).contiguous()\n",
    "        output1 = self.conv1(output)\n",
    "        output1 = self.ln1(output1.permute((0, 2, 1)).contiguous())\n",
    "        output2 = self.conv2(output)\n",
    "        output2 = self.ln2(output2.permute((0, 2, 1)).contiguous())\n",
    "        output3 = self.conv3(output)\n",
    "        output3 = self.ln3(output3.permute((0, 2, 1)).contiguous())\n",
    "        output4 = self.conv4(output)\n",
    "        output4 = self.ln4(output4.permute((0, 2, 1)).contiguous())\n",
    "        output_concat = torch.cat([output1,output2,output3,output4],axis=-1)\n",
    "        output2_1 = self.linear1(output_concat)\n",
    "        output2_2 = self.linear2(output_concat)\n",
    "        output2_3 = self.linear3(output_concat)\n",
    "        output2_4 = self.linear4(output_concat)\n",
    "        output2_5 = self.linear5(output_concat)\n",
    "        output2_6 = self.linear6(output_concat)\n",
    "        output2_7= self.linear7(output_concat)\n",
    "        output2_8 = self.linear8(output_concat)\n",
    "        out = torch.cat(\n",
    "            [output2_1,output2_2,output2_3,output2_4,\n",
    "             output2_5,output2_6,output2_7,output2_8], axis=2)\n",
    "        return out"
   ]
  },
  {
   "cell_type": "code",
   "execution_count": 6,
   "id": "07f2b82e",
   "metadata": {},
   "outputs": [],
   "source": [
    "target_map_rev = {0:'Lead', 1:'Position', 2:'Evidence', 3:'Claim', 4:'Concluding Statement',\n",
    "             5:'Counterclaim', 6:'Rebuttal', 7:'blank'}\n",
    "\n",
    "def get_preds_collate(dataset, verbose,text_ids, preds, preds_len):\n",
    "    all_predictions = []\n",
    "\n",
    "    for id_num in tqdm(range(len(preds))):\n",
    "    \n",
    "        # GET ID\n",
    "        #if (id_num%100==0)&(verbose): \n",
    "        #    print(id_num,', ',end='')\n",
    "        n = text_ids[id_num]\n",
    "        max_len = int(preds_len[id_num])\n",
    "        # GET TOKEN POSITIONS IN CHARS\n",
    "        name = f'../data/{dataset}/{n}.txt'\n",
    "        txt = open(name, 'r').read()\n",
    "        tokens = tokenizer.encode_plus(txt, max_length=max_len, padding='max_length',\n",
    "                                   truncation=True, return_offsets_mapping=True)\n",
    "        off = tokens['offset_mapping']\n",
    "    \n",
    "        # GET WORD POSITIONS IN CHARS\n",
    "        w = []\n",
    "        blank = True\n",
    "        for i in range(len(txt)):\n",
    "            if (txt[i]!=' ')&(txt[i]!='\\n')&(txt[i]!='\\xa0')&(txt[i]!='\\x85')&(blank==True):\n",
    "                w.append(i)\n",
    "                blank=False\n",
    "            elif (txt[i]==' ')|(txt[i]=='\\n')|(txt[i]=='\\xa0')|(txt[i]=='\\x85'):\n",
    "                blank=True\n",
    "        w.append(1e6)\n",
    "            \n",
    "        # MAPPING FROM TOKENS TO WORDS\n",
    "        word_map = -1 * np.ones(max_len,dtype='int32')\n",
    "        w_i = 0\n",
    "        for i in range(len(off)):\n",
    "            if off[i][1]==0: continue\n",
    "            while off[i][0]>=w[w_i+1]: w_i += 1\n",
    "            word_map[i] = int(w_i)\n",
    "        \n",
    "        # CONVERT TOKEN PREDICTIONS INTO WORD LABELS\n",
    "        ### KEY: ###\n",
    "        # 0: LEAD_B, 1: LEAD_I\n",
    "        # 2: POSITION_B, 3: POSITION_I\n",
    "        # 4: EVIDENCE_B, 5: EVIDENCE_I\n",
    "        # 6: CLAIM_B, 7: CLAIM_I\n",
    "        # 8: CONCLUSION_B, 9: CONCLUSION_I\n",
    "        # 10: COUNTERCLAIM_B, 11: COUNTERCLAIM_I\n",
    "        # 12: REBUTTAL_B, 13: REBUTTAL_I\n",
    "        # 14: NOTHING i.e. O\n",
    "        ### NOTE THESE VALUES ARE DIVIDED BY 2 IN NEXT CODE LINE\n",
    "        pred = preds[id_num,]/2.0\n",
    "    \n",
    "        i = 0\n",
    "        while i<max_len:\n",
    "            prediction = []\n",
    "            start = pred[i]\n",
    "            if start in [0,1,2,3,4,5,6,7]:\n",
    "                prediction.append(word_map[i])\n",
    "                i += 1\n",
    "                if i>=max_len: break\n",
    "                while pred[i]==start+0.5:\n",
    "                    if not word_map[i] in prediction:\n",
    "                        prediction.append(word_map[i])\n",
    "                    i += 1\n",
    "                    if i>=max_len: break\n",
    "            else:\n",
    "                i += 1\n",
    "            prediction = [x for x in prediction if x!=-1]\n",
    "            if len(prediction)>4:\n",
    "                all_predictions.append( (n, target_map_rev[int(start)], \n",
    "                                ' '.join([str(x) for x in prediction]) ) )\n",
    "                \n",
    "    # MAKE DATAFRAME\n",
    "    df = pd.DataFrame(all_predictions)\n",
    "    df.columns = ['id','class','predictionstring']\n",
    "    \n",
    "    return df\n",
    "\n",
    "\n",
    "def calc_overlap(row):\n",
    "    \"\"\"\n",
    "    Calculates the overlap between prediction and\n",
    "    ground truth and overlap percentages used for determining\n",
    "    true positives.\n",
    "    \"\"\"\n",
    "    set_pred = set(row.predictionstring_pred.split(' '))\n",
    "    set_gt = set(row.predictionstring_gt.split(' '))\n",
    "    # Length of each and intersection\n",
    "    len_gt = len(set_gt)\n",
    "    len_pred = len(set_pred)\n",
    "    inter = len(set_gt.intersection(set_pred))\n",
    "    overlap_1 = inter / len_gt\n",
    "    overlap_2 = inter/ len_pred\n",
    "    return [overlap_1, overlap_2]\n",
    "\n",
    "\n",
    "def score_feedback_comp(pred_df, gt_df):\n",
    "    \"\"\"\n",
    "    A function that scores for the kaggle\n",
    "        Student Writing Competition\n",
    "        \n",
    "    Uses the steps in the evaluation page here:\n",
    "        https://www.kaggle.com/c/feedback-prize-2021/overview/evaluation\n",
    "    \"\"\"\n",
    "    gt_df = gt_df[['id','discourse_type','predictionstring']] \\\n",
    "        .reset_index(drop=True).copy()\n",
    "    pred_df = pred_df[['id','class','predictionstring']] \\\n",
    "        .reset_index(drop=True).copy()\n",
    "    pred_df['pred_id'] = pred_df.index\n",
    "    gt_df['gt_id'] = gt_df.index\n",
    "    # Step 1. all ground truths and predictions for a given class are compared.\n",
    "    joined = pred_df.merge(gt_df,\n",
    "                           left_on=['id','class'],\n",
    "                           right_on=['id','discourse_type'],\n",
    "                           how='outer',\n",
    "                           suffixes=('_pred','_gt')\n",
    "                          )\n",
    "    joined['predictionstring_gt'] = joined['predictionstring_gt'].fillna(' ')\n",
    "    joined['predictionstring_pred'] = joined['predictionstring_pred'].fillna(' ')\n",
    "\n",
    "    joined['overlaps'] = joined.apply(calc_overlap, axis=1)\n",
    "\n",
    "    # 2. If the overlap between the ground truth and prediction is >= 0.5, \n",
    "    # and the overlap between the prediction and the ground truth >= 0.5,\n",
    "    # the prediction is a match and considered a true positive.\n",
    "    # If multiple matches exist, the match with the highest pair of overlaps is taken.\n",
    "    joined['overlap1'] = joined['overlaps'].apply(lambda x: eval(str(x))[0])\n",
    "    joined['overlap2'] = joined['overlaps'].apply(lambda x: eval(str(x))[1])\n",
    "\n",
    "\n",
    "    joined['potential_TP'] = (joined['overlap1'] >= 0.5) & (joined['overlap2'] >= 0.5)\n",
    "    joined['max_overlap'] = joined[['overlap1','overlap2']].max(axis=1)\n",
    "    tp_pred_ids = joined.query('potential_TP') \\\n",
    "        .sort_values('max_overlap', ascending=False) \\\n",
    "        .groupby(['id','predictionstring_gt']).first()['pred_id'].values\n",
    "\n",
    "    # 3. Any unmatched ground truths are false negatives\n",
    "    # and any unmatched predictions are false positives.\n",
    "    fp_pred_ids = [p for p in joined['pred_id'].unique() if p not in tp_pred_ids]\n",
    "\n",
    "    matched_gt_ids = joined.query('potential_TP')['gt_id'].unique()\n",
    "    unmatched_gt_ids = [c for c in joined['gt_id'].unique() if c not in matched_gt_ids]\n",
    "\n",
    "    # Get numbers of each type\n",
    "    TP = len(tp_pred_ids)\n",
    "    FP = len(fp_pred_ids)\n",
    "    FN = len(unmatched_gt_ids)\n",
    "    #calc microf1\n",
    "    my_f1_score = TP / (TP + 0.5*(FP+FN))\n",
    "    return my_f1_score\n",
    "\n",
    "def collate(d,train=True):\n",
    "    mask_len = int(d[\"mask\"].sum(axis=1).max())\n",
    "    if train:\n",
    "        return {\"token\" : d['token'][:,:mask_len],\n",
    "                 \"mask\" : d['mask'][:,:mask_len],\n",
    "                 \"y\" : d['y'][:,:mask_len],\n",
    "                  \"max_len\" : mask_len}\n",
    "    else:\n",
    "        return {\"token\" : d['token'][:,:mask_len],\n",
    "                 \"mask\" : d['mask'][:,:mask_len],\n",
    "                  \"max_len\" : mask_len}"
   ]
  },
  {
   "cell_type": "code",
   "execution_count": 7,
   "id": "9cc0a5db",
   "metadata": {},
   "outputs": [],
   "source": [
    "# ================================\n",
    "# Main\n",
    "# ================================\n",
    "train = pd.read_csv(TRAIN_PATH)\n",
    "IDS = train.id.unique()\n",
    "id_array = np.array(IDS)"
   ]
  },
  {
   "cell_type": "code",
   "execution_count": 11,
   "id": "6ade40ee",
   "metadata": {},
   "outputs": [],
   "source": [
    "targets = np.load(DATA_DIR + f\"targets_{max_len}.npy\")\n",
    "train_tokens = np.load(DATA_DIR + f\"tokens_{max_len}.npy\")\n",
    "train_attention = np.load(DATA_DIR + f\"attention_{max_len}.npy\")"
   ]
  },
  {
   "cell_type": "code",
   "execution_count": 12,
   "id": "8b4dfc58",
   "metadata": {},
   "outputs": [
    {
     "name": "stdout",
     "output_type": "stream",
     "text": [
      "fold0:start\n"
     ]
    },
    {
     "name": "stderr",
     "output_type": "stream",
     "text": [
      "2022-02-17 12:22:22,632 - INFO - Lock 140149492183888 acquired on /root/.cache/huggingface/transformers/3533922cd7a6fe8178bd8ffe066a30ef83070654557102ba8545885d2870575e.f3377edc5cb5a6d15c3b36da1d43fa735a7e2799f44de1985ecda3c078da4180.lock\n"
     ]
    },
    {
     "data": {
      "application/vnd.jupyter.widget-view+json": {
       "model_id": "c7ab9397362740a5be560b15aa27fdb2",
       "version_major": 2,
       "version_minor": 0
      },
      "text/plain": [
       "Downloading:   0%|          | 0.00/1.44G [00:00<?, ?B/s]"
      ]
     },
     "metadata": {},
     "output_type": "display_data"
    },
    {
     "name": "stderr",
     "output_type": "stream",
     "text": [
      "2022-02-17 12:23:10,827 - INFO - Lock 140149492183888 released on /root/.cache/huggingface/transformers/3533922cd7a6fe8178bd8ffe066a30ef83070654557102ba8545885d2870575e.f3377edc5cb5a6d15c3b36da1d43fa735a7e2799f44de1985ecda3c078da4180.lock\n"
     ]
    },
    {
     "name": "stdout",
     "output_type": "stream",
     "text": [
      "============start epoch:0==============\n"
     ]
    },
    {
     "name": "stderr",
     "output_type": "stream",
     "text": [
      "100%|██████████| 1560/1560 [09:38<00:00,  2.69it/s]\n",
      "100%|██████████| 390/390 [00:46<00:00,  8.33it/s]\n",
      "100%|██████████| 3119/3119 [00:16<00:00, 184.18it/s]\n",
      "2022-02-17 12:34:05,170 - INFO - Note: NumExpr detected 12 cores but \"NUMEXPR_MAX_THREADS\" not set, so enforcing safe limit of 8.\n",
      "2022-02-17 12:34:05,171 - INFO - NumExpr defaulting to 8 threads.\n"
     ]
    },
    {
     "name": "stdout",
     "output_type": "stream",
     "text": [
      "\n",
      "Lead 0.7853856562922868\n",
      "Counterclaim 0.4307098020280058\n",
      "Rebuttal 0.28780487804878047\n",
      "Claim 0.5302113078241005\n",
      "Evidence 0.5769027484143763\n",
      "Position 0.6711409395973155\n"
     ]
    },
    {
     "name": "stderr",
     "output_type": "stream",
     "text": [
      "2022-02-17 12:34:08,323 - INFO - 0,0:1559,val_score:0.5515099184458807\n"
     ]
    },
    {
     "name": "stdout",
     "output_type": "stream",
     "text": [
      "Concluding Statement 0.5784140969162995\n",
      "save model weight\n",
      "============start epoch:1==============\n"
     ]
    },
    {
     "name": "stderr",
     "output_type": "stream",
     "text": [
      "100%|██████████| 1560/1560 [09:39<00:00,  2.69it/s]\n",
      "100%|██████████| 390/390 [00:46<00:00,  8.34it/s]\n",
      "100%|██████████| 3119/3119 [00:16<00:00, 185.15it/s]\n"
     ]
    },
    {
     "name": "stdout",
     "output_type": "stream",
     "text": [
      "\n",
      "Lead 0.819902650081125\n",
      "Counterclaim 0.47297967278135844\n",
      "Claim 0.5634916153802721\n",
      "Evidence 0.6188351920693929\n",
      "Position 0.6995787700084246\n"
     ]
    },
    {
     "name": "stderr",
     "output_type": "stream",
     "text": [
      "2022-02-17 12:44:58,143 - INFO - 0,1:1559,val_score:0.5865473523717145\n"
     ]
    },
    {
     "name": "stdout",
     "output_type": "stream",
     "text": [
      "Concluding Statement 0.5793616090948841\n",
      "Rebuttal 0.3516819571865443\n",
      "save model weight\n",
      "============start epoch:2==============\n"
     ]
    },
    {
     "name": "stderr",
     "output_type": "stream",
     "text": [
      "100%|██████████| 1560/1560 [09:38<00:00,  2.69it/s]\n",
      "100%|██████████| 390/390 [00:46<00:00,  8.33it/s]\n",
      "100%|██████████| 3119/3119 [00:16<00:00, 184.11it/s]\n"
     ]
    },
    {
     "name": "stdout",
     "output_type": "stream",
     "text": [
      "\n",
      "Lead 0.8241845664280032\n",
      "Evidence 0.6324611117810202\n",
      "Claim 0.5693706053850112\n",
      "Counterclaim 0.4541871921182266\n",
      "Rebuttal 0.36795252225519287\n"
     ]
    },
    {
     "name": "stderr",
     "output_type": "stream",
     "text": [
      "2022-02-17 12:55:53,820 - INFO - 0,2:1559,val_score:0.5945834143999031\n"
     ]
    },
    {
     "name": "stdout",
     "output_type": "stream",
     "text": [
      "Position 0.713099474665311\n",
      "Concluding Statement 0.6008284281665577\n",
      "save model weight\n",
      "============start epoch:3==============\n"
     ]
    },
    {
     "name": "stderr",
     "output_type": "stream",
     "text": [
      "100%|██████████| 1560/1560 [09:31<00:00,  2.73it/s]\n",
      "100%|██████████| 390/390 [00:46<00:00,  8.36it/s]\n",
      "100%|██████████| 3119/3119 [00:16<00:00, 186.13it/s]\n"
     ]
    },
    {
     "name": "stdout",
     "output_type": "stream",
     "text": [
      "\n",
      "Lead 0.8100588550026753\n",
      "Claim 0.583975602994178\n",
      "Counterclaim 0.4726890756302521\n",
      "Evidence 0.6260966267144445\n",
      "Position 0.7032781345049003\n"
     ]
    },
    {
     "name": "stderr",
     "output_type": "stream",
     "text": [
      "2022-02-17 13:06:41,630 - INFO - 0,3:1559,val_score:0.5910231197506114\n"
     ]
    },
    {
     "name": "stdout",
     "output_type": "stream",
     "text": [
      "Concluding Statement 0.5833148926753706\n",
      "Rebuttal 0.35774865073245954\n",
      "============start epoch:4==============\n"
     ]
    },
    {
     "name": "stderr",
     "output_type": "stream",
     "text": [
      "100%|██████████| 1560/1560 [09:29<00:00,  2.74it/s]\n",
      "100%|██████████| 390/390 [00:46<00:00,  8.37it/s]\n",
      "100%|██████████| 3119/3119 [00:16<00:00, 186.32it/s]\n"
     ]
    },
    {
     "name": "stdout",
     "output_type": "stream",
     "text": [
      "\n",
      "Lead 0.8201363398007341\n",
      "Claim 0.5857104340792666\n",
      "Evidence 0.6332273354532909\n",
      "Counterclaim 0.4684085510688836\n",
      "Rebuttal 0.363013698630137\n"
     ]
    },
    {
     "name": "stderr",
     "output_type": "stream",
     "text": [
      "2022-02-17 13:17:18,488 - INFO - 0,4:1559,val_score:0.5968713583333285\n"
     ]
    },
    {
     "name": "stdout",
     "output_type": "stream",
     "text": [
      "Position 0.7079049384796898\n",
      "Concluding Statement 0.5996982108212977\n",
      "save model weight\n",
      "============start epoch:5==============\n"
     ]
    },
    {
     "name": "stderr",
     "output_type": "stream",
     "text": [
      "100%|██████████| 1560/1560 [09:29<00:00,  2.74it/s]\n",
      "100%|██████████| 390/390 [00:46<00:00,  8.39it/s]\n",
      "100%|██████████| 3119/3119 [00:16<00:00, 188.44it/s]\n"
     ]
    },
    {
     "name": "stdout",
     "output_type": "stream",
     "text": [
      "\n",
      "Lead 0.8073639274279616\n",
      "Counterclaim 0.4526627218934911\n",
      "Rebuttal 0.34838709677419355\n",
      "Claim 0.5759659462999345\n",
      "Evidence 0.6327790973871734\n",
      "Position 0.706218487394958\n"
     ]
    },
    {
     "name": "stderr",
     "output_type": "stream",
     "text": [
      "2022-02-17 13:28:03,910 - INFO - 0,5:1559,val_score:0.5885635333120948\n"
     ]
    },
    {
     "name": "stdout",
     "output_type": "stream",
     "text": [
      "Concluding Statement 0.5965674560069519\n",
      "fold1:start\n",
      "============start epoch:0==============\n"
     ]
    },
    {
     "name": "stderr",
     "output_type": "stream",
     "text": [
      "100%|██████████| 1560/1560 [09:25<00:00,  2.76it/s]\n",
      "100%|██████████| 390/390 [00:46<00:00,  8.39it/s]\n",
      "100%|██████████| 3119/3119 [00:16<00:00, 193.96it/s]\n"
     ]
    },
    {
     "name": "stdout",
     "output_type": "stream",
     "text": [
      "\n",
      "Lead 0.78957582478514\n",
      "Evidence 0.589103776462693\n",
      "Claim 0.5188525052133236\n",
      "Concluding Statement 0.5356362046348929\n"
     ]
    },
    {
     "name": "stderr",
     "output_type": "stream",
     "text": [
      "2022-02-17 13:38:42,465 - INFO - 1,0:1559,val_score:0.5489427467581861\n"
     ]
    },
    {
     "name": "stdout",
     "output_type": "stream",
     "text": [
      "Position 0.6734557595993322\n",
      "Counterclaim 0.4350453172205438\n",
      "Rebuttal 0.30092983939137785\n",
      "save model weight\n",
      "============start epoch:1==============\n"
     ]
    },
    {
     "name": "stderr",
     "output_type": "stream",
     "text": [
      "100%|██████████| 1560/1560 [09:25<00:00,  2.76it/s]\n",
      "100%|██████████| 390/390 [00:46<00:00,  8.41it/s]\n",
      "100%|██████████| 3119/3119 [00:16<00:00, 189.85it/s]\n"
     ]
    },
    {
     "name": "stdout",
     "output_type": "stream",
     "text": [
      "\n",
      "Lead 0.8181074447777474\n",
      "Evidence 0.5939755047997352\n",
      "Claim 0.5708594528091863\n",
      "Position 0.7001894265541587\n",
      "Counterclaim 0.4594320486815416\n",
      "Rebuttal 0.39438596491228073\n"
     ]
    },
    {
     "name": "stderr",
     "output_type": "stream",
     "text": [
      "2022-02-17 13:49:17,175 - INFO - 1,1:1559,val_score:0.5875642632192356\n"
     ]
    },
    {
     "name": "stdout",
     "output_type": "stream",
     "text": [
      "Concluding Statement 0.576\n",
      "save model weight\n",
      "============start epoch:2==============\n"
     ]
    },
    {
     "name": "stderr",
     "output_type": "stream",
     "text": [
      "100%|██████████| 1560/1560 [09:24<00:00,  2.77it/s]\n",
      "100%|██████████| 390/390 [00:46<00:00,  8.40it/s]\n",
      "100%|██████████| 3119/3119 [00:16<00:00, 191.12it/s]\n"
     ]
    },
    {
     "name": "stdout",
     "output_type": "stream",
     "text": [
      "\n",
      "Claim 0.6000663056691347\n",
      "Evidence 0.627733535583365\n",
      "Lead 0.8199233716475096\n",
      "Position 0.6953355297381654\n",
      "Counterclaim 0.45010615711252655\n",
      "Rebuttal 0.4076163610719323\n"
     ]
    },
    {
     "name": "stderr",
     "output_type": "stream",
     "text": [
      "2022-02-17 13:59:56,415 - INFO - 1,2:1559,val_score:0.6001361229991762\n"
     ]
    },
    {
     "name": "stdout",
     "output_type": "stream",
     "text": [
      "Concluding Statement 0.6001716001716002\n",
      "save model weight\n",
      "============start epoch:3==============\n"
     ]
    },
    {
     "name": "stderr",
     "output_type": "stream",
     "text": [
      "100%|██████████| 1560/1560 [09:23<00:00,  2.77it/s]\n",
      "100%|██████████| 390/390 [00:40<00:00,  9.57it/s]\n",
      "100%|██████████| 3119/3119 [00:16<00:00, 189.08it/s]\n"
     ]
    },
    {
     "name": "stdout",
     "output_type": "stream",
     "text": [
      "\n",
      "Evidence 0.6328673501087294\n",
      "Claim 0.5868391451068616\n",
      "Lead 0.8028753110312413\n",
      "Position 0.7049180327868853\n",
      "Counterclaim 0.4829467939972715\n",
      "Rebuttal 0.4005505849965588\n"
     ]
    },
    {
     "name": "stderr",
     "output_type": "stream",
     "text": [
      "2022-02-17 14:10:29,733 - INFO - 1,3:1559,val_score:0.5992742113588067\n"
     ]
    },
    {
     "name": "stdout",
     "output_type": "stream",
     "text": [
      "Concluding Statement 0.583922261484099\n",
      "============start epoch:4==============\n"
     ]
    },
    {
     "name": "stderr",
     "output_type": "stream",
     "text": [
      "100%|██████████| 1560/1560 [09:24<00:00,  2.76it/s]\n",
      "100%|██████████| 390/390 [00:40<00:00,  9.58it/s]\n",
      "100%|██████████| 3119/3119 [00:16<00:00, 190.13it/s]\n"
     ]
    },
    {
     "name": "stdout",
     "output_type": "stream",
     "text": [
      "\n",
      "Claim 0.5833472384448524\n",
      "Evidence 0.6353860018023431\n",
      "Lead 0.8115139773041794\n",
      "Counterclaim 0.4794859120118636\n",
      "Rebuttal 0.4002650762094102\n"
     ]
    },
    {
     "name": "stderr",
     "output_type": "stream",
     "text": [
      "2022-02-17 14:20:54,845 - INFO - 1,4:1559,val_score:0.600610946314151\n"
     ]
    },
    {
     "name": "stdout",
     "output_type": "stream",
     "text": [
      "Position 0.7118131406486304\n",
      "Concluding Statement 0.5824652777777778\n",
      "save model weight\n",
      "============start epoch:5==============\n"
     ]
    },
    {
     "name": "stderr",
     "output_type": "stream",
     "text": [
      "100%|██████████| 1560/1560 [09:24<00:00,  2.77it/s]\n",
      "100%|██████████| 390/390 [00:40<00:00,  9.61it/s]\n",
      "100%|██████████| 3119/3119 [00:16<00:00, 190.07it/s]\n"
     ]
    },
    {
     "name": "stdout",
     "output_type": "stream",
     "text": [
      "\n",
      "Claim 0.593381637287769\n",
      "Evidence 0.642861386726873\n",
      "Lead 0.8149163696188648\n",
      "Position 0.7068177973270174\n",
      "Counterclaim 0.4817102137767221\n",
      "Rebuttal 0.41274054412740546\n"
     ]
    },
    {
     "name": "stderr",
     "output_type": "stream",
     "text": [
      "2022-02-17 14:31:28,424 - INFO - 1,5:1559,val_score:0.6057871841513812\n"
     ]
    },
    {
     "name": "stdout",
     "output_type": "stream",
     "text": [
      "Concluding Statement 0.5880823401950163\n",
      "save model weight\n",
      "fold2:start\n",
      "============start epoch:0==============\n"
     ]
    },
    {
     "name": "stderr",
     "output_type": "stream",
     "text": [
      "100%|██████████| 1560/1560 [09:25<00:00,  2.76it/s]\n",
      "100%|██████████| 390/390 [00:40<00:00,  9.65it/s]\n",
      "100%|██████████| 3119/3119 [00:16<00:00, 186.99it/s]\n"
     ]
    },
    {
     "name": "stdout",
     "output_type": "stream",
     "text": [
      "\n",
      "Claim 0.5177946810282605\n",
      "Position 0.6524896265560166\n",
      "Evidence 0.6030106443282736\n",
      "Concluding Statement 0.5802524797114518\n"
     ]
    },
    {
     "name": "stderr",
     "output_type": "stream",
     "text": [
      "2022-02-17 14:42:09,110 - INFO - 2,0:1559,val_score:0.5399500692351208\n"
     ]
    },
    {
     "name": "stdout",
     "output_type": "stream",
     "text": [
      "Lead 0.7982480153298659\n",
      "Counterclaim 0.45320715036803366\n",
      "Rebuttal 0.17464788732394365\n",
      "save model weight\n",
      "============start epoch:1==============\n"
     ]
    },
    {
     "name": "stderr",
     "output_type": "stream",
     "text": [
      "100%|██████████| 1560/1560 [09:24<00:00,  2.76it/s]\n",
      "100%|██████████| 390/390 [00:40<00:00,  9.64it/s]\n",
      "100%|██████████| 3119/3119 [00:16<00:00, 187.21it/s]\n"
     ]
    },
    {
     "name": "stdout",
     "output_type": "stream",
     "text": [
      "\n",
      "Lead 0.8185204896221394\n",
      "Position 0.6811519227453009\n",
      "Claim 0.5541598397961042\n",
      "Evidence 0.6039395677949895\n",
      "Concluding Statement 0.5722095671981777\n"
     ]
    },
    {
     "name": "stderr",
     "output_type": "stream",
     "text": [
      "2022-02-17 14:52:37,307 - INFO - 2,1:1559,val_score:0.5782729063641234\n"
     ]
    },
    {
     "name": "stdout",
     "output_type": "stream",
     "text": [
      "Counterclaim 0.46572769953051646\n",
      "Rebuttal 0.3522012578616352\n",
      "save model weight\n",
      "============start epoch:2==============\n"
     ]
    },
    {
     "name": "stderr",
     "output_type": "stream",
     "text": [
      "100%|██████████| 1560/1560 [09:23<00:00,  2.77it/s]\n",
      "100%|██████████| 390/390 [00:40<00:00,  9.64it/s]\n",
      "100%|██████████| 3119/3119 [00:16<00:00, 186.67it/s]\n"
     ]
    },
    {
     "name": "stdout",
     "output_type": "stream",
     "text": [
      "\n",
      "Claim 0.5859133950420258\n",
      "Position 0.6958932594004505\n",
      "Evidence 0.6337646333949476\n",
      "Concluding Statement 0.5799957164275006\n"
     ]
    },
    {
     "name": "stderr",
     "output_type": "stream",
     "text": [
      "2022-02-17 15:03:10,427 - INFO - 2,2:1559,val_score:0.5941130778962348\n"
     ]
    },
    {
     "name": "stdout",
     "output_type": "stream",
     "text": [
      "Lead 0.8178896625602571\n",
      "Counterclaim 0.47343991748323877\n",
      "Rebuttal 0.37189496096522356\n",
      "save model weight\n",
      "============start epoch:3==============\n"
     ]
    },
    {
     "name": "stderr",
     "output_type": "stream",
     "text": [
      "100%|██████████| 1560/1560 [09:24<00:00,  2.76it/s]\n",
      "100%|██████████| 390/390 [00:40<00:00,  9.63it/s]\n",
      "100%|██████████| 3119/3119 [00:16<00:00, 187.48it/s]\n"
     ]
    },
    {
     "name": "stdout",
     "output_type": "stream",
     "text": [
      "\n",
      "Lead 0.8077858880778589\n",
      "Claim 0.5846019534020843\n",
      "Position 0.6948609941027801\n",
      "Evidence 0.6380590258917255\n",
      "Concluding Statement 0.5745197615367631\n"
     ]
    },
    {
     "name": "stderr",
     "output_type": "stream",
     "text": [
      "2022-02-17 15:13:44,842 - INFO - 2,3:1559,val_score:0.5914303939413365\n"
     ]
    },
    {
     "name": "stdout",
     "output_type": "stream",
     "text": [
      "Counterclaim 0.48015678588926997\n",
      "Rebuttal 0.3600283486888731\n",
      "============start epoch:4==============\n"
     ]
    },
    {
     "name": "stderr",
     "output_type": "stream",
     "text": [
      "100%|██████████| 1560/1560 [09:24<00:00,  2.76it/s]\n",
      "100%|██████████| 390/390 [00:40<00:00,  9.67it/s]\n",
      "100%|██████████| 3119/3119 [00:16<00:00, 185.81it/s]\n"
     ]
    },
    {
     "name": "stdout",
     "output_type": "stream",
     "text": [
      "\n",
      "Lead 0.8137748344370861\n",
      "Claim 0.5800101243039542\n",
      "Position 0.6916553595658074\n",
      "Evidence 0.6249141429909459\n",
      "Concluding Statement 0.5882610600087604\n"
     ]
    },
    {
     "name": "stderr",
     "output_type": "stream",
     "text": [
      "2022-02-17 15:24:09,894 - INFO - 2,4:1559,val_score:0.5922404465434657\n"
     ]
    },
    {
     "name": "stdout",
     "output_type": "stream",
     "text": [
      "Counterclaim 0.48019559902200487\n",
      "Rebuttal 0.3668720054757016\n",
      "============start epoch:5==============\n"
     ]
    },
    {
     "name": "stderr",
     "output_type": "stream",
     "text": [
      "100%|██████████| 1560/1560 [09:24<00:00,  2.76it/s]\n",
      "100%|██████████| 390/390 [00:40<00:00,  9.65it/s]\n",
      "100%|██████████| 3119/3119 [00:16<00:00, 187.28it/s]\n"
     ]
    },
    {
     "name": "stdout",
     "output_type": "stream",
     "text": [
      "\n",
      "Lead 0.8074666666666667\n",
      "Claim 0.5797615747158303\n",
      "Position 0.6918663516706041\n",
      "Evidence 0.6328502415458938\n"
     ]
    },
    {
     "name": "stderr",
     "output_type": "stream",
     "text": [
      "2022-02-17 15:34:35,080 - INFO - 2,5:1559,val_score:0.5957489874913925\n"
     ]
    },
    {
     "name": "stdout",
     "output_type": "stream",
     "text": [
      "Concluding Statement 0.5850251036891508\n",
      "Counterclaim 0.48525214081826834\n",
      "Rebuttal 0.3880208333333333\n",
      "save model weight\n",
      "fold3:start\n",
      "============start epoch:0==============\n"
     ]
    },
    {
     "name": "stderr",
     "output_type": "stream",
     "text": [
      "100%|██████████| 1560/1560 [09:23<00:00,  2.77it/s]\n",
      "100%|██████████| 390/390 [00:40<00:00,  9.62it/s]\n",
      "100%|██████████| 3119/3119 [00:16<00:00, 188.11it/s]\n"
     ]
    },
    {
     "name": "stdout",
     "output_type": "stream",
     "text": [
      "\n",
      "Position 0.6516048054509593\n",
      "Claim 0.532169270978146\n",
      "Evidence 0.610466176381207\n",
      "Concluding Statement 0.5887445887445888\n"
     ]
    },
    {
     "name": "stderr",
     "output_type": "stream",
     "text": [
      "2022-02-17 15:45:13,843 - INFO - 3,0:1559,val_score:0.5380738030748423\n"
     ]
    },
    {
     "name": "stdout",
     "output_type": "stream",
     "text": [
      "Lead 0.7940036185060739\n",
      "Counterclaim 0.3647878404053198\n",
      "Rebuttal 0.2247403210576015\n",
      "save model weight\n",
      "============start epoch:1==============\n"
     ]
    },
    {
     "name": "stderr",
     "output_type": "stream",
     "text": [
      "100%|██████████| 1560/1560 [09:24<00:00,  2.76it/s]\n",
      "100%|██████████| 390/390 [00:40<00:00,  9.63it/s]\n",
      "100%|██████████| 3119/3119 [00:16<00:00, 188.41it/s]\n"
     ]
    },
    {
     "name": "stdout",
     "output_type": "stream",
     "text": [
      "\n",
      "Position 0.6812257837266643\n",
      "Claim 0.5582333819078579\n",
      "Evidence 0.5993252886985857\n",
      "Concluding Statement 0.5879873551106428\n"
     ]
    },
    {
     "name": "stderr",
     "output_type": "stream",
     "text": [
      "2022-02-17 15:55:41,644 - INFO - 3,1:1559,val_score:0.5840969846755336\n"
     ]
    },
    {
     "name": "stdout",
     "output_type": "stream",
     "text": [
      "Lead 0.8080755112742527\n",
      "Counterclaim 0.46560364464692483\n",
      "Rebuttal 0.3882279273638071\n",
      "save model weight\n",
      "============start epoch:2==============\n"
     ]
    },
    {
     "name": "stderr",
     "output_type": "stream",
     "text": [
      "100%|██████████| 1560/1560 [09:24<00:00,  2.76it/s]\n",
      "100%|██████████| 390/390 [00:40<00:00,  9.68it/s]\n",
      "100%|██████████| 3119/3119 [00:16<00:00, 187.80it/s]\n"
     ]
    },
    {
     "name": "stdout",
     "output_type": "stream",
     "text": [
      "\n",
      "Position 0.6914965986394558\n",
      "Claim 0.595710369295275\n",
      "Evidence 0.6344385285575992\n",
      "Concluding Statement 0.6019793459552496\n"
     ]
    },
    {
     "name": "stderr",
     "output_type": "stream",
     "text": [
      "2022-02-17 16:06:15,279 - INFO - 3,2:1559,val_score:0.5945580359155421\n"
     ]
    },
    {
     "name": "stdout",
     "output_type": "stream",
     "text": [
      "Lead 0.8127282211789254\n",
      "Counterclaim 0.45098039215686275\n",
      "Rebuttal 0.3745727956254272\n",
      "save model weight\n",
      "============start epoch:3==============\n"
     ]
    },
    {
     "name": "stderr",
     "output_type": "stream",
     "text": [
      "100%|██████████| 1560/1560 [09:24<00:00,  2.76it/s]\n",
      "100%|██████████| 390/390 [00:40<00:00,  9.63it/s]\n",
      "100%|██████████| 3119/3119 [00:16<00:00, 188.15it/s]\n"
     ]
    },
    {
     "name": "stdout",
     "output_type": "stream",
     "text": [
      "\n",
      "Position 0.6925038245792963\n",
      "Claim 0.5755992275360673\n",
      "Evidence 0.6410539215686275\n",
      "Concluding Statement 0.5861613045394447\n"
     ]
    },
    {
     "name": "stderr",
     "output_type": "stream",
     "text": [
      "2022-02-17 16:16:49,058 - INFO - 3,3:1559,val_score:0.5942757410332347\n"
     ]
    },
    {
     "name": "stdout",
     "output_type": "stream",
     "text": [
      "Lead 0.8174273858921162\n",
      "Counterclaim 0.4599894011658718\n",
      "Rebuttal 0.3871951219512195\n",
      "============start epoch:4==============\n"
     ]
    },
    {
     "name": "stderr",
     "output_type": "stream",
     "text": [
      "100%|██████████| 1560/1560 [09:25<00:00,  2.76it/s]\n",
      "100%|██████████| 390/390 [00:40<00:00,  9.65it/s]\n",
      "100%|██████████| 3119/3119 [00:16<00:00, 186.89it/s]\n"
     ]
    },
    {
     "name": "stdout",
     "output_type": "stream",
     "text": [
      "\n",
      "Position 0.6968356583872065\n",
      "Claim 0.5847972418322115\n",
      "Evidence 0.6468049394557007\n",
      "Concluding Statement 0.5941840277777778\n"
     ]
    },
    {
     "name": "stderr",
     "output_type": "stream",
     "text": [
      "2022-02-17 16:27:15,101 - INFO - 3,4:1559,val_score:0.5977913011956427\n"
     ]
    },
    {
     "name": "stdout",
     "output_type": "stream",
     "text": [
      "Lead 0.8132845188284519\n",
      "Counterclaim 0.4617768595041322\n",
      "Rebuttal 0.38685586258401794\n",
      "save model weight\n",
      "============start epoch:5==============\n"
     ]
    },
    {
     "name": "stderr",
     "output_type": "stream",
     "text": [
      "100%|██████████| 1560/1560 [09:24<00:00,  2.76it/s]\n",
      "100%|██████████| 390/390 [00:40<00:00,  9.63it/s]\n",
      "100%|██████████| 3119/3119 [00:16<00:00, 188.23it/s]\n"
     ]
    },
    {
     "name": "stdout",
     "output_type": "stream",
     "text": [
      "\n",
      "Position 0.691591947217053\n",
      "Claim 0.5812276355628957\n",
      "Evidence 0.6412250269170954\n",
      "Concluding Statement 0.5962841530054644\n"
     ]
    },
    {
     "name": "stderr",
     "output_type": "stream",
     "text": [
      "2022-02-17 16:37:49,253 - INFO - 3,5:1559,val_score:0.5939616793218905\n"
     ]
    },
    {
     "name": "stdout",
     "output_type": "stream",
     "text": [
      "Lead 0.8093994778067886\n",
      "Counterclaim 0.4555052790346908\n",
      "Rebuttal 0.3824982357092449\n",
      "fold4:start\n",
      "============start epoch:0==============\n"
     ]
    },
    {
     "name": "stderr",
     "output_type": "stream",
     "text": [
      "100%|██████████| 1560/1560 [09:24<00:00,  2.77it/s]\n",
      "100%|██████████| 390/390 [00:40<00:00,  9.70it/s]\n",
      "100%|██████████| 3118/3118 [00:16<00:00, 187.61it/s]\n"
     ]
    },
    {
     "name": "stdout",
     "output_type": "stream",
     "text": [
      "\n",
      "Lead 0.7985865724381626\n",
      "Evidence 0.5916661429199924\n",
      "Rebuttal 0.2808988764044944\n",
      "Claim 0.5159961082813483\n",
      "Concluding Statement 0.5345485375158966\n"
     ]
    },
    {
     "name": "stderr",
     "output_type": "stream",
     "text": [
      "2022-02-17 16:48:19,366 - INFO - 4,0:1559,val_score:0.5472517868749477\n"
     ]
    },
    {
     "name": "stdout",
     "output_type": "stream",
     "text": [
      "Position 0.6721256684491979\n",
      "Counterclaim 0.4369406021155411\n",
      "save model weight\n",
      "============start epoch:1==============\n"
     ]
    },
    {
     "name": "stderr",
     "output_type": "stream",
     "text": [
      "100%|██████████| 1560/1560 [09:24<00:00,  2.76it/s]\n",
      "100%|██████████| 390/390 [00:40<00:00,  9.65it/s]\n",
      "100%|██████████| 3118/3118 [00:16<00:00, 187.03it/s]\n"
     ]
    },
    {
     "name": "stdout",
     "output_type": "stream",
     "text": [
      "\n",
      "Lead 0.8329787234042553\n",
      "Claim 0.559340346886551\n",
      "Evidence 0.6090800025257309\n",
      "Counterclaim 0.4569789674952199\n",
      "Concluding Statement 0.5652076318742986\n",
      "Position 0.6906786726696682\n"
     ]
    },
    {
     "name": "stderr",
     "output_type": "stream",
     "text": [
      "2022-02-17 16:58:46,686 - INFO - 4,1:1559,val_score:0.5794287199333706\n"
     ]
    },
    {
     "name": "stdout",
     "output_type": "stream",
     "text": [
      "Rebuttal 0.34173669467787116\n",
      "save model weight\n",
      "============start epoch:2==============\n"
     ]
    },
    {
     "name": "stderr",
     "output_type": "stream",
     "text": [
      "100%|██████████| 1560/1560 [09:24<00:00,  2.76it/s]\n",
      "100%|██████████| 390/390 [00:40<00:00,  9.70it/s]\n",
      "100%|██████████| 3118/3118 [00:16<00:00, 185.87it/s]\n"
     ]
    },
    {
     "name": "stdout",
     "output_type": "stream",
     "text": [
      "\n",
      "Lead 0.8133405056481979\n",
      "Claim 0.5662352279122116\n",
      "Evidence 0.6206269326380889\n",
      "Counterclaim 0.47333034513671\n",
      "Concluding Statement 0.5856209150326798\n",
      "Position 0.6915760869565217\n"
     ]
    },
    {
     "name": "stderr",
     "output_type": "stream",
     "text": [
      "2022-02-17 17:09:20,708 - INFO - 4,2:1559,val_score:0.5892070173172476\n"
     ]
    },
    {
     "name": "stdout",
     "output_type": "stream",
     "text": [
      "Rebuttal 0.37371910789632307\n",
      "save model weight\n",
      "============start epoch:3==============\n"
     ]
    },
    {
     "name": "stderr",
     "output_type": "stream",
     "text": [
      "100%|██████████| 1560/1560 [09:24<00:00,  2.76it/s]\n",
      "100%|██████████| 390/390 [00:40<00:00,  9.66it/s]\n",
      "100%|██████████| 3118/3118 [00:16<00:00, 187.80it/s]\n"
     ]
    },
    {
     "name": "stdout",
     "output_type": "stream",
     "text": [
      "\n",
      "Lead 0.8245379051701045\n",
      "Evidence 0.6335153097555186\n",
      "Claim 0.5724103530455024\n",
      "Counterclaim 0.4497098646034816\n",
      "Concluding Statement 0.5768551236749117\n",
      "Position 0.6964713943131209\n"
     ]
    },
    {
     "name": "stderr",
     "output_type": "stream",
     "text": [
      "2022-02-17 17:19:54,735 - INFO - 4,3:1559,val_score:0.5869687368136712\n"
     ]
    },
    {
     "name": "stdout",
     "output_type": "stream",
     "text": [
      "Rebuttal 0.355281207133059\n",
      "============start epoch:4==============\n"
     ]
    },
    {
     "name": "stderr",
     "output_type": "stream",
     "text": [
      "100%|██████████| 1560/1560 [09:25<00:00,  2.76it/s]\n",
      "100%|██████████| 390/390 [00:40<00:00,  9.67it/s]\n",
      "100%|██████████| 3118/3118 [00:16<00:00, 185.79it/s]\n"
     ]
    },
    {
     "name": "stdout",
     "output_type": "stream",
     "text": [
      "\n",
      "Lead 0.8314186481432007\n",
      "Evidence 0.6219348542149566\n",
      "Claim 0.5743050506180435\n",
      "Position 0.7000846740050805\n"
     ]
    },
    {
     "name": "stderr",
     "output_type": "stream",
     "text": [
      "2022-02-17 17:30:20,446 - INFO - 4,4:1559,val_score:0.588368421463548\n"
     ]
    },
    {
     "name": "stdout",
     "output_type": "stream",
     "text": [
      "Concluding Statement 0.5771188315999115\n",
      "Counterclaim 0.448443579766537\n",
      "Rebuttal 0.3652733118971061\n",
      "============start epoch:5==============\n"
     ]
    },
    {
     "name": "stderr",
     "output_type": "stream",
     "text": [
      "100%|██████████| 1560/1560 [09:27<00:00,  2.75it/s]\n",
      "100%|██████████| 390/390 [00:40<00:00,  9.57it/s]\n",
      "100%|██████████| 3118/3118 [00:16<00:00, 186.50it/s]\n"
     ]
    },
    {
     "name": "stdout",
     "output_type": "stream",
     "text": [
      "\n",
      "Lead 0.8271276595744681\n",
      "Evidence 0.6279875717017208\n",
      "Claim 0.5835803999784378\n",
      "Concluding Statement 0.5822289810992831\n"
     ]
    },
    {
     "name": "stderr",
     "output_type": "stream",
     "text": [
      "2022-02-17 17:40:49,696 - INFO - 4,5:1559,val_score:0.5945427071649222\n"
     ]
    },
    {
     "name": "stdout",
     "output_type": "stream",
     "text": [
      "Position 0.6996454499409083\n",
      "Counterclaim 0.463436928702011\n",
      "Rebuttal 0.37779195915762603\n",
      "save model weight\n"
     ]
    },
    {
     "name": "stderr",
     "output_type": "stream",
     "text": [
      "2022-02-17 17:40:58,703 - INFO - [FunnelModel] done in 19117 s\n"
     ]
    }
   ],
   "source": [
    "# ================================\n",
    "# train\n",
    "# ================================\n",
    "with timer(\"FunnelModel\"):\n",
    "    set_seed(SEED)\n",
    "    oof = pd.DataFrame()\n",
    "    oof_pred = np.ndarray((0,max_len,15))\n",
    "    kf = KFold(n_splits=N_SPLITS, shuffle=SHUFFLE, random_state=SEED)\n",
    "    for fold, (train_idx, valid_idx) in enumerate(kf.split(id_array)):\n",
    "        print(f\"fold{fold}:start\")\n",
    "        x_train_token, x_train_attention, y_train  = train_tokens[train_idx], train_attention[train_idx], targets[train_idx]\n",
    "        x_val_token, x_val_attention, y_val  = train_tokens[valid_idx], train_attention[valid_idx], targets[valid_idx]\n",
    "        train_val = train[train.id.isin(id_array[valid_idx])].reset_index(drop=True)\n",
    "        \n",
    "        # dataset\n",
    "        train_ = TrainDataset( x_train_token, x_train_attention, y_train)\n",
    "        val_ = TrainDataset( x_val_token, x_val_attention, y_val)\n",
    "        \n",
    "        # loader\n",
    "        train_loader = DataLoader(dataset=train_, batch_size=BATCH_SIZE, shuffle = True ,pin_memory=True)\n",
    "        val_loader = DataLoader(dataset=val_, batch_size=BATCH_SIZE, shuffle = False , pin_memory=True)\n",
    "        \n",
    "        # model\n",
    "        model = custom_model()\n",
    "        model = model.to(device)\n",
    "        \n",
    "        # optimizer, scheduler\n",
    "        param_optimizer = list(model.named_parameters())\n",
    "        no_decay = ['bias', 'LayerNorm.bias', 'LayerNorm.weight']\n",
    "        optimizer_grouped_parameters = [\n",
    "            {'params': [p for n, p in param_optimizer if not any(nd in n for nd in no_decay)], 'weight_decay': weight_decay},\n",
    "            {'params': [p for n, p in param_optimizer if any(nd in n for nd in no_decay)], 'weight_decay': 0.0}\n",
    "        ]\n",
    "        optimizer = AdamW(optimizer_grouped_parameters,\n",
    "                          lr=lr,\n",
    "                          betas=beta,\n",
    "                          weight_decay=weight_decay,\n",
    "                          )\n",
    "        num_train_optimization_steps = int(len(train_loader) * n_epochs)\n",
    "        num_warmup_steps = int(num_train_optimization_steps * num_warmup_steps_rate)\n",
    "        scheduler = get_linear_schedule_with_warmup(optimizer,\n",
    "                                                    num_warmup_steps=num_warmup_steps,\n",
    "                                                    num_training_steps=num_train_optimization_steps)\n",
    "        \n",
    "        criterion = nn.BCEWithLogitsLoss()\n",
    "        best_val = 0\n",
    "        \n",
    "        for epoch in range(n_epochs):\n",
    "            print(f\"============start epoch:{epoch}==============\")\n",
    "            model.train() \n",
    "            val_losses_batch = []\n",
    "            scaler = GradScaler()\n",
    "            for i, d in tqdm(enumerate(train_loader),total=len(train_loader)):\n",
    "                d = collate(d)\n",
    "                ids = d['token'].to(device)\n",
    "                mask = d['mask'].to(device)\n",
    "                labels = d['y'].to(device)\n",
    "                #labels = labels.unsqueeze(-1)\n",
    "                optimizer.zero_grad()\n",
    "                with autocast():\n",
    "                    output = model(ids,mask)\n",
    "                    loss = criterion(output[mask == 1], labels[mask == 1])\n",
    "                scaler.scale(loss).backward()\n",
    "                #torch.nn.utils.clip_grad_norm_(model.parameters(), clip_grad_norm)\n",
    "                scaler.step(optimizer)\n",
    "                scaler.update()\n",
    "                scheduler.step()\n",
    "            \n",
    "            y_pred2 = []\n",
    "            val_preds = np.ndarray((0,max_len,15))\n",
    "            val_len = np.ndarray(0)\n",
    "            model.eval()  # switch model to the evaluation mode\n",
    "            with torch.no_grad():  \n",
    "                # Predicting on validation set\n",
    "                \n",
    "                for d in tqdm(val_loader,total=len(val_loader)):\n",
    "                    # =========================\n",
    "                    # data loader\n",
    "                    # =========================\n",
    "                    d = collate(d)\n",
    "                    ids = d['token'].to(device)\n",
    "                    mask = d['mask'].to(device)\n",
    "                    with autocast():\n",
    "                        outputs = model(ids, mask)\n",
    "                    outputs = np.concatenate([outputs.sigmoid().detach().cpu().numpy(),np.zeros([len(outputs),max_len - d[\"max_len\"],15])],axis=1)\n",
    "                    val_preds = np.concatenate([val_preds, outputs], axis=0)\n",
    "                    val_len = np.concatenate([val_len,np.array([d[\"max_len\"] for i in range(len(ids))])],axis=0)\n",
    "            val_preds_max = np.argmax(val_preds,axis=-1)\n",
    "            oof_ = get_preds_collate( dataset='train', verbose=True, text_ids=id_array[valid_idx],\n",
    "                                      preds = val_preds_max,preds_len=val_len)      \n",
    "            # COMPUTE F1 SCORE\n",
    "            f1s = []\n",
    "            CLASSES = oof_['class'].unique()\n",
    "            print()\n",
    "            for c in CLASSES:\n",
    "                pred_df = oof_.loc[oof_['class']==c].copy()\n",
    "                gt_df = train_val.loc[train_val['discourse_type']==c].copy()\n",
    "                f1 = score_feedback_comp(pred_df, gt_df)\n",
    "                print(c,f1)\n",
    "                f1s.append(f1)\n",
    "            score = np.mean(f1s)\n",
    "            LOGGER.info(f'{fold},{epoch}:{i},val_score:{score}')\n",
    "            if best_val < score:\n",
    "                print(\"save model weight\")\n",
    "                best_val = score\n",
    "                best_val_preds = val_preds\n",
    "                oof_best = oof_.copy()\n",
    "                torch.save(model.state_dict(), MODEL_PATH_BASE + f\"_{fold}.pth\") # Saving current best model\n",
    "        oof_best[\"fold\"] = fold\n",
    "        oof_best.to_csv(OUTPUT_DIR + f\"/ex{ex}_oof_{fold}.csv\",index=False)\n",
    "        np.save(OUTPUT_DIR + f\"/ex{ex}_oof_npy_{fold}.npy\",best_val_preds)"
   ]
  },
  {
   "cell_type": "code",
   "execution_count": 13,
   "id": "1c21466e",
   "metadata": {},
   "outputs": [
    {
     "name": "stdout",
     "output_type": "stream",
     "text": [
      "Lead 0.8169478894980572\n",
      "Claim 0.5855261725976711\n",
      "Evidence 0.636818900656539\n",
      "Counterclaim 0.47257383966244726\n",
      "Rebuttal 0.38616403188758275\n",
      "Position 0.7008084429861652\n"
     ]
    },
    {
     "name": "stderr",
     "output_type": "stream",
     "text": [
      "2022-02-17 17:41:17,948 - INFO - CV:0.5984154085186686\n"
     ]
    },
    {
     "name": "stdout",
     "output_type": "stream",
     "text": [
      "Concluding Statement 0.5900685823422172\n"
     ]
    }
   ],
   "source": [
    "oof = pd.DataFrame()\n",
    "for i in range(5):\n",
    "    oof__ = pd.read_csv(OUTPUT_DIR + f\"/ex{ex}_oof_{i}.csv\")\n",
    "    oof = pd.concat([oof,oof__]).reset_index(drop=True)\n",
    "# COMPUTE F1 SCORE\n",
    "f1s = []\n",
    "CLASSES = oof['class'].unique()\n",
    "for c in CLASSES:\n",
    "    pred_df = oof.loc[oof['class']==c].copy()\n",
    "    gt_df = train.loc[train['discourse_type']==c].copy()\n",
    "    f1 = score_feedback_comp(pred_df, gt_df)\n",
    "    print(c,f1)\n",
    "    f1s.append(f1)\n",
    "score = np.mean(f1s)\n",
    "LOGGER.info(f'CV:{score}')"
   ]
  }
 ],
 "metadata": {
  "kernelspec": {
   "display_name": "Python 3 (ipykernel)",
   "language": "python",
   "name": "python3"
  },
  "language_info": {
   "codemirror_mode": {
    "name": "ipython",
    "version": 3
   },
   "file_extension": ".py",
   "mimetype": "text/x-python",
   "name": "python",
   "nbconvert_exporter": "python",
   "pygments_lexer": "ipython3",
   "version": "3.7.10"
  }
 },
 "nbformat": 4,
 "nbformat_minor": 5
}
