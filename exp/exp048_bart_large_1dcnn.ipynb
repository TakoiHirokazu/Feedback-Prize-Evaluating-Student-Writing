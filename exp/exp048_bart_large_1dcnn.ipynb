{
 "cells": [
  {
   "cell_type": "code",
   "execution_count": 4,
   "id": "201636bc",
   "metadata": {},
   "outputs": [],
   "source": [
    "# ========================================\n",
    "# library\n",
    "# ========================================\n",
    "import pandas as pd\n",
    "import numpy as np\n",
    "import matplotlib.pyplot as plt\n",
    "from sklearn.model_selection import StratifiedKFold, KFold,GroupKFold\n",
    "from sklearn.metrics import mean_squared_error\n",
    "%matplotlib inline\n",
    "import torch\n",
    "import torch.nn as nn\n",
    "from torch.utils.data import Dataset, DataLoader, Subset\n",
    "import transformers\n",
    "from transformers import LongformerTokenizer, LongformerModel,AutoTokenizer,RobertaModel,BartModel\n",
    "from transformers import AdamW, get_linear_schedule_with_warmup\n",
    "from torch.cuda.amp import autocast, GradScaler\n",
    "import logging\n",
    "from ast import literal_eval\n",
    "import sys\n",
    "from contextlib import contextmanager\n",
    "import time\n",
    "import random\n",
    "from tqdm import tqdm\n",
    "import os"
   ]
  },
  {
   "cell_type": "code",
   "execution_count": 2,
   "id": "0818f6bb",
   "metadata": {},
   "outputs": [],
   "source": [
    "# ==================\n",
    "# Constant\n",
    "# ==================\n",
    "ex = \"048\"\n",
    "TRAIN_PATH = \"../data/train.csv\"\n",
    "DATA_DIR = \"../data/bart-large/\"\n",
    "if not os.path.exists(f\"../output/exp/ex{ex}\"):\n",
    "    os.makedirs(f\"../output/exp/ex{ex}\")\n",
    "    os.makedirs(f\"../output/exp/ex{ex}/ex{ex}_model\")\n",
    "    \n",
    "OUTPUT_DIR = f\"../output/exp/ex{ex}\"\n",
    "MODEL_PATH_BASE = f\"../output/exp/ex{ex}/ex{ex}_model/ex{ex}\"\n",
    "LOGGER_PATH = f\"../output/exp/ex{ex}/ex{ex}.txt\"\n",
    "device = torch.device(\"cuda\" if torch.cuda.is_available() else \"cpu\")"
   ]
  },
  {
   "cell_type": "code",
   "execution_count": 3,
   "id": "f6b8ec75",
   "metadata": {},
   "outputs": [],
   "source": [
    "# ===============\n",
    "# Configs\n",
    "# ===============\n",
    "SEED = 0\n",
    "N_SPLITS = 5\n",
    "SHUFFLE = True\n",
    "BATCH_SIZE = 8\n",
    "\n",
    "n_epochs = 6\n",
    "max_len = 512\n",
    "weight_decay = 0.1\n",
    "beta = (0.9, 0.98)\n",
    "lr = 2e-5\n",
    "num_warmup_steps_rate = 0.1\n",
    "\n",
    "MODEL_PATH = 'facebook/bart-large'\n",
    "tokenizer = AutoTokenizer.from_pretrained(MODEL_PATH)"
   ]
  },
  {
   "cell_type": "code",
   "execution_count": 5,
   "id": "b5fdacb4",
   "metadata": {},
   "outputs": [
    {
     "name": "stderr",
     "output_type": "stream",
     "text": [
      "2022-02-14 13:19:04,473 - INFO - logger set up\n"
     ]
    },
    {
     "data": {
      "text/plain": [
       "<RootLogger root (DEBUG)>"
      ]
     },
     "execution_count": 5,
     "metadata": {},
     "output_type": "execute_result"
    }
   ],
   "source": [
    "# ===============\n",
    "# Functions\n",
    "# ===============\n",
    "def set_seed(seed: int = 42):\n",
    "    random.seed(seed)\n",
    "    np.random.seed(seed)\n",
    "    os.environ[\"PYTHONHASHSEED\"] = str(seed)\n",
    "    torch.manual_seed(seed)\n",
    "    torch.cuda.manual_seed(seed)\n",
    "    torch.backends.cudnn.deterministic = True\n",
    "    torch.backends.cudnn.benchmark = False\n",
    "\n",
    "def setup_logger(out_file=None, stderr=True, stderr_level=logging.INFO, file_level=logging.DEBUG):\n",
    "    LOGGER.handlers = []\n",
    "    LOGGER.setLevel(min(stderr_level, file_level))\n",
    "\n",
    "    if stderr:\n",
    "        handler = logging.StreamHandler(sys.stderr)\n",
    "        handler.setFormatter(FORMATTER)\n",
    "        handler.setLevel(stderr_level)\n",
    "        LOGGER.addHandler(handler)\n",
    "\n",
    "    if out_file is not None:\n",
    "        handler = logging.FileHandler(out_file)\n",
    "        handler.setFormatter(FORMATTER)\n",
    "        handler.setLevel(file_level)\n",
    "        LOGGER.addHandler(handler)\n",
    "\n",
    "    LOGGER.info(\"logger set up\")\n",
    "    return LOGGER\n",
    "\n",
    "\n",
    "@contextmanager\n",
    "def timer(name):\n",
    "    t0 = time.time()\n",
    "    yield \n",
    "    LOGGER.info(f'[{name}] done in {time.time() - t0:.0f} s')\n",
    "    \n",
    "    \n",
    "LOGGER = logging.getLogger()\n",
    "FORMATTER = logging.Formatter(\"%(asctime)s - %(levelname)s - %(message)s\")\n",
    "setup_logger(out_file=LOGGER_PATH)"
   ]
  },
  {
   "cell_type": "code",
   "execution_count": 6,
   "id": "11f22bd8",
   "metadata": {},
   "outputs": [],
   "source": [
    "class TrainDataset(Dataset):\n",
    "    def __init__(self, token,attentiona_mask,label=None):\n",
    "        self.len = len(token)\n",
    "        self.token = token\n",
    "        self.attention_mask = attentiona_mask\n",
    "        self.label = label\n",
    "        #self.get_wids = get_wids # for validation\n",
    "\n",
    "    def __getitem__(self, index):\n",
    "        # GET TEXT AND WORD LABELS \n",
    "        if self.label is not None:\n",
    "            return {\n",
    "              'token': torch.tensor(self.token[index], dtype=torch.long),\n",
    "              'mask': torch.tensor(self.attention_mask[index], dtype=torch.long),\n",
    "              \"y\":torch.tensor(self.label[index], dtype=torch.float32)\n",
    "               }\n",
    "        else:\n",
    "            return {\n",
    "              'token': torch.tensor(self.token[index], dtype=torch.long),\n",
    "              'mask': torch.tensor(self.attention_mask[index], dtype=torch.long),\n",
    "               }\n",
    "\n",
    "    def __len__(self):\n",
    "        return self.len\n",
    "\n",
    "class custom_model(nn.Module):\n",
    "    def __init__(self):\n",
    "        super(custom_model, self).__init__()\n",
    "        self.backbone = BartModel.from_pretrained(\n",
    "            MODEL_PATH, \n",
    "        )\n",
    "        \n",
    "        #self.dropout = nn.Dropout(p=0.2)\n",
    "        self.ln = nn.LayerNorm(1024)\n",
    "        \n",
    "        self.conv1= nn.Conv1d(1024, 512, kernel_size=3, padding=1)\n",
    "        self.conv2= nn.Conv1d(1024, 512, kernel_size=9, padding=4)\n",
    "        self.conv3= nn.Conv1d(1024, 512, kernel_size=15, padding=7)\n",
    "        self.conv4= nn.Conv1d(1024, 512, kernel_size=31, padding=15)\n",
    "        self.ln1 = nn.Sequential(nn.LayerNorm(512),\n",
    "                                            nn.ReLU(),\n",
    "                                            nn.Dropout(0.2))\n",
    "        self.ln2 = nn.Sequential( nn.LayerNorm(512),\n",
    "                                            nn.ReLU(),\n",
    "                                            nn.Dropout(0.2))\n",
    "        self.ln3 = nn.Sequential( nn.LayerNorm(512),\n",
    "                                            nn.ReLU(),\n",
    "                                            nn.Dropout(0.2))\n",
    "        self.ln4 = nn.Sequential( nn.LayerNorm(512),\n",
    "                                            nn.ReLU(),\n",
    "                                            nn.Dropout(0.2))\n",
    "        \n",
    "        self.linear1 = nn.Sequential(\n",
    "            nn.Linear(2048,1024),\n",
    "            nn.LayerNorm(1024),\n",
    "            nn.ReLU(),\n",
    "            nn.Dropout(0.2),\n",
    "            nn.Linear(1024,2),\n",
    "        )\n",
    "        self.linear2 = nn.Sequential(\n",
    "            nn.Linear(2048,1024),\n",
    "            nn.LayerNorm(1024),\n",
    "            nn.ReLU(),\n",
    "            nn.Dropout(0.2),\n",
    "            nn.Linear(1024,2),\n",
    "        )\n",
    "        self.linear3 = nn.Sequential(\n",
    "            nn.Linear(2048,1024),\n",
    "            nn.LayerNorm(1024),\n",
    "            nn.ReLU(),\n",
    "            nn.Dropout(0.2),\n",
    "            nn.Linear(1024,2),\n",
    "        )\n",
    "        self.linear4 = nn.Sequential(\n",
    "            nn.Linear(2048,1024),\n",
    "            nn.LayerNorm(1024),\n",
    "            nn.ReLU(),\n",
    "            nn.Dropout(0.2),\n",
    "            nn.Linear(1024,2),\n",
    "        )\n",
    "        self.linear5 = nn.Sequential(\n",
    "            nn.Linear(2048,1024),\n",
    "            nn.LayerNorm(1024),\n",
    "            nn.ReLU(),\n",
    "            nn.Dropout(0.2),\n",
    "            nn.Linear(1024,2),\n",
    "        )\n",
    "        self.linear6 = nn.Sequential(\n",
    "            nn.Linear(2048,1024),\n",
    "            nn.LayerNorm(1024),\n",
    "            nn.ReLU(),\n",
    "            nn.Dropout(0.2),\n",
    "            nn.Linear(1024,2),\n",
    "        )\n",
    "        self.linear7 = nn.Sequential(\n",
    "            nn.Linear(2048,1024),\n",
    "            nn.LayerNorm(1024),\n",
    "            nn.ReLU(),\n",
    "            nn.Dropout(0.2),\n",
    "            nn.Linear(1024,2),\n",
    "        )\n",
    "        self.linear8 = nn.Sequential(\n",
    "            nn.Linear(2048,1024),\n",
    "            nn.LayerNorm(1024),\n",
    "            nn.ReLU(),\n",
    "            nn.Dropout(0.2),\n",
    "            nn.Linear(1024,1),\n",
    "        )\n",
    "    def forward(self, ids, mask):\n",
    "        # pooler\n",
    "        emb = self.backbone(ids, attention_mask=mask)[\"last_hidden_state\"]\n",
    "        output = self.ln(emb)\n",
    "        output = output.permute((0, 2, 1)).contiguous()\n",
    "        output1 = self.conv1(output)\n",
    "        output1 = self.ln1(output1.permute((0, 2, 1)).contiguous())\n",
    "        output2 = self.conv2(output)\n",
    "        output2 = self.ln2(output2.permute((0, 2, 1)).contiguous())\n",
    "        output3 = self.conv3(output)\n",
    "        output3 = self.ln3(output3.permute((0, 2, 1)).contiguous())\n",
    "        output4 = self.conv4(output)\n",
    "        output4 = self.ln4(output4.permute((0, 2, 1)).contiguous())\n",
    "        output_concat = torch.cat([output1,output2,output3,output4],axis=-1)\n",
    "        output2_1 = self.linear1(output_concat)\n",
    "        output2_2 = self.linear2(output_concat)\n",
    "        output2_3 = self.linear3(output_concat)\n",
    "        output2_4 = self.linear4(output_concat)\n",
    "        output2_5 = self.linear5(output_concat)\n",
    "        output2_6 = self.linear6(output_concat)\n",
    "        output2_7= self.linear7(output_concat)\n",
    "        output2_8 = self.linear8(output_concat)\n",
    "        out = torch.cat(\n",
    "            [output2_1,output2_2,output2_3,output2_4,\n",
    "             output2_5,output2_6,output2_7,output2_8], axis=2)\n",
    "        return out"
   ]
  },
  {
   "cell_type": "code",
   "execution_count": 7,
   "id": "1be17a82",
   "metadata": {},
   "outputs": [],
   "source": [
    "target_map_rev = {0:'Lead', 1:'Position', 2:'Evidence', 3:'Claim', 4:'Concluding Statement',\n",
    "             5:'Counterclaim', 6:'Rebuttal', 7:'blank'}\n",
    "\n",
    "def get_preds_collate(dataset, verbose,text_ids, preds, preds_len):\n",
    "    all_predictions = []\n",
    "\n",
    "    for id_num in tqdm(range(len(preds))):\n",
    "    \n",
    "        # GET ID\n",
    "        #if (id_num%100==0)&(verbose): \n",
    "        #    print(id_num,', ',end='')\n",
    "        n = text_ids[id_num]\n",
    "        max_len = int(preds_len[id_num])\n",
    "        # GET TOKEN POSITIONS IN CHARS\n",
    "        name = f'../data/{dataset}/{n}.txt'\n",
    "        txt = open(name, 'r').read()\n",
    "        tokens = tokenizer.encode_plus(txt, max_length=max_len, padding='max_length',\n",
    "                                   truncation=True, return_offsets_mapping=True)\n",
    "        off = tokens['offset_mapping']\n",
    "    \n",
    "        # GET WORD POSITIONS IN CHARS\n",
    "        w = []\n",
    "        blank = True\n",
    "        for i in range(len(txt)):\n",
    "            if (txt[i]!=' ')&(txt[i]!='\\n')&(txt[i]!='\\xa0')&(txt[i]!='\\x85')&(blank==True):\n",
    "                w.append(i)\n",
    "                blank=False\n",
    "            elif (txt[i]==' ')|(txt[i]=='\\n')|(txt[i]=='\\xa0')|(txt[i]=='\\x85'):\n",
    "                blank=True\n",
    "        w.append(1e6)\n",
    "            \n",
    "        # MAPPING FROM TOKENS TO WORDS\n",
    "        word_map = -1 * np.ones(max_len,dtype='int32')\n",
    "        w_i = 0\n",
    "        for i in range(len(off)):\n",
    "            if off[i][1]==0: continue\n",
    "            while off[i][0]>=w[w_i+1]: w_i += 1\n",
    "            word_map[i] = int(w_i)\n",
    "        \n",
    "        # CONVERT TOKEN PREDICTIONS INTO WORD LABELS\n",
    "        ### KEY: ###\n",
    "        # 0: LEAD_B, 1: LEAD_I\n",
    "        # 2: POSITION_B, 3: POSITION_I\n",
    "        # 4: EVIDENCE_B, 5: EVIDENCE_I\n",
    "        # 6: CLAIM_B, 7: CLAIM_I\n",
    "        # 8: CONCLUSION_B, 9: CONCLUSION_I\n",
    "        # 10: COUNTERCLAIM_B, 11: COUNTERCLAIM_I\n",
    "        # 12: REBUTTAL_B, 13: REBUTTAL_I\n",
    "        # 14: NOTHING i.e. O\n",
    "        ### NOTE THESE VALUES ARE DIVIDED BY 2 IN NEXT CODE LINE\n",
    "        pred = preds[id_num,]/2.0\n",
    "    \n",
    "        i = 0\n",
    "        while i<max_len:\n",
    "            prediction = []\n",
    "            start = pred[i]\n",
    "            if start in [0,1,2,3,4,5,6,7]:\n",
    "                prediction.append(word_map[i])\n",
    "                i += 1\n",
    "                if i>=max_len: break\n",
    "                while pred[i]==start+0.5:\n",
    "                    if not word_map[i] in prediction:\n",
    "                        prediction.append(word_map[i])\n",
    "                    i += 1\n",
    "                    if i>=max_len: break\n",
    "            else:\n",
    "                i += 1\n",
    "            prediction = [x for x in prediction if x!=-1]\n",
    "            if len(prediction)>4:\n",
    "                all_predictions.append( (n, target_map_rev[int(start)], \n",
    "                                ' '.join([str(x) for x in prediction]) ) )\n",
    "                \n",
    "    # MAKE DATAFRAME\n",
    "    df = pd.DataFrame(all_predictions)\n",
    "    df.columns = ['id','class','predictionstring']\n",
    "    \n",
    "    return df\n",
    "\n",
    "\n",
    "def calc_overlap(row):\n",
    "    \"\"\"\n",
    "    Calculates the overlap between prediction and\n",
    "    ground truth and overlap percentages used for determining\n",
    "    true positives.\n",
    "    \"\"\"\n",
    "    set_pred = set(row.predictionstring_pred.split(' '))\n",
    "    set_gt = set(row.predictionstring_gt.split(' '))\n",
    "    # Length of each and intersection\n",
    "    len_gt = len(set_gt)\n",
    "    len_pred = len(set_pred)\n",
    "    inter = len(set_gt.intersection(set_pred))\n",
    "    overlap_1 = inter / len_gt\n",
    "    overlap_2 = inter/ len_pred\n",
    "    return [overlap_1, overlap_2]\n",
    "\n",
    "\n",
    "def score_feedback_comp(pred_df, gt_df):\n",
    "    \"\"\"\n",
    "    A function that scores for the kaggle\n",
    "        Student Writing Competition\n",
    "        \n",
    "    Uses the steps in the evaluation page here:\n",
    "        https://www.kaggle.com/c/feedback-prize-2021/overview/evaluation\n",
    "    \"\"\"\n",
    "    gt_df = gt_df[['id','discourse_type','predictionstring']] \\\n",
    "        .reset_index(drop=True).copy()\n",
    "    pred_df = pred_df[['id','class','predictionstring']] \\\n",
    "        .reset_index(drop=True).copy()\n",
    "    pred_df['pred_id'] = pred_df.index\n",
    "    gt_df['gt_id'] = gt_df.index\n",
    "    # Step 1. all ground truths and predictions for a given class are compared.\n",
    "    joined = pred_df.merge(gt_df,\n",
    "                           left_on=['id','class'],\n",
    "                           right_on=['id','discourse_type'],\n",
    "                           how='outer',\n",
    "                           suffixes=('_pred','_gt')\n",
    "                          )\n",
    "    joined['predictionstring_gt'] = joined['predictionstring_gt'].fillna(' ')\n",
    "    joined['predictionstring_pred'] = joined['predictionstring_pred'].fillna(' ')\n",
    "\n",
    "    joined['overlaps'] = joined.apply(calc_overlap, axis=1)\n",
    "\n",
    "    # 2. If the overlap between the ground truth and prediction is >= 0.5, \n",
    "    # and the overlap between the prediction and the ground truth >= 0.5,\n",
    "    # the prediction is a match and considered a true positive.\n",
    "    # If multiple matches exist, the match with the highest pair of overlaps is taken.\n",
    "    joined['overlap1'] = joined['overlaps'].apply(lambda x: eval(str(x))[0])\n",
    "    joined['overlap2'] = joined['overlaps'].apply(lambda x: eval(str(x))[1])\n",
    "\n",
    "\n",
    "    joined['potential_TP'] = (joined['overlap1'] >= 0.5) & (joined['overlap2'] >= 0.5)\n",
    "    joined['max_overlap'] = joined[['overlap1','overlap2']].max(axis=1)\n",
    "    tp_pred_ids = joined.query('potential_TP') \\\n",
    "        .sort_values('max_overlap', ascending=False) \\\n",
    "        .groupby(['id','predictionstring_gt']).first()['pred_id'].values\n",
    "\n",
    "    # 3. Any unmatched ground truths are false negatives\n",
    "    # and any unmatched predictions are false positives.\n",
    "    fp_pred_ids = [p for p in joined['pred_id'].unique() if p not in tp_pred_ids]\n",
    "\n",
    "    matched_gt_ids = joined.query('potential_TP')['gt_id'].unique()\n",
    "    unmatched_gt_ids = [c for c in joined['gt_id'].unique() if c not in matched_gt_ids]\n",
    "\n",
    "    # Get numbers of each type\n",
    "    TP = len(tp_pred_ids)\n",
    "    FP = len(fp_pred_ids)\n",
    "    FN = len(unmatched_gt_ids)\n",
    "    #calc microf1\n",
    "    my_f1_score = TP / (TP + 0.5*(FP+FN))\n",
    "    return my_f1_score\n",
    "\n",
    "def collate(d,train=True):\n",
    "    mask_len = int(d[\"mask\"].sum(axis=1).max())\n",
    "    if train:\n",
    "        return {\"token\" : d['token'][:,:mask_len],\n",
    "                 \"mask\" : d['mask'][:,:mask_len],\n",
    "                 \"y\" : d['y'][:,:mask_len],\n",
    "                  \"max_len\" : mask_len}\n",
    "    else:\n",
    "        return {\"token\" : d['token'][:,:mask_len],\n",
    "                 \"mask\" : d['mask'][:,:mask_len],\n",
    "                  \"max_len\" : mask_len}"
   ]
  },
  {
   "cell_type": "code",
   "execution_count": 8,
   "id": "47e264f4",
   "metadata": {},
   "outputs": [],
   "source": [
    "# ================================\n",
    "# Main\n",
    "# ================================\n",
    "train = pd.read_csv(TRAIN_PATH)\n",
    "IDS = train.id.unique()\n",
    "id_array = np.array(IDS)"
   ]
  },
  {
   "cell_type": "code",
   "execution_count": 13,
   "id": "695c7993",
   "metadata": {},
   "outputs": [],
   "source": [
    "targets = np.load(DATA_DIR + f\"targets_{max_len}.npy\")\n",
    "train_tokens = np.load(DATA_DIR + f\"tokens_{max_len}.npy\")\n",
    "train_attention = np.load(DATA_DIR + f\"attention_{max_len}.npy\")"
   ]
  },
  {
   "cell_type": "code",
   "execution_count": 14,
   "id": "39cd00d1",
   "metadata": {},
   "outputs": [
    {
     "name": "stdout",
     "output_type": "stream",
     "text": [
      "fold0:start\n"
     ]
    },
    {
     "name": "stderr",
     "output_type": "stream",
     "text": [
      "2022-02-14 13:24:31,691 - INFO - Lock 140357988494160 acquired on /root/.cache/huggingface/transformers/d065edfe6954baf0b989a2063b26eb07e8c4d0b19354b5c74af9a51f5518df6e.6ca4df1a6ec59aa763989ceec10dff41dde19f0f0824b9f5d3fcd35a8abffdb2.lock\n"
     ]
    },
    {
     "data": {
      "application/vnd.jupyter.widget-view+json": {
       "model_id": "698e82a6d8d041329457b6a55c9f9427",
       "version_major": 2,
       "version_minor": 0
      },
      "text/plain": [
       "Downloading:   0%|          | 0.00/971M [00:00<?, ?B/s]"
      ]
     },
     "metadata": {},
     "output_type": "display_data"
    },
    {
     "name": "stderr",
     "output_type": "stream",
     "text": [
      "2022-02-14 13:24:48,799 - INFO - Lock 140357988494160 released on /root/.cache/huggingface/transformers/d065edfe6954baf0b989a2063b26eb07e8c4d0b19354b5c74af9a51f5518df6e.6ca4df1a6ec59aa763989ceec10dff41dde19f0f0824b9f5d3fcd35a8abffdb2.lock\n"
     ]
    },
    {
     "name": "stdout",
     "output_type": "stream",
     "text": [
      "============start epoch:0==============\n"
     ]
    },
    {
     "name": "stderr",
     "output_type": "stream",
     "text": [
      "100%|██████████| 1560/1560 [09:49<00:00,  2.65it/s]\n",
      "100%|██████████| 390/390 [00:46<00:00,  8.30it/s]\n",
      "100%|██████████| 3119/3119 [00:15<00:00, 199.34it/s]\n",
      "2022-02-14 13:35:48,605 - INFO - Note: NumExpr detected 12 cores but \"NUMEXPR_MAX_THREADS\" not set, so enforcing safe limit of 8.\n",
      "2022-02-14 13:35:48,605 - INFO - NumExpr defaulting to 8 threads.\n"
     ]
    },
    {
     "name": "stdout",
     "output_type": "stream",
     "text": [
      "\n",
      "Lead 0.8053868497491418\n",
      "Claim 0.5815112722329218\n",
      "Evidence 0.6306063522617902\n",
      "Position 0.6584626359907259\n"
     ]
    },
    {
     "name": "stderr",
     "output_type": "stream",
     "text": [
      "2022-02-14 13:35:51,732 - INFO - 0,0:1559,val_score:0.5629459757977664\n"
     ]
    },
    {
     "name": "stdout",
     "output_type": "stream",
     "text": [
      "Concluding Statement 0.5649921153412931\n",
      "Counterclaim 0.42530120481927713\n",
      "Rebuttal 0.27436140018921473\n",
      "save model weight\n",
      "============start epoch:1==============\n"
     ]
    },
    {
     "name": "stderr",
     "output_type": "stream",
     "text": [
      "100%|██████████| 1560/1560 [09:48<00:00,  2.65it/s]\n",
      "100%|██████████| 390/390 [00:46<00:00,  8.31it/s]\n",
      "100%|██████████| 3119/3119 [00:15<00:00, 198.29it/s]\n"
     ]
    },
    {
     "name": "stdout",
     "output_type": "stream",
     "text": [
      "\n",
      "Lead 0.8136823011142783\n",
      "Claim 0.6043538164783687\n",
      "Evidence 0.6556191623983127\n",
      "Position 0.6856073494385846\n"
     ]
    },
    {
     "name": "stderr",
     "output_type": "stream",
     "text": [
      "2022-02-14 13:46:49,920 - INFO - 0,1:1559,val_score:0.5975390059647722\n"
     ]
    },
    {
     "name": "stdout",
     "output_type": "stream",
     "text": [
      "Concluding Statement 0.5961538461538461\n",
      "Counterclaim 0.46421663442940037\n",
      "Rebuttal 0.3631399317406143\n",
      "save model weight\n",
      "============start epoch:2==============\n"
     ]
    },
    {
     "name": "stderr",
     "output_type": "stream",
     "text": [
      "100%|██████████| 1560/1560 [09:46<00:00,  2.66it/s]\n",
      "100%|██████████| 390/390 [00:42<00:00,  9.12it/s]\n",
      "100%|██████████| 3119/3119 [00:15<00:00, 201.93it/s]\n"
     ]
    },
    {
     "name": "stdout",
     "output_type": "stream",
     "text": [
      "\n",
      "Lead 0.8144385026737968\n",
      "Claim 0.5941871752412493\n",
      "Evidence 0.6715791996165827\n",
      "Position 0.6956372968349016\n"
     ]
    },
    {
     "name": "stderr",
     "output_type": "stream",
     "text": [
      "2022-02-14 13:57:47,088 - INFO - 0,2:1559,val_score:0.5957045030479768\n"
     ]
    },
    {
     "name": "stdout",
     "output_type": "stream",
     "text": [
      "Concluding Statement 0.5835770528683915\n",
      "Counterclaim 0.46332046332046334\n",
      "Rebuttal 0.34719183078045224\n",
      "============start epoch:3==============\n"
     ]
    },
    {
     "name": "stderr",
     "output_type": "stream",
     "text": [
      "100%|██████████| 1560/1560 [09:43<00:00,  2.67it/s]\n",
      "100%|██████████| 390/390 [00:42<00:00,  9.13it/s]\n",
      "100%|██████████| 3119/3119 [00:15<00:00, 202.59it/s]\n"
     ]
    },
    {
     "name": "stdout",
     "output_type": "stream",
     "text": [
      "\n",
      "Lead 0.8175930922827847\n",
      "Claim 0.6076220543466005\n",
      "Evidence 0.6740436670831103\n",
      "Position 0.7143812709030101\n"
     ]
    },
    {
     "name": "stderr",
     "output_type": "stream",
     "text": [
      "2022-02-14 14:08:32,688 - INFO - 0,3:1559,val_score:0.606684155876465\n"
     ]
    },
    {
     "name": "stdout",
     "output_type": "stream",
     "text": [
      "Concluding Statement 0.607095926412615\n",
      "Counterclaim 0.4666666666666667\n",
      "Rebuttal 0.3593864134404675\n",
      "save model weight\n",
      "============start epoch:4==============\n"
     ]
    },
    {
     "name": "stderr",
     "output_type": "stream",
     "text": [
      "100%|██████████| 1560/1560 [09:43<00:00,  2.67it/s]\n",
      "100%|██████████| 390/390 [00:42<00:00,  9.10it/s]\n",
      "100%|██████████| 3119/3119 [00:15<00:00, 202.96it/s]\n"
     ]
    },
    {
     "name": "stdout",
     "output_type": "stream",
     "text": [
      "\n",
      "Lead 0.8155080213903744\n",
      "Claim 0.6140265366910371\n",
      "Evidence 0.6728600642711072\n",
      "Position 0.7012898845892735\n"
     ]
    },
    {
     "name": "stderr",
     "output_type": "stream",
     "text": [
      "2022-02-14 14:19:27,690 - INFO - 0,4:1559,val_score:0.6031527934318992\n"
     ]
    },
    {
     "name": "stdout",
     "output_type": "stream",
     "text": [
      "Concluding Statement 0.6011787819253438\n",
      "Counterclaim 0.4637116415002435\n",
      "Rebuttal 0.353494623655914\n",
      "============start epoch:5==============\n"
     ]
    },
    {
     "name": "stderr",
     "output_type": "stream",
     "text": [
      "100%|██████████| 1560/1560 [09:43<00:00,  2.67it/s]\n",
      "100%|██████████| 390/390 [00:43<00:00,  9.05it/s]\n",
      "100%|██████████| 3119/3119 [00:15<00:00, 201.33it/s]\n"
     ]
    },
    {
     "name": "stdout",
     "output_type": "stream",
     "text": [
      "\n",
      "Lead 0.815845824411135\n",
      "Claim 0.6139703917481695\n",
      "Evidence 0.6651938840765071\n",
      "Position 0.7044615900704462\n"
     ]
    },
    {
     "name": "stderr",
     "output_type": "stream",
     "text": [
      "2022-02-14 14:30:13,753 - INFO - 0,5:1559,val_score:0.6032272994485226\n"
     ]
    },
    {
     "name": "stdout",
     "output_type": "stream",
     "text": [
      "Concluding Statement 0.6096233398650119\n",
      "Counterclaim 0.4579710144927536\n",
      "Rebuttal 0.35552505147563485\n",
      "fold1:start\n",
      "============start epoch:0==============\n"
     ]
    },
    {
     "name": "stderr",
     "output_type": "stream",
     "text": [
      "100%|██████████| 1560/1560 [09:43<00:00,  2.67it/s]\n",
      "100%|██████████| 390/390 [00:40<00:00,  9.58it/s]\n",
      "100%|██████████| 3119/3119 [00:15<00:00, 203.74it/s]\n"
     ]
    },
    {
     "name": "stdout",
     "output_type": "stream",
     "text": [
      "\n",
      "Position 0.6740554156171285\n",
      "Evidence 0.652670349907919\n",
      "Claim 0.5836456558773424\n",
      "Lead 0.797635800731776\n",
      "Rebuttal 0.26784140969162995\n",
      "Concluding Statement 0.5675909878682842\n"
     ]
    },
    {
     "name": "stderr",
     "output_type": "stream",
     "text": [
      "2022-02-14 14:41:02,400 - INFO - 1,0:1559,val_score:0.5672530724136879\n"
     ]
    },
    {
     "name": "stdout",
     "output_type": "stream",
     "text": [
      "Counterclaim 0.42733188720173537\n",
      "save model weight\n",
      "============start epoch:1==============\n"
     ]
    },
    {
     "name": "stderr",
     "output_type": "stream",
     "text": [
      "100%|██████████| 1560/1560 [09:43<00:00,  2.67it/s]\n",
      "100%|██████████| 390/390 [00:40<00:00,  9.57it/s]\n",
      "100%|██████████| 3119/3119 [00:15<00:00, 203.59it/s]\n"
     ]
    },
    {
     "name": "stdout",
     "output_type": "stream",
     "text": [
      "\n",
      "Position 0.6900050735667174\n",
      "Claim 0.6070725810985551\n",
      "Evidence 0.6565588361672089\n",
      "Lead 0.8196359624931053\n",
      "Counterclaim 0.4177732379979571\n",
      "Concluding Statement 0.5992442765058902\n"
     ]
    },
    {
     "name": "stderr",
     "output_type": "stream",
     "text": [
      "2022-02-14 14:51:48,418 - INFO - 1,1:1559,val_score:0.5824273109729194\n"
     ]
    },
    {
     "name": "stdout",
     "output_type": "stream",
     "text": [
      "Rebuttal 0.2867012089810017\n",
      "save model weight\n",
      "============start epoch:2==============\n"
     ]
    },
    {
     "name": "stderr",
     "output_type": "stream",
     "text": [
      "100%|██████████| 1560/1560 [09:43<00:00,  2.67it/s]\n",
      "100%|██████████| 390/390 [00:40<00:00,  9.52it/s]\n",
      "100%|██████████| 3119/3119 [00:15<00:00, 202.47it/s]\n"
     ]
    },
    {
     "name": "stdout",
     "output_type": "stream",
     "text": [
      "\n",
      "Evidence 0.6639469037325701\n",
      "Claim 0.6115226776101903\n",
      "Lead 0.8173528599060514\n",
      "Counterclaim 0.47992351816443596\n",
      "Rebuttal 0.39920687376074027\n"
     ]
    },
    {
     "name": "stderr",
     "output_type": "stream",
     "text": [
      "2022-02-14 15:02:41,379 - INFO - 1,2:1559,val_score:0.6097450901906196\n"
     ]
    },
    {
     "name": "stdout",
     "output_type": "stream",
     "text": [
      "Concluding Statement 0.6073018699910953\n",
      "Position 0.6889609281692544\n",
      "save model weight\n",
      "============start epoch:3==============\n"
     ]
    },
    {
     "name": "stderr",
     "output_type": "stream",
     "text": [
      "100%|██████████| 1560/1560 [09:42<00:00,  2.68it/s]\n",
      "100%|██████████| 390/390 [00:40<00:00,  9.56it/s]\n",
      "100%|██████████| 3119/3119 [00:15<00:00, 202.59it/s]\n"
     ]
    },
    {
     "name": "stdout",
     "output_type": "stream",
     "text": [
      "\n",
      "Claim 0.6146190423532014\n",
      "Evidence 0.6684951108991176\n",
      "Lead 0.8076923076923077\n",
      "Counterclaim 0.46104195481788846\n",
      "Rebuttal 0.387434554973822\n"
     ]
    },
    {
     "name": "stderr",
     "output_type": "stream",
     "text": [
      "2022-02-14 15:13:33,025 - INFO - 1,3:1559,val_score:0.6041000036562877\n"
     ]
    },
    {
     "name": "stdout",
     "output_type": "stream",
     "text": [
      "Position 0.699594046008119\n",
      "Concluding Statement 0.5898230088495575\n",
      "============start epoch:4==============\n"
     ]
    },
    {
     "name": "stderr",
     "output_type": "stream",
     "text": [
      "100%|██████████| 1560/1560 [09:43<00:00,  2.67it/s]\n",
      "100%|██████████| 390/390 [00:40<00:00,  9.57it/s]\n",
      "100%|██████████| 3119/3119 [00:15<00:00, 201.08it/s]\n"
     ]
    },
    {
     "name": "stdout",
     "output_type": "stream",
     "text": [
      "\n",
      "Position 0.7048988463467648\n",
      "Evidence 0.6640496836184673\n",
      "Claim 0.6254534148616437\n",
      "Lead 0.8163153572406241\n",
      "Counterclaim 0.4678030303030303\n",
      "Rebuttal 0.40641711229946526\n"
     ]
    },
    {
     "name": "stderr",
     "output_type": "stream",
     "text": [
      "2022-02-14 15:24:16,386 - INFO - 1,4:1559,val_score:0.6130948854003646\n"
     ]
    },
    {
     "name": "stdout",
     "output_type": "stream",
     "text": [
      "Concluding Statement 0.6067267531325566\n",
      "save model weight\n",
      "============start epoch:5==============\n"
     ]
    },
    {
     "name": "stderr",
     "output_type": "stream",
     "text": [
      "100%|██████████| 1560/1560 [09:43<00:00,  2.67it/s]\n",
      "100%|██████████| 390/390 [00:40<00:00,  9.54it/s]\n",
      "100%|██████████| 3119/3119 [00:15<00:00, 201.28it/s]\n"
     ]
    },
    {
     "name": "stdout",
     "output_type": "stream",
     "text": [
      "\n",
      "Evidence 0.6619254731397672\n",
      "Claim 0.6176780446691951\n",
      "Lead 0.8156884256719693\n",
      "Counterclaim 0.4699300699300699\n",
      "Rebuttal 0.41032428855062875\n"
     ]
    },
    {
     "name": "stderr",
     "output_type": "stream",
     "text": [
      "2022-02-14 15:35:09,178 - INFO - 1,5:1559,val_score:0.6101473629010113\n"
     ]
    },
    {
     "name": "stdout",
     "output_type": "stream",
     "text": [
      "Position 0.6980656013456686\n",
      "Concluding Statement 0.5974196369997813\n",
      "fold2:start\n",
      "============start epoch:0==============\n"
     ]
    },
    {
     "name": "stderr",
     "output_type": "stream",
     "text": [
      "100%|██████████| 1560/1560 [09:43<00:00,  2.67it/s]\n",
      "100%|██████████| 390/390 [00:40<00:00,  9.52it/s]\n",
      "100%|██████████| 3119/3119 [00:15<00:00, 201.82it/s]\n"
     ]
    },
    {
     "name": "stdout",
     "output_type": "stream",
     "text": [
      "\n",
      "Lead 0.8038815117466803\n",
      "Claim 0.559682574672104\n",
      "Position 0.6321376281112738\n",
      "Evidence 0.6320516764072593\n",
      "Concluding Statement 0.5482517482517483\n"
     ]
    },
    {
     "name": "stderr",
     "output_type": "stream",
     "text": [
      "2022-02-14 15:45:57,719 - INFO - 2,0:1559,val_score:0.5581991468682792\n"
     ]
    },
    {
     "name": "stdout",
     "output_type": "stream",
     "text": [
      "Counterclaim 0.4513888888888889\n",
      "Rebuttal 0.28\n",
      "save model weight\n",
      "============start epoch:1==============\n"
     ]
    },
    {
     "name": "stderr",
     "output_type": "stream",
     "text": [
      "100%|██████████| 1560/1560 [09:43<00:00,  2.67it/s]\n",
      "100%|██████████| 390/390 [00:40<00:00,  9.55it/s]\n",
      "100%|██████████| 3119/3119 [00:15<00:00, 201.21it/s]\n"
     ]
    },
    {
     "name": "stdout",
     "output_type": "stream",
     "text": [
      "\n",
      "Lead 0.8074690890739339\n",
      "Position 0.6624594302199783\n",
      "Claim 0.581704364259139\n",
      "Evidence 0.6501947264253336\n",
      "Concluding Statement 0.5635280095351609\n"
     ]
    },
    {
     "name": "stderr",
     "output_type": "stream",
     "text": [
      "2022-02-14 15:56:43,666 - INFO - 2,1:1559,val_score:0.576437009377703\n"
     ]
    },
    {
     "name": "stdout",
     "output_type": "stream",
     "text": [
      "Counterclaim 0.46412666996536367\n",
      "Rebuttal 0.30557677616501144\n",
      "save model weight\n",
      "============start epoch:2==============\n"
     ]
    },
    {
     "name": "stderr",
     "output_type": "stream",
     "text": [
      "100%|██████████| 1560/1560 [09:43<00:00,  2.67it/s]\n",
      "100%|██████████| 390/390 [00:40<00:00,  9.53it/s]\n",
      "100%|██████████| 3119/3119 [00:15<00:00, 200.69it/s]\n"
     ]
    },
    {
     "name": "stdout",
     "output_type": "stream",
     "text": [
      "\n",
      "Lead 0.8163046393134888\n",
      "Claim 0.6002555697538752\n",
      "Position 0.6754131879366161\n",
      "Evidence 0.668175052098839\n",
      "Concluding Statement 0.5818100757913509\n"
     ]
    },
    {
     "name": "stderr",
     "output_type": "stream",
     "text": [
      "2022-02-14 16:07:36,732 - INFO - 2,2:1559,val_score:0.6009927300488366\n"
     ]
    },
    {
     "name": "stdout",
     "output_type": "stream",
     "text": [
      "Counterclaim 0.4805716837874051\n",
      "Rebuttal 0.384418901660281\n",
      "save model weight\n",
      "============start epoch:3==============\n"
     ]
    },
    {
     "name": "stderr",
     "output_type": "stream",
     "text": [
      "100%|██████████| 1560/1560 [09:43<00:00,  2.67it/s]\n",
      "100%|██████████| 390/390 [00:40<00:00,  9.54it/s]\n",
      "100%|██████████| 3119/3119 [00:15<00:00, 201.92it/s]\n"
     ]
    },
    {
     "name": "stdout",
     "output_type": "stream",
     "text": [
      "\n",
      "Lead 0.827713382507903\n",
      "Claim 0.6018352609002552\n",
      "Position 0.6893269884432359\n",
      "Evidence 0.6572237960339944\n",
      "Concluding Statement 0.5850188930873528\n"
     ]
    },
    {
     "name": "stderr",
     "output_type": "stream",
     "text": [
      "2022-02-14 16:18:29,606 - INFO - 2,3:1559,val_score:0.6056798503002049\n"
     ]
    },
    {
     "name": "stdout",
     "output_type": "stream",
     "text": [
      "Counterclaim 0.4879852125693161\n",
      "Rebuttal 0.390655418559377\n",
      "save model weight\n",
      "============start epoch:4==============\n"
     ]
    },
    {
     "name": "stderr",
     "output_type": "stream",
     "text": [
      "100%|██████████| 1560/1560 [09:43<00:00,  2.67it/s]\n",
      "100%|██████████| 390/390 [00:40<00:00,  9.53it/s]\n",
      "100%|██████████| 3119/3119 [00:15<00:00, 198.98it/s]\n"
     ]
    },
    {
     "name": "stdout",
     "output_type": "stream",
     "text": [
      "\n",
      "Lead 0.8193088894750725\n",
      "Claim 0.6043744333635539\n",
      "Position 0.6860785665058581\n",
      "Evidence 0.6635367762128326\n",
      "Concluding Statement 0.6020184291355858\n"
     ]
    },
    {
     "name": "stderr",
     "output_type": "stream",
     "text": [
      "2022-02-14 16:29:22,286 - INFO - 2,4:1559,val_score:0.6066583569690355\n"
     ]
    },
    {
     "name": "stdout",
     "output_type": "stream",
     "text": [
      "Counterclaim 0.4847036328871893\n",
      "Rebuttal 0.3865877712031558\n",
      "save model weight\n",
      "============start epoch:5==============\n"
     ]
    },
    {
     "name": "stderr",
     "output_type": "stream",
     "text": [
      "100%|██████████| 1560/1560 [09:43<00:00,  2.67it/s]\n",
      "100%|██████████| 390/390 [00:40<00:00,  9.55it/s]\n",
      "100%|██████████| 3119/3119 [00:15<00:00, 198.67it/s]\n"
     ]
    },
    {
     "name": "stdout",
     "output_type": "stream",
     "text": [
      "\n",
      "Lead 0.8200792602377807\n",
      "Claim 0.6124489357127499\n",
      "Position 0.690632911392405\n",
      "Evidence 0.664469036967271\n",
      "Concluding Statement 0.6028985507246377\n"
     ]
    },
    {
     "name": "stderr",
     "output_type": "stream",
     "text": [
      "2022-02-14 16:40:15,395 - INFO - 2,5:1559,val_score:0.6096792493310328\n"
     ]
    },
    {
     "name": "stdout",
     "output_type": "stream",
     "text": [
      "Counterclaim 0.4909332153914197\n",
      "Rebuttal 0.3862928348909657\n",
      "save model weight\n",
      "fold3:start\n",
      "============start epoch:0==============\n"
     ]
    },
    {
     "name": "stderr",
     "output_type": "stream",
     "text": [
      "100%|██████████| 1560/1560 [09:43<00:00,  2.67it/s]\n",
      "100%|██████████| 390/390 [00:40<00:00,  9.59it/s]\n",
      "100%|██████████| 3119/3119 [00:15<00:00, 201.73it/s]\n"
     ]
    },
    {
     "name": "stdout",
     "output_type": "stream",
     "text": [
      "\n",
      "Position 0.6604350781781101\n",
      "Claim 0.5690774223458507\n",
      "Evidence 0.6379072418551629\n",
      "Concluding Statement 0.5751053916130464\n"
     ]
    },
    {
     "name": "stderr",
     "output_type": "stream",
     "text": [
      "2022-02-14 16:51:12,070 - INFO - 3,0:1559,val_score:0.5649995939603893\n"
     ]
    },
    {
     "name": "stdout",
     "output_type": "stream",
     "text": [
      "Lead 0.7727645611156686\n",
      "Counterclaim 0.42601319509896324\n",
      "Rebuttal 0.31369426751592355\n",
      "save model weight\n",
      "============start epoch:1==============\n"
     ]
    },
    {
     "name": "stderr",
     "output_type": "stream",
     "text": [
      "100%|██████████| 1560/1560 [09:43<00:00,  2.67it/s]\n",
      "100%|██████████| 390/390 [00:40<00:00,  9.54it/s]\n",
      "100%|██████████| 3119/3119 [00:15<00:00, 200.74it/s]\n"
     ]
    },
    {
     "name": "stdout",
     "output_type": "stream",
     "text": [
      "\n",
      "Position 0.6761363636363636\n",
      "Claim 0.5803054239073197\n",
      "Evidence 0.6623208904741406\n",
      "Concluding Statement 0.5718729171295268\n"
     ]
    },
    {
     "name": "stderr",
     "output_type": "stream",
     "text": [
      "2022-02-14 17:01:58,386 - INFO - 3,1:1559,val_score:0.5826149532354769\n"
     ]
    },
    {
     "name": "stdout",
     "output_type": "stream",
     "text": [
      "Lead 0.7990430622009569\n",
      "Counterclaim 0.4370927318295739\n",
      "Rebuttal 0.35153328347045626\n",
      "save model weight\n",
      "============start epoch:2==============\n"
     ]
    },
    {
     "name": "stderr",
     "output_type": "stream",
     "text": [
      "100%|██████████| 1560/1560 [09:43<00:00,  2.67it/s]\n",
      "100%|██████████| 390/390 [00:40<00:00,  9.58it/s]\n",
      "100%|██████████| 3119/3119 [00:15<00:00, 200.66it/s]\n"
     ]
    },
    {
     "name": "stdout",
     "output_type": "stream",
     "text": [
      "\n",
      "Position 0.692967409948542\n",
      "Claim 0.5954129476895266\n",
      "Evidence 0.6746414330774266\n",
      "Concluding Statement 0.5970013630168105\n"
     ]
    },
    {
     "name": "stderr",
     "output_type": "stream",
     "text": [
      "2022-02-14 17:12:50,752 - INFO - 3,2:1559,val_score:0.5959711879093667\n"
     ]
    },
    {
     "name": "stdout",
     "output_type": "stream",
     "text": [
      "Lead 0.8067850516830108\n",
      "Counterclaim 0.45495271279243404\n",
      "Rebuttal 0.350037397157816\n",
      "save model weight\n",
      "============start epoch:3==============\n"
     ]
    },
    {
     "name": "stderr",
     "output_type": "stream",
     "text": [
      "100%|██████████| 1560/1560 [09:43<00:00,  2.67it/s]\n",
      "100%|██████████| 390/390 [00:40<00:00,  9.56it/s]\n",
      "100%|██████████| 3119/3119 [00:15<00:00, 201.24it/s]\n"
     ]
    },
    {
     "name": "stdout",
     "output_type": "stream",
     "text": [
      "\n",
      "Position 0.6963481740870435\n",
      "Claim 0.6063746795943386\n",
      "Evidence 0.6705694518360831\n",
      "Concluding Statement 0.6157538730089461\n"
     ]
    },
    {
     "name": "stderr",
     "output_type": "stream",
     "text": [
      "2022-02-14 17:23:43,657 - INFO - 3,3:1559,val_score:0.6068540662230488\n"
     ]
    },
    {
     "name": "stdout",
     "output_type": "stream",
     "text": [
      "Lead 0.8112109994711793\n",
      "Counterclaim 0.46826923076923077\n",
      "Rebuttal 0.37945205479452054\n",
      "save model weight\n",
      "============start epoch:4==============\n"
     ]
    },
    {
     "name": "stderr",
     "output_type": "stream",
     "text": [
      "100%|██████████| 1560/1560 [09:41<00:00,  2.68it/s]\n",
      "100%|██████████| 390/390 [00:40<00:00,  9.57it/s]\n",
      "100%|██████████| 3119/3119 [00:15<00:00, 201.76it/s]\n"
     ]
    },
    {
     "name": "stdout",
     "output_type": "stream",
     "text": [
      "\n",
      "Position 0.6869871043376319\n",
      "Claim 0.6045526158526647\n",
      "Evidence 0.6700846548229402\n",
      "Concluding Statement 0.6003958654057621\n"
     ]
    },
    {
     "name": "stderr",
     "output_type": "stream",
     "text": [
      "2022-02-14 17:34:33,957 - INFO - 3,4:1559,val_score:0.5998926464719874\n"
     ]
    },
    {
     "name": "stdout",
     "output_type": "stream",
     "text": [
      "Lead 0.8008553862603582\n",
      "Counterclaim 0.46153846153846156\n",
      "Rebuttal 0.3748344370860927\n",
      "============start epoch:5==============\n"
     ]
    },
    {
     "name": "stderr",
     "output_type": "stream",
     "text": [
      "100%|██████████| 1560/1560 [09:42<00:00,  2.68it/s]\n",
      "100%|██████████| 390/390 [00:40<00:00,  9.59it/s]\n",
      "100%|██████████| 3119/3119 [00:15<00:00, 200.24it/s]\n"
     ]
    },
    {
     "name": "stdout",
     "output_type": "stream",
     "text": [
      "\n",
      "Position 0.6911864406779661\n",
      "Claim 0.6062392795883362\n",
      "Evidence 0.6664299242424242\n",
      "Concluding Statement 0.6084114186097189\n",
      "Lead 0.8081654017272966\n"
     ]
    },
    {
     "name": "stderr",
     "output_type": "stream",
     "text": [
      "2022-02-14 17:45:16,358 - INFO - 3,5:1559,val_score:0.6027488396737678\n"
     ]
    },
    {
     "name": "stdout",
     "output_type": "stream",
     "text": [
      "Counterclaim 0.4573947110675808\n",
      "Rebuttal 0.3814147018030513\n",
      "fold4:start\n",
      "============start epoch:0==============\n"
     ]
    },
    {
     "name": "stderr",
     "output_type": "stream",
     "text": [
      "100%|██████████| 1560/1560 [09:40<00:00,  2.69it/s]\n",
      "100%|██████████| 390/390 [00:40<00:00,  9.65it/s]\n",
      "100%|██████████| 3118/3118 [00:15<00:00, 201.57it/s]\n"
     ]
    },
    {
     "name": "stdout",
     "output_type": "stream",
     "text": [
      "\n",
      "Lead 0.8\n",
      "Claim 0.5637955379836205\n",
      "Evidence 0.6344117474989762\n",
      "Position 0.6648266344661031\n"
     ]
    },
    {
     "name": "stderr",
     "output_type": "stream",
     "text": [
      "2022-02-14 17:56:01,520 - INFO - 4,0:1559,val_score:0.5510296154562537\n"
     ]
    },
    {
     "name": "stdout",
     "output_type": "stream",
     "text": [
      "Concluding Statement 0.5155513666352498\n",
      "Counterclaim 0.41310975609756095\n",
      "Rebuttal 0.26551226551226553\n",
      "save model weight\n",
      "============start epoch:1==============\n"
     ]
    },
    {
     "name": "stderr",
     "output_type": "stream",
     "text": [
      "100%|██████████| 1560/1560 [09:44<00:00,  2.67it/s]\n",
      "100%|██████████| 390/390 [00:40<00:00,  9.64it/s]\n",
      "100%|██████████| 3118/3118 [00:15<00:00, 200.83it/s]\n"
     ]
    },
    {
     "name": "stdout",
     "output_type": "stream",
     "text": [
      "\n",
      "Lead 0.8256977356503423\n",
      "Claim 0.5916317067785383\n",
      "Evidence 0.6418222003929273\n",
      "Position 0.6757586089328332\n"
     ]
    },
    {
     "name": "stderr",
     "output_type": "stream",
     "text": [
      "2022-02-14 18:06:47,915 - INFO - 4,1:1559,val_score:0.580559618743092\n"
     ]
    },
    {
     "name": "stdout",
     "output_type": "stream",
     "text": [
      "Concluding Statement 0.5528152629129828\n",
      "Counterclaim 0.4266399599399099\n",
      "Rebuttal 0.3495518565941101\n",
      "save model weight\n",
      "============start epoch:2==============\n"
     ]
    },
    {
     "name": "stderr",
     "output_type": "stream",
     "text": [
      "100%|██████████| 1560/1560 [09:41<00:00,  2.68it/s]\n",
      "100%|██████████| 390/390 [00:40<00:00,  9.64it/s]\n",
      "100%|██████████| 3118/3118 [00:15<00:00, 200.93it/s]\n"
     ]
    },
    {
     "name": "stdout",
     "output_type": "stream",
     "text": [
      "\n",
      "Lead 0.8112449799196787\n",
      "Position 0.6884978820462692\n",
      "Claim 0.6076246334310851\n",
      "Evidence 0.6589588521285427\n",
      "Concluding Statement 0.5676333849900377\n"
     ]
    },
    {
     "name": "stderr",
     "output_type": "stream",
     "text": [
      "2022-02-14 18:17:37,884 - INFO - 4,2:1559,val_score:0.593661144996981\n"
     ]
    },
    {
     "name": "stdout",
     "output_type": "stream",
     "text": [
      "Counterclaim 0.45308056872037916\n",
      "Rebuttal 0.36858771374287524\n",
      "save model weight\n",
      "============start epoch:3==============\n"
     ]
    },
    {
     "name": "stderr",
     "output_type": "stream",
     "text": [
      "100%|██████████| 1560/1560 [09:41<00:00,  2.68it/s]\n",
      "100%|██████████| 390/390 [00:40<00:00,  9.55it/s]\n",
      "100%|██████████| 3118/3118 [00:15<00:00, 200.86it/s]\n"
     ]
    },
    {
     "name": "stdout",
     "output_type": "stream",
     "text": [
      "\n",
      "Lead 0.8177943526904635\n",
      "Claim 0.6197708776113213\n",
      "Evidence 0.6603342128408092\n",
      "Position 0.6865065945214744\n"
     ]
    },
    {
     "name": "stderr",
     "output_type": "stream",
     "text": [
      "2022-02-14 18:28:29,165 - INFO - 4,3:1559,val_score:0.5984809653736721\n"
     ]
    },
    {
     "name": "stdout",
     "output_type": "stream",
     "text": [
      "Concluding Statement 0.5805604203152365\n",
      "Counterclaim 0.4594835262689225\n",
      "Rebuttal 0.3649167733674776\n",
      "save model weight\n",
      "============start epoch:4==============\n"
     ]
    },
    {
     "name": "stderr",
     "output_type": "stream",
     "text": [
      "100%|██████████| 1560/1560 [09:41<00:00,  2.68it/s]\n",
      "100%|██████████| 390/390 [00:40<00:00,  9.63it/s]\n",
      "100%|██████████| 3118/3118 [00:15<00:00, 200.03it/s]\n"
     ]
    },
    {
     "name": "stdout",
     "output_type": "stream",
     "text": [
      "\n",
      "Lead 0.8201859229747676\n",
      "Claim 0.6051601137156037\n",
      "Evidence 0.6524898737193233\n",
      "Position 0.6917193215829731\n"
     ]
    },
    {
     "name": "stderr",
     "output_type": "stream",
     "text": [
      "2022-02-14 18:39:19,026 - INFO - 4,4:1559,val_score:0.5951219070115378\n"
     ]
    },
    {
     "name": "stdout",
     "output_type": "stream",
     "text": [
      "Concluding Statement 0.5797294300288313\n",
      "Counterclaim 0.45963828848698723\n",
      "Rebuttal 0.35693039857227843\n",
      "============start epoch:5==============\n"
     ]
    },
    {
     "name": "stderr",
     "output_type": "stream",
     "text": [
      "100%|██████████| 1560/1560 [09:41<00:00,  2.68it/s]\n",
      "100%|██████████| 390/390 [00:40<00:00,  9.60it/s]\n",
      "100%|██████████| 3118/3118 [00:15<00:00, 200.86it/s]\n"
     ]
    },
    {
     "name": "stdout",
     "output_type": "stream",
     "text": [
      "\n",
      "Lead 0.8193926478423016\n",
      "Claim 0.6092346483164364\n",
      "Evidence 0.6556108995019044\n",
      "Position 0.6915481171548117\n"
     ]
    },
    {
     "name": "stderr",
     "output_type": "stream",
     "text": [
      "2022-02-14 18:50:00,668 - INFO - 4,5:1559,val_score:0.5967465765787745\n"
     ]
    },
    {
     "name": "stdout",
     "output_type": "stream",
     "text": [
      "Concluding Statement 0.576486013986014\n",
      "Counterclaim 0.45924627519719546\n",
      "Rebuttal 0.3657074340527578\n"
     ]
    },
    {
     "name": "stderr",
     "output_type": "stream",
     "text": [
      "2022-02-14 18:50:00,885 - INFO - [bart_large] done in 19530 s\n"
     ]
    }
   ],
   "source": [
    "# ================================\n",
    "# train\n",
    "# ================================\n",
    "with timer(\"bart_large\"):\n",
    "    set_seed(SEED)\n",
    "    oof = pd.DataFrame()\n",
    "    oof_pred = np.ndarray((0,max_len,15))\n",
    "    kf = KFold(n_splits=N_SPLITS, shuffle=SHUFFLE, random_state=SEED)\n",
    "    for fold, (train_idx, valid_idx) in enumerate(kf.split(id_array)):\n",
    "        print(f\"fold{fold}:start\")\n",
    "        x_train_token, x_train_attention, y_train  = train_tokens[train_idx], train_attention[train_idx], targets[train_idx]\n",
    "        x_val_token, x_val_attention, y_val  = train_tokens[valid_idx], train_attention[valid_idx], targets[valid_idx]\n",
    "        train_val = train[train.id.isin(id_array[valid_idx])].reset_index(drop=True)\n",
    "        \n",
    "        # dataset\n",
    "        train_ = TrainDataset( x_train_token, x_train_attention, y_train)\n",
    "        val_ = TrainDataset( x_val_token, x_val_attention, y_val)\n",
    "        \n",
    "        # loader\n",
    "        train_loader = DataLoader(dataset=train_, batch_size=BATCH_SIZE, shuffle = True ,pin_memory=True)\n",
    "        val_loader = DataLoader(dataset=val_, batch_size=BATCH_SIZE, shuffle = False , pin_memory=True)\n",
    "        \n",
    "        # model\n",
    "        model = custom_model()\n",
    "        model = model.to(device)\n",
    "        \n",
    "        # optimizer, scheduler\n",
    "        param_optimizer = list(model.named_parameters())\n",
    "        no_decay = ['bias', 'LayerNorm.bias', 'LayerNorm.weight']\n",
    "        optimizer_grouped_parameters = [\n",
    "            {'params': [p for n, p in param_optimizer if not any(nd in n for nd in no_decay)], 'weight_decay': weight_decay},\n",
    "            {'params': [p for n, p in param_optimizer if any(nd in n for nd in no_decay)], 'weight_decay': 0.0}\n",
    "        ]\n",
    "        optimizer = AdamW(optimizer_grouped_parameters,\n",
    "                          lr=lr,\n",
    "                          betas=beta,\n",
    "                          weight_decay=weight_decay,\n",
    "                          )\n",
    "        num_train_optimization_steps = int(len(train_loader) * n_epochs)\n",
    "        num_warmup_steps = int(num_train_optimization_steps * num_warmup_steps_rate)\n",
    "        scheduler = get_linear_schedule_with_warmup(optimizer,\n",
    "                                                    num_warmup_steps=num_warmup_steps,\n",
    "                                                    num_training_steps=num_train_optimization_steps)\n",
    "        \n",
    "        criterion = nn.BCEWithLogitsLoss()\n",
    "        best_val = 0\n",
    "        \n",
    "        for epoch in range(n_epochs):\n",
    "            print(f\"============start epoch:{epoch}==============\")\n",
    "            model.train() \n",
    "            val_losses_batch = []\n",
    "            scaler = GradScaler()\n",
    "            for i, d in tqdm(enumerate(train_loader),total=len(train_loader)):\n",
    "                d = collate(d)\n",
    "                ids = d['token'].to(device)\n",
    "                mask = d['mask'].to(device)\n",
    "                labels = d['y'].to(device)\n",
    "                #labels = labels.unsqueeze(-1)\n",
    "                optimizer.zero_grad()\n",
    "                with autocast():\n",
    "                    output = model(ids,mask)\n",
    "                    loss = criterion(output[mask == 1], labels[mask == 1])\n",
    "                scaler.scale(loss).backward()\n",
    "                #torch.nn.utils.clip_grad_norm_(model.parameters(), clip_grad_norm)\n",
    "                scaler.step(optimizer)\n",
    "                scaler.update()\n",
    "                scheduler.step()\n",
    "            \n",
    "            y_pred2 = []\n",
    "            val_preds = np.ndarray((0,max_len,15))\n",
    "            val_len = np.ndarray(0)\n",
    "            model.eval()  # switch model to the evaluation mode\n",
    "            with torch.no_grad():  \n",
    "                # Predicting on validation set\n",
    "                \n",
    "                for d in tqdm(val_loader,total=len(val_loader)):\n",
    "                    # =========================\n",
    "                    # data loader\n",
    "                    # =========================\n",
    "                    d = collate(d)\n",
    "                    ids = d['token'].to(device)\n",
    "                    mask = d['mask'].to(device)\n",
    "                    with autocast():\n",
    "                        outputs = model(ids, mask)\n",
    "                    outputs = np.concatenate([outputs.sigmoid().detach().cpu().numpy(),np.zeros([len(outputs),max_len - d[\"max_len\"],15])],axis=1)\n",
    "                    val_preds = np.concatenate([val_preds, outputs], axis=0)\n",
    "                    val_len = np.concatenate([val_len,np.array([d[\"max_len\"] for i in range(len(ids))])],axis=0)\n",
    "            val_preds_max = np.argmax(val_preds,axis=-1)\n",
    "            oof_ = get_preds_collate( dataset='train', verbose=True, text_ids=id_array[valid_idx],\n",
    "                                      preds = val_preds_max,preds_len=val_len)      \n",
    "            # COMPUTE F1 SCORE\n",
    "            f1s = []\n",
    "            CLASSES = oof_['class'].unique()\n",
    "            print()\n",
    "            for c in CLASSES:\n",
    "                pred_df = oof_.loc[oof_['class']==c].copy()\n",
    "                gt_df = train_val.loc[train_val['discourse_type']==c].copy()\n",
    "                f1 = score_feedback_comp(pred_df, gt_df)\n",
    "                print(c,f1)\n",
    "                f1s.append(f1)\n",
    "            score = np.mean(f1s)\n",
    "            LOGGER.info(f'{fold},{epoch}:{i},val_score:{score}')\n",
    "            if best_val < score:\n",
    "                print(\"save model weight\")\n",
    "                best_val = score\n",
    "                best_val_preds = val_preds\n",
    "                oof_best = oof_.copy()\n",
    "                torch.save(model.state_dict(), MODEL_PATH_BASE + f\"_{fold}.pth\") # Saving current best model\n",
    "        oof_best[\"fold\"] = fold\n",
    "        oof_best.to_csv(OUTPUT_DIR + f\"/ex{ex}_oof_{fold}.csv\",index=False)\n",
    "        np.save(OUTPUT_DIR + f\"/ex{ex}_oof_npy_{fold}.npy\",best_val_preds)"
   ]
  },
  {
   "cell_type": "code",
   "execution_count": 15,
   "id": "3be82f31",
   "metadata": {},
   "outputs": [
    {
     "name": "stdout",
     "output_type": "stream",
     "text": [
      "Lead 0.8169451585261354\n",
      "Claim 0.6146292088856345\n",
      "Evidence 0.666729542694788\n",
      "Position 0.6987814293866864\n",
      "Concluding Statement 0.6028228465901596\n",
      "Counterclaim 0.4712091226086137\n"
     ]
    },
    {
     "name": "stderr",
     "output_type": "stream",
     "text": [
      "2022-02-14 18:50:20,098 - INFO - CV:0.6073039997375556\n"
     ]
    },
    {
     "name": "stdout",
     "output_type": "stream",
     "text": [
      "Rebuttal 0.3800106894708712\n"
     ]
    }
   ],
   "source": [
    "oof = pd.DataFrame()\n",
    "for i in range(5):\n",
    "    oof__ = pd.read_csv(OUTPUT_DIR + f\"/ex{ex}_oof_{i}.csv\")\n",
    "    oof = pd.concat([oof,oof__]).reset_index(drop=True)\n",
    "# COMPUTE F1 SCORE\n",
    "f1s = []\n",
    "CLASSES = oof['class'].unique()\n",
    "for c in CLASSES:\n",
    "    pred_df = oof.loc[oof['class']==c].copy()\n",
    "    gt_df = train.loc[train['discourse_type']==c].copy()\n",
    "    f1 = score_feedback_comp(pred_df, gt_df)\n",
    "    print(c,f1)\n",
    "    f1s.append(f1)\n",
    "score = np.mean(f1s)\n",
    "LOGGER.info(f'CV:{score}')"
   ]
  }
 ],
 "metadata": {
  "kernelspec": {
   "display_name": "Python 3 (ipykernel)",
   "language": "python",
   "name": "python3"
  },
  "language_info": {
   "codemirror_mode": {
    "name": "ipython",
    "version": 3
   },
   "file_extension": ".py",
   "mimetype": "text/x-python",
   "name": "python",
   "nbconvert_exporter": "python",
   "pygments_lexer": "ipython3",
   "version": "3.7.10"
  }
 },
 "nbformat": 4,
 "nbformat_minor": 5
}
